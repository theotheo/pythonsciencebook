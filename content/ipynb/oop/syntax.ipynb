{
 "cells": [
  {
   "cell_type": "markdown",
   "metadata": {},
   "source": [
    "# Создание класса\n",
    "\n",
    "\n",
    "Примерный синтаксис:\n",
    "```\n",
    "class ClassName(Parent1, Parent2): \n",
    "    \"\"\" doc string \"\"\"\n",
    "    def __init__(self):\n",
    "        block1\n",
    "    \n",
    "    def foo(self):\n",
    "        block2\n",
    "    \n",
    "    def bar(self, x):\n",
    "        block3\n",
    "```"
   ]
  },
  {
   "cell_type": "markdown",
   "metadata": {},
   "source": [
    "### Задача \n",
    "\n",
    "Создайте класс Movie и определите конструктор класса со следующими параметрами:\n",
    "\n",
    "- заголовок\n",
    "- режиссёр\n",
    "- год выпуска\n",
    "\n",
    "Создайте объекты:\n",
    "\n",
    "- «Титаник» (реж. Джеймс Кэмерон, 1997)\n",
    "- «Звездные войны» (реж. Джордж Лукас, 1977)\n",
    "- «Бойцовский клуб» (реж. Дэвид Финчер, 1999)\n",
    "- и любой пожеланию\n",
    "\n",
    "Затем создайте метод, который возвращает возраст фильма в годах "
   ]
  }
 ],
 "metadata": {
  "kernelspec": {
   "display_name": "Python 3",
   "language": "python",
   "name": "python3"
  },
  "language_info": {
   "codemirror_mode": {
    "name": "ipython",
    "version": 3
   },
   "file_extension": ".py",
   "mimetype": "text/x-python",
   "name": "python",
   "nbconvert_exporter": "python",
   "pygments_lexer": "ipython3",
   "version": "3.6.8"
  }
 },
 "nbformat": 4,
 "nbformat_minor": 4
}

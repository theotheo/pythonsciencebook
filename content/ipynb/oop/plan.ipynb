{
 "cells": [
  {
   "cell_type": "code",
   "execution_count": 1,
   "metadata": {},
   "outputs": [
    {
     "ename": "SyntaxError",
     "evalue": "invalid syntax (<ipython-input-1-e3b7c62bbc60>, line 3)",
     "output_type": "error",
     "traceback": [
      "\u001b[0;36m  File \u001b[0;32m\"<ipython-input-1-e3b7c62bbc60>\"\u001b[0;36m, line \u001b[0;32m3\u001b[0m\n\u001b[0;31m    ...можно взять ооп, но на примерах\u001b[0m\n\u001b[0m           ^\u001b[0m\n\u001b[0;31mSyntaxError\u001b[0m\u001b[0;31m:\u001b[0m invalid syntax\n"
     ]
    }
   ],
   "source": [
    "\n",
    "\n",
    "...можно взять ооп, но на примерах\n",
    "\n",
    "\n",
    "\n",
    "И организацию модулей\n",
    "\n",
    "Для sklearn\n",
    "Поговорить о иерархии классов\n",
    "Создать кастомный трансформер\n",
    "Завернуть в трансформер mystem, например\n",
    "Я про basetransformer\n",
    "Питорч\n",
    "\n"
   ]
  },
  {
   "cell_type": "markdown",
   "metadata": {},
   "source": [
    "ссылка на лин-рег"
   ]
  },
  {
   "cell_type": "markdown",
   "metadata": {},
   "source": [
    "https://dziganto.github.io/classes/data%20science/linear%20regression/machine%20learning/object-oriented%20programming/python/Understanding-Object-Oriented-Programming-Through-Machine-Learning/"
   ]
  },
  {
   "cell_type": "markdown",
   "metadata": {},
   "source": [
    "ссылка на курс по ооп и машинке\n",
    "\n",
    "BIOF509 - Machine Learning and Object-Oriented Programming with Python\n",
    "\n",
    "Spring 2016"
   ]
  },
  {
   "cell_type": "markdown",
   "metadata": {},
   "source": [
    "https://github.com/briennakh/BIOF509"
   ]
  },
  {
   "cell_type": "markdown",
   "metadata": {},
   "source": [
    "ссылка на курс MakeSchool/Python-OOP"
   ]
  },
  {
   "cell_type": "markdown",
   "metadata": {},
   "source": [
    "https://github.com/MakeSchool/Python-OOP"
   ]
  },
  {
   "cell_type": "markdown",
   "metadata": {},
   "source": [
    "посмотреть на какой-нибудь веб-апи-клиент. \n",
    "они тоже часто организованы через объекты. \n",
    "например, https://discordpy.readthedocs.io/en/latest/api.html#discord-models\n",
    "\n",
    "slack https://github.com/slackapi/python-slackclient\n",
    "\n",
    "pymystem3 тоже ООПшный: https://github.com/nlpub/pymystem3\n",
    "\n",
    "то есть это на тему возражения: \"зачем ООП, мы не пользуемся. на самом деле в Питоне все постоянно пользуются ООП. и многие либы созданы такими\""
   ]
  },
  {
   "cell_type": "markdown",
   "metadata": {},
   "source": [
    "https://medium.com/@DakshHub/object-oriented-python-class-es-and-object-s-f9f016674e40"
   ]
  },
  {
   "cell_type": "markdown",
   "metadata": {},
   "source": [
    "https://rushter.com/blog/python-class-internals/"
   ]
  },
  {
   "cell_type": "code",
   "execution_count": null,
   "metadata": {},
   "outputs": [],
   "source": [
    "нужно придумать пример, как какой-то код становиться ООП\n",
    "\n",
    "типа как-то в словарях все хранили\n",
    "\n",
    "а потом — вжух — классы\n",
    "\n",
    "надо придумать простой, но реальный кейс\n",
    "\n",
    "мне приходит только про что-нибудь про веб-скрепинг пока\n",
    "\n",
    "хммм\n",
    "\n",
    "да и то сомнительно"
   ]
  },
  {
   "cell_type": "markdown",
   "metadata": {},
   "source": [
    "http://sthurlow.com/python/lesson08/\n",
    "\n",
    "ссылка на книгу mastering object-oriented python"
   ]
  },
  {
   "cell_type": "markdown",
   "metadata": {},
   "source": [
    "http://93.174.95.29/_ads/C3720160DCE8F2A57DF43EA00EB15380"
   ]
  },
  {
   "cell_type": "markdown",
   "metadata": {},
   "source": [
    "что я так делал...\n",
    "\n",
    "помню заворачивал что-то для udpipe-деревьев\n",
    "для ржд-апи\n",
    "для парсинга пейперов"
   ]
  },
  {
   "cell_type": "markdown",
   "metadata": {},
   "source": [
    "Анна Анисимова, [27 окт. 2019 г., 0:42:14]:\n",
    "у меня из реального только модель или пайплайн с препроцессингом. \n",
    "там параметры в ините. стопслова например.\n",
    "а из учебного примера структура данных, вот дерево например, оно один раз создается, а потом там всякие методы удалить добавить найти минмум максимум.\n",
    "\n",
    "I Апрельский, [27 окт. 2019 г., 0:42:16]:\n",
    "в терминах ООП задуматься еще полезно, потому что так можно в целом смотреть на системы\n",
    "\n",
    "дерево в ооп то бишь?\n",
    "\n",
    "хороший пример"
   ]
  },
  {
   "cell_type": "markdown",
   "metadata": {},
   "source": [
    "I Апрельский, [27 окт. 2019 г., 0:54:49]:\n",
    "может как-то так\n",
    "\n",
    "-концептуальная часть\n",
    "— давайте представим какую-то вещь (например, дерево). что мы с ним можем делать? пойти туда, сюда, вверх, добавить, убрать ...\n",
    "— имеем множество операций — можно сказать, что это язык в терминах которого мы говорим о деревьях... \n",
    "— какие еще вещи мы можем о них сказать?... язык может расширяться?\n",
    "— давайте нарисуем картинку с кнопочками/формами для каждой операции...  — получили интерфейс/gui?\n",
    "— кстати, программисты и это называют интерфейсом. но скорее программным интерфейсом... API\n",
    "\n",
    "- часть на питоне\n",
    "— напишем пример класса и объекта очень простого: за 1 минуту\n",
    "— напишем пример класса дерева\n",
    "— посмотрим пример других классов sklearn...\n",
    "— напишем трансформер\n",
    "\n",
    "не понятно как от API перейти к дихотомии класс/объект. непонятно как прийти к наследованию\n",
    "\n",
    "как говорить про наследование? про self?"
   ]
  },
  {
   "cell_type": "markdown",
   "metadata": {},
   "source": [
    "слоты\n",
    "\n",
    "https://blog.usejournal.com/a-quick-dive-into-pythons-slots-72cdc2d334e"
   ]
  },
  {
   "cell_type": "markdown",
   "metadata": {},
   "source": [
    "чувак на питоне пишет код, который примерно работает как настоящее ооп на питоне \n",
    "http://www.aosabook.org/en/500L/a-simple-object-model.html"
   ]
  },
  {
   "cell_type": "markdown",
   "metadata": {},
   "source": [
    "родительский класс не нужен\n",
    "\n",
    "для определения интерфейса\n",
    "\n",
    "само наличие методов\n",
    "\n",
    "задает интерфейс\n",
    "\n",
    "это называется еще\n",
    "\n",
    "duck typing\n",
    "\n",
    "то есть это настолько не нужно, что можно удалить — и ничего не......изменится)\n",
    "\n",
    "https://stackoverflow.com/questions/44097280/duck-typing-vs-class-based-inheritance\n",
    "\n",
    "https://hackernoon.com/python-duck-typing-or-automatic-interfaces-73988ec9037f\n",
    "\n",
    "о. прикольный термин\n",
    "\n",
    "automatic interfaces\n",
    "\n",
    "то есть можно от интерфейса перейти к наследованию интерфейсов\n",
    "\n",
    "https://kotlinfrompython.com/2018/08/19/interfaces-delegation-composition-vs-multiple-inheritance-duck-typing/"
   ]
  },
  {
   "cell_type": "code",
   "execution_count": null,
   "metadata": {},
   "outputs": [],
   "source": [
    "I Апрельский, [27 окт. 2019 г., 13:02:32]:\n",
    "если вот так вот\n",
    "\n",
    "class Data():\n",
    "    def read_data():\n",
    "        pass \n",
    "\n",
    "    def statistics():\n",
    "      # код для статистики по данным\n",
    "\n",
    "    def apply():\n",
    "     # код для apply\n",
    "\n",
    "class CSV(Data):\n",
    "    def read_data():\n",
    "       # читаем csv\n",
    "\n",
    "class JSON(Data):\n",
    "    def read_data():\n",
    "      # читаем json\n",
    "\n",
    "вот если так, то наследование пригождается\n",
    "\n",
    "потому что мы тут наследует имплементацию!\n",
    "\n",
    "а не просто интерфейс\n",
    "\n",
    "интерфейсы в питоне наследовать излишне\n",
    "\n",
    "они вон как красиво сказано — автоматические)\n",
    "\n",
    "в тоже время множественное наследование рекомендуют заменять композицией"
   ]
  },
  {
   "cell_type": "markdown",
   "metadata": {},
   "source": [
    "про это даже в википедии есть статья\n",
    "\n",
    "https://en.wikipedia.org/wiki/Composition_over_inheritance\n",
    "\n",
    "https://thoughtbot.com/blog/reusable-oo-composition-vs-inheritance\n",
    "\n",
    "https://stackoverflow.com/questions/3085285/difference-between-cohesion-and-coupling\n",
    "\n",
    "про это надо поговорить еще))))))))\n",
    "\n",
    "о. придумал задание на это...\n",
    "дан большой класс с кучей всяких методов... и надо его разделить на несколько — чтобы High Cohesion\n",
    "\n",
    "https://i.stack.imgur.com/DOEn7.png\n",
    "\n",
    "ух какая картинка хорошая\n",
    "\n",
    "I Апрельский, [27 окт. 2019 г., 13:17:57]:\n",
    "большой класс для всего еще зовут God Object\n",
    "\n",
    "и это пример так называемого анти-паттерна!\n",
    "\n",
    "https://en.wikipedia.org/wiki/God_object\n",
    "\n",
    "а от анти-паттернов (плохих паттернов) можно прийти просто к паттернам (хорошим паттернам)!\n",
    "\n",
    "можно в качестве примера для проблемы взять что-то типа из GUI или веб-разработки — тогда по идее God Object должен разложиться на 3 части: Model, View, Controller... то есть это будет пример паттерна MVC\n",
    "\n",
    "а это главный такой паттерн в веб-разработке. вокруг него устроены Django, например. и другие веб-фреймворки\n",
    "\n",
    "то бишь прийти тут к OO Design в его разном виде\n",
    "\n",
    "упомянуть про такие штуки https://en.wikipedia.org/wiki/Object-oriented_analysis_and_design\n",
    "\n",
    "https://en.wikipedia.org/wiki/Object-oriented_design\n",
    "\n"
   ]
  },
  {
   "cell_type": "markdown",
   "metadata": {},
   "source": [
    "\n",
    "Это тебе задача\n",
    "\n",
    "Найти идеи для практики\n",
    "\n",
    "Подсмотреть:\n",
    "- в чужих курсах\n",
    "- книгах\n",
    "- тетрадках\n",
    "- придумать\n",
    "\n",
    "и через ООП прийти к исключениям... хммм\n",
    "\n",
    "типа ООП — это про инкапсуляцию\n",
    "\n",
    "и исключения — это в ту же сторону\n",
    "\n",
    "инкапсулируем проблемы, что ли\n",
    "\n",
    "https://softwareengineering.stackexchange.com/questions/181850/are-exceptions-an-oop-concept\n",
    "\n",
    "хотя пишут, что они unrelated\n",
    "\n",
    "хммм\n",
    "\n",
    "тогда лучше с другой стороны смотреть\n",
    "\n",
    "\n",
    "https://python-textbok.readthedocs.io/en/1.0/Errors_and_Exceptions.html\n",
    "\n",
    "про ошибки:\n",
    "- они есть — в программах встречаются ошибки и все такое\n",
    "- есть уровня компиляции (syntax errors), есть уровня выполнения (все остальные?)\n",
    "- как можно обрабатывать ошибки? просто проверки и типа assert\n",
    "- их можно обрабатываться специальным синтаксисом (try/except)\n",
    "- ошибки можно вызывать (raise)\n",
    "- можно и нужно создавать свой класс ошибок\n",
    "- логгирование ошибок\n",
    "\n",
    "еще и другие способы контроля качества кода надо как-то прикрутить... тесты, линтеры...\n",
    "\n",
    "субклассирование"
   ]
  },
  {
   "cell_type": "code",
   "execution_count": null,
   "metadata": {},
   "outputs": [],
   "source": []
  },
  {
   "cell_type": "markdown",
   "metadata": {},
   "source": [
    "KNN через класс  \n",
    "https://www.kaggle.com/lizhuping/knn-from-scratch-in-python-at-97-1"
   ]
  },
  {
   "cell_type": "code",
   "execution_count": null,
   "metadata": {},
   "outputs": [],
   "source": [
    "class simple_knn():\n",
    "\n",
    "    * def init(self):\n",
    "    * def train(self, X, y):     self.X_train, self.y_train\n",
    "    * def predict(self, X, k=1):     return y_pred\n",
    "    * def compute_distances(self, X):     return dists"
   ]
  },
  {
   "cell_type": "markdown",
   "metadata": {},
   "source": [
    "КNN через функции\n",
    "https://machinelearningmastery.com/tutorial-to-implement-k-nearest-neighbors-in-python-from-scratch/"
   ]
  },
  {
   "cell_type": "code",
   "execution_count": null,
   "metadata": {},
   "outputs": [],
   "source": [
    "def euclidean_distance(row1, row2):    return distance\n",
    "\n",
    "def get_neighbors(train, test_row, num_neighbors):      return neighbors\n",
    "\n",
    "def predict_classification(train, test_row, num_neighbors):    return prediction"
   ]
  },
  {
   "cell_type": "markdown",
   "metadata": {},
   "source": [
    "RandomForest"
   ]
  },
  {
   "cell_type": "markdown",
   "metadata": {},
   "source": [
    "https://towardsdatascience.com/random-forests-and-decision-trees-from-scratch-in-python-3e4fa5ae4249"
   ]
  },
  {
   "cell_type": "code",
   "execution_count": null,
   "metadata": {},
   "outputs": [],
   "source": [
    "class RandomForest():\n",
    "\n",
    "     * def init(self, x, y, n_trees, n_features, sample_sz, depth=10, min_leaf=5): \n",
    "     * def create_tree(self):    return DecisionTree\n",
    "     * def predict(self, x):\n",
    "\n",
    "\n",
    "def std_agg(cnt, s1, s2)\n",
    "\n",
    "\n",
    "class DecisionTree():\n",
    "    \n",
    "    *  def init(self, x, y, n_features, f_idxs,idxs,depth=10, min_leaf=5):\n",
    "    *  def find_varsplit(self):\n",
    "    *  def find_better_split(self, var_idx):\n",
    "    * @property\n",
    "             def split_name(self): \n",
    "    * @property\n",
    "             def split_col(self): \n",
    "    * @property\n",
    "             def is_leaf(self):  \n",
    "    *  def predict(self, x):\n",
    "    *  def predict_row(self, xi):"
   ]
  }
 ],
 "metadata": {
  "kernelspec": {
   "display_name": "Python 3",
   "language": "python",
   "name": "python3"
  },
  "language_info": {
   "codemirror_mode": {
    "name": "ipython",
    "version": 3
   },
   "file_extension": ".py",
   "mimetype": "text/x-python",
   "name": "python",
   "nbconvert_exporter": "python",
   "pygments_lexer": "ipython3",
   "version": "3.6.8"
  }
 },
 "nbformat": 4,
 "nbformat_minor": 4
}

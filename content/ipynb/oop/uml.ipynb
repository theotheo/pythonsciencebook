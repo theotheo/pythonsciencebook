{
 "cells": [
  {
   "cell_type": "markdown",
   "metadata": {},
   "source": [
    "# Unified Modeling Language (UML)\n",
    "\n",
    "много диаграмм\n",
    "![](https://upload.wikimedia.org/wikipedia/commons/d/d6/Uml_diagram2.png)\n",
    "\n",
    "## Диаграмма классов\n",
    "![](https://upload.wikimedia.org/wikipedia/commons/thumb/6/66/KP-UML-Generalization-20060325.svg/1920px-KP-UML-Generalization-20060325.svg.png)\n",
    "\n",
    "## Диаграмма последовательностей\n",
    "![](https://developer.ibm.com/developer/articles/the-sequence-diagram/images/3101_figure9.jpg)"
   ]
  },
  {
   "cell_type": "markdown",
   "metadata": {},
   "source": [
    "Часто встречающаяся иллюстрация к наследованию в ООП -- это таксономия животных. \n",
    "На мой взгляд, это больше аллюзия, чем аналогия. Дело в том, что логика программирования связана с другими императивами, чем логика эволюции. \n",
    "\n",
    "![](https://upload.wikimedia.org/wikipedia/commons/0/0e/Хронограмма_современных_типов_животных_2017-09-06.png)\n",
    "\n",
    "https://ru.wikipedia.org/wiki/Животные"
   ]
  },
  {
   "cell_type": "markdown",
   "metadata": {},
   "source": [
    "Скорее иерархия классов в программирование будет похожа на ту, что описана Борхесом\n",
    "\n",
    "![](https://cs9.pikabu.ru/post_img/2018/02/24/10/1519493040120816029.png)\n",
    "\n",
    "https://pikabu.ru/story/kitayskie_zhivotnyie_5733992"
   ]
  },
  {
   "cell_type": "code",
   "execution_count": null,
   "metadata": {},
   "outputs": [],
   "source": []
  },
  {
   "cell_type": "markdown",
   "metadata": {},
   "source": [
    "## Pynsource\n",
    "\n",
    "\n",
    "### ELI5\n",
    "![](images/5.png)"
   ]
  },
  {
   "cell_type": "markdown",
   "metadata": {},
   "source": [
    "## Архитектура ПО\n",
    "\n",
    "![](https://miro.medium.com/max/1400/1*4pVKOGNE8MGgZbTgvDhKIQ.png)"
   ]
  },
  {
   "cell_type": "markdown",
   "metadata": {},
   "source": [
    "![](images/1.png)"
   ]
  },
  {
   "cell_type": "markdown",
   "metadata": {},
   "source": [
    "![](images/2.png)\n",
    "![](images/3.png)\n",
    "![](images/4.png)"
   ]
  }
 ],
 "metadata": {
  "kernelspec": {
   "display_name": "Python 3",
   "language": "python",
   "name": "python3"
  },
  "language_info": {
   "codemirror_mode": {
    "name": "ipython",
    "version": 3
   },
   "file_extension": ".py",
   "mimetype": "text/x-python",
   "name": "python",
   "nbconvert_exporter": "python",
   "pygments_lexer": "ipython3",
   "version": "3.6.8"
  }
 },
 "nbformat": 4,
 "nbformat_minor": 4
}

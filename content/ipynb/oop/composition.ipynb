{
 "cells": [
  {
   "cell_type": "code",
   "execution_count": 1,
   "metadata": {},
   "outputs": [],
   "source": [
    "# Composition"
   ]
  },
  {
   "cell_type": "markdown",
   "metadata": {},
   "source": [
    "про это даже в википедии есть статья\n",
    "\n",
    "https://en.wikipedia.org/wiki/Composition_over_inheritance\n",
    "\n",
    "https://thoughtbot.com/blog/reusable-oo-composition-vs-inheritance\n",
    "\n",
    "https://stackoverflow.com/questions/3085285/difference-between-cohesion-and-coupling\n",
    "\n",
    "про это надо поговорить еще))))))))\n",
    "\n",
    "о. придумал задание на это...\n",
    "дан большой класс с кучей всяких методов... и надо его разделить на несколько — чтобы High Cohesion\n",
    "\n",
    "https://i.stack.imgur.com/DOEn7.png\n",
    "\n",
    "ух какая картинка хорошая\n"
   ]
  }
 ],
 "metadata": {
  "kernelspec": {
   "display_name": "Python 3",
   "language": "python",
   "name": "python3"
  },
  "language_info": {
   "codemirror_mode": {
    "name": "ipython",
    "version": 3
   },
   "file_extension": ".py",
   "mimetype": "text/x-python",
   "name": "python",
   "nbconvert_exporter": "python",
   "pygments_lexer": "ipython3",
   "version": "3.6.8"
  }
 },
 "nbformat": 4,
 "nbformat_minor": 4
}

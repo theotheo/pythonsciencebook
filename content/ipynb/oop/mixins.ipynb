{
 "cells": [
  {
   "cell_type": "markdown",
   "metadata": {},
   "source": [
    "# Mixins\n",
    "\n",
    "Миксины -- это особый вариант наследования. Вы можете использовать миксины, чтобы разделять методы между любыми классами, что наследуются от миксина. Рассмотрим простой пример"
   ]
  },
  {
   "cell_type": "code",
   "execution_count": 9,
   "metadata": {},
   "outputs": [],
   "source": [
    "import math\n",
    "\n",
    "class DistanceToMixin:\n",
    "    def distance_to_origin(self):\n",
    "        return math.hypot(self.x, self.y)\n",
    "    def distance_to(self, other):\n",
    "        return math.hypot(self.x - other.x, self.y - other.y)"
   ]
  },
  {
   "cell_type": "code",
   "execution_count": 10,
   "metadata": {},
   "outputs": [],
   "source": [
    "class PointD(DistanceToMixin):\n",
    "    __slots__ = (\"x\", \"y\")\n",
    "    def __init__(self, x=0, y=0):\n",
    "        self.x = x\n",
    "        self.y = y\n",
    "    def manhattan_length(self, other=None):\n",
    "        if other is None:\n",
    "            other = self.__class__() # Point(0, 0)\n",
    "        return math.fabs(self.x - other.x) + math.fabs(self.y - other.y)"
   ]
  },
  {
   "cell_type": "code",
   "execution_count": 13,
   "metadata": {},
   "outputs": [
    {
     "data": {
      "text/plain": [
       "<__main__.PointD at 0x7ff9900f68b8>"
      ]
     },
     "execution_count": 13,
     "metadata": {},
     "output_type": "execute_result"
    }
   ],
   "source": [
    "p1 = PointD(10, 10)\n",
    "p1"
   ]
  },
  {
   "cell_type": "code",
   "execution_count": 14,
   "metadata": {},
   "outputs": [
    {
     "data": {
      "text/plain": [
       "14.142135623730951"
      ]
     },
     "execution_count": 14,
     "metadata": {},
     "output_type": "execute_result"
    }
   ],
   "source": [
    "p1.distance_to_origin()"
   ]
  },
  {
   "cell_type": "code",
   "execution_count": 16,
   "metadata": {},
   "outputs": [],
   "source": [
    "p2 = PointD(0, -15)"
   ]
  },
  {
   "cell_type": "code",
   "execution_count": 17,
   "metadata": {},
   "outputs": [
    {
     "data": {
      "text/plain": [
       "35.0"
      ]
     },
     "execution_count": 17,
     "metadata": {},
     "output_type": "execute_result"
    }
   ],
   "source": [
    "p1.manhattan_length(p2)"
   ]
  },
  {
   "cell_type": "markdown",
   "metadata": {},
   "source": [
    "Или представим себе более абстрактный, но и более общий пример"
   ]
  },
  {
   "cell_type": "code",
   "execution_count": 1,
   "metadata": {},
   "outputs": [],
   "source": [
    "import logging\n",
    "\n",
    "class EssentialFunctioner(object):\n",
    "    def __init__(self):\n",
    "#         ...\n",
    "        \n",
    "        self.logger = logging.getLogger(\n",
    "            '.'.join([\n",
    "                self.__module__,\n",
    "                self.__class__.__name__\n",
    "            ])\n",
    "        )\n",
    "    def do_the_thing(self):\n",
    "        try:\n",
    "#             2 + 2\n",
    "        except BadThing:\n",
    "            self.logger.error('OH NOES')\n",
    "            \n"
   ]
  },
  {
   "cell_type": "code",
   "execution_count": 2,
   "metadata": {},
   "outputs": [],
   "source": [
    "import logging\n",
    "class LoggerMixin(object):\n",
    "    @property\n",
    "    def logger(self):\n",
    "        name = '.'.join([\n",
    "            self.__module__,\n",
    "            self.__class__.__name__\n",
    "        ])\n",
    "        return logging.getLogger(name)"
   ]
  },
  {
   "cell_type": "code",
   "execution_count": 3,
   "metadata": {},
   "outputs": [],
   "source": [
    "class EssentialFunctioner(LoggerMixin, object):\n",
    "    def do_the_thing(self):\n",
    "        try:\n",
    "            ...\n",
    "        except BadThing:\n",
    "            self.logger.error('OH NOES')\n",
    "\n",
    "class BusinessLogicer(LoggerMixin, object):\n",
    "    def __init__(self):\n",
    "        super().__init__()\n",
    "        self.logger.debug('Giving the logic the business...')"
   ]
  },
  {
   "cell_type": "markdown",
   "metadata": {},
   "source": [
    "## Источники и ссылки\n",
    "- https://easyaspython.com/mixins-for-fun-and-profit-cb9962760556 \n",
    "- http://www.qtrac.eu/pyagg.html"
   ]
  }
 ],
 "metadata": {
  "kernelspec": {
   "display_name": "Python 3",
   "language": "python",
   "name": "python3"
  },
  "language_info": {
   "codemirror_mode": {
    "name": "ipython",
    "version": 3
   },
   "file_extension": ".py",
   "mimetype": "text/x-python",
   "name": "python",
   "nbconvert_exporter": "python",
   "pygments_lexer": "ipython3",
   "version": "3.6.8"
  }
 },
 "nbformat": 4,
 "nbformat_minor": 4
}

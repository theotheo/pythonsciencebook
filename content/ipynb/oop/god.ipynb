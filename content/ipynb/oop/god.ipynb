{
 "cells": [
  {
   "cell_type": "markdown",
   "metadata": {},
   "source": [
    "большой класс для всего еще зовут God Object\n",
    "\n",
    "и это пример так называемого анти-паттерна!\n",
    "\n",
    "https://en.wikipedia.org/wiki/God_object\n",
    "\n",
    "а от анти-паттернов (плохих паттернов) можно прийти просто к паттернам (хорошим паттернам)!\n",
    "\n",
    "можно в качестве примера для проблемы взять что-то типа из GUI или веб-разработки — тогда по идее God Object должен разложиться на 3 части: Model, View, Controller... то есть это будет пример паттерна MVC\n",
    "\n",
    "а это главный такой паттерн в веб-разработке. вокруг него устроены Django, например. и другие веб-фреймворки\n",
    "\n",
    "то бишь прийти тут к OO Design в его разном виде\n",
    "\n",
    "упомянуть про такие штуки https://en.wikipedia.org/wiki/Object-oriented_analysis_and_design\n",
    "\n",
    "https://en.wikipedia.org/wiki/Object-oriented_design\n"
   ]
  }
 ],
 "metadata": {
  "kernelspec": {
   "display_name": "Python 3",
   "language": "python",
   "name": "python3"
  },
  "language_info": {
   "codemirror_mode": {
    "name": "ipython",
    "version": 3
   },
   "file_extension": ".py",
   "mimetype": "text/x-python",
   "name": "python",
   "nbconvert_exporter": "python",
   "pygments_lexer": "ipython3",
   "version": "3.6.8"
  }
 },
 "nbformat": 4,
 "nbformat_minor": 4
}

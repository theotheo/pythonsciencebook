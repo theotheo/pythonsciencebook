{
 "cells": [
  {
   "cell_type": "markdown",
   "metadata": {},
   "source": [
    "# 1. Cоздание класса\n",
    "\n",
    "### Задача 1.1:\n",
    "\n",
    "`class`, `атрибуты`, `методы`, `__init__`, `self`\n",
    "\n",
    "Создайте класс Movie и определите конструктор класса со следующими параметрами:\n",
    "\n",
    "- заголовок\n",
    "- режиссёр\n",
    "- год выпуска\n",
    "\n",
    "Создайте объекты:\n",
    "\n",
    "- «Титаник» (реж. Джеймс Кэмерон, 1997)\n",
    "- «Звездные войны» (реж. Джордж Лукас, 1977)\n",
    "- «Бойцовский клуб» (реж. Дэвид Финчер, 1999)\n",
    "\n",
    "Затем создайте метод, который возвращает возраст фильма в годах \n",
    "\n",
    "### Решение:"
   ]
  },
  {
   "cell_type": "code",
   "execution_count": null,
   "metadata": {},
   "outputs": [],
   "source": [
    "class Movie:\n",
    "    def __init__(self, ...):\n",
    "        self.title = ...\n",
    "\n",
    "    def get_movie_age(self):\n",
    "        pass"
   ]
  },
  {
   "cell_type": "markdown",
   "metadata": {},
   "source": [
    "# 2. Aтрибуты класса\n",
    "\n",
    "### Задача 2.1:\n",
    "\n",
    "Объясните разницу между атрибутами:\n",
    "\n",
    "- name\n",
    "- surname\n",
    "- profession\n",
    "\n",
    "а так же какие значения они могут принимать для различных объектов данного класса."
   ]
  },
  {
   "cell_type": "code",
   "execution_count": 2,
   "metadata": {},
   "outputs": [],
   "source": [
    "class Smith:\n",
    "    surname = \"Smith\"\n",
    "    profession = \"smith\"\n",
    "\n",
    "    def __init__(self, name, profession=None):\n",
    "        self.name = name\n",
    "        \n",
    "        if profession is not None:\n",
    "            self.profession = profession"
   ]
  },
  {
   "cell_type": "markdown",
   "metadata": {},
   "source": [
    "### Решение:\n",
    "\n",
    "`name` – всегда атрибут объекта, который задается в конструкторе. У каждого объекта свое значение имени. \n",
    "\n",
    "`surname` – всегда атрибут класса, и он не может быть переписан в конструкторе – у каждого объекта по умолчанию `surname == \"Smith\"`\n",
    "\n",
    "`profession` –  атрибут класса, но он может быть заменен атрибутом объекта в конструкторе, a до тех пор у всех объектов `profession == \"smith\"`."
   ]
  },
  {
   "cell_type": "markdown",
   "metadata": {},
   "source": [
    "# 3. Декораторы класса\n",
    "\n",
    "`classmethod`, `staticmethod`, `property`, `name.setter`, `name.deleter`\n",
    "\n",
    "### Задача 3.1:\n",
    "\n",
    "Создайте класс `Numbers` с одним атрибутом `MULTIPLIER`, и с конструктором, который принимает параметры `x` and `y` (они должны быть числами).\n",
    "\n",
    "- Напишите метод `add` который возвращает сумму атрибутов `x` и `y`\n",
    "- Напишите метод класса `multiply`, который принимает один числовой параметр `a` и возвращает произведение `a` и `MULTIPLIER`\n",
    "- Напишите статический метод `subtract`, который принимает два числовых параметра `b` and `c` и возвращает `b - c`\n",
    "- Напишите метод `value` который возвращает кортеж, содержащий значения `x` и `y`\n",
    "- Превратите этот метод в свойство (`property`)\n",
    "- и напишите `setter` и `deleter` для работы с переменными `x` и `y`\n",
    "\n",
    "### Решение:"
   ]
  },
  {
   "cell_type": "code",
   "execution_count": 3,
   "metadata": {},
   "outputs": [],
   "source": [
    "class Numbers:\n",
    "    MULTIPLIER = 3.5\n",
    "\n",
    "    def __init__(self, x, y):\n",
    "        self.x = x\n",
    "        self.y = y\n",
    "\n",
    "    def add(self):\n",
    "        return self.x + self.y\n",
    "\n",
    "    @classmethod\n",
    "    def multiply(cls, a):\n",
    "        return cls.MULTIPLIER * a\n",
    "\n",
    "    @staticmethod\n",
    "    def subtract(b, c):\n",
    "        return b - c\n",
    "\n",
    "    @property\n",
    "    def value(self):\n",
    "        return (self.x, self.y)\n",
    "\n",
    "    @value.setter\n",
    "    def value(self, xy_tuple):\n",
    "        self.x, self.y = xy_tuple\n",
    "\n",
    "    @value.deleter\n",
    "    def value(self):\n",
    "        del self.x\n",
    "        del self.y"
   ]
  },
  {
   "cell_type": "markdown",
   "metadata": {},
   "source": [
    "# 4. Перегрузка магических методов\n",
    "\n",
    "### Задача 4.1:\n",
    "\n",
    "`__init__`, `__str__`\n",
    "\n",
    "Посмотрите на класс `Element`:"
   ]
  },
  {
   "cell_type": "code",
   "execution_count": 5,
   "metadata": {},
   "outputs": [
    {
     "name": "stdout",
     "output_type": "stream",
     "text": [
      "name=Hydrogen, symbol=H, number=1\n"
     ]
    }
   ],
   "source": [
    "class Element:\n",
    "    def __init__(self, name, symbol, number):\n",
    "        self.name = name\n",
    "        self.symbol = symbol\n",
    "        self.number = number\n",
    "\n",
    "    def dump(self):\n",
    "        print('name={}, symbol={}, number={}'.format(self.name, self.symbol, self.number))\n",
    "\n",
    "kwargs = {'name': 'Hydrogen', 'symbol': 'H', 'number': 1}\n",
    "\n",
    "hydrogen = Element(**kwargs)\n",
    "hydrogen.dump()"
   ]
  },
  {
   "cell_type": "markdown",
   "metadata": {},
   "source": [
    "Вызовите метод `print(hydrogen)`. \n",
    "\n",
    "В классе `Element` измените имя метода `dump` на `__str__`\n",
    "\n",
    "Cоздайте новый объект hydrogen и вызовите `print(hydrogen)` снова.\n",
    "\n",
    "### решение:"
   ]
  },
  {
   "cell_type": "code",
   "execution_count": 6,
   "metadata": {},
   "outputs": [
    {
     "name": "stdout",
     "output_type": "stream",
     "text": [
      "<__main__.Element object at 0x7f643c6377f0>\n",
      "name=Hydrogen, symbol=H, number=1\n"
     ]
    }
   ],
   "source": [
    "print(hydrogen)\n",
    "\n",
    "class Element:\n",
    "    def __init__(self, name, symbol, number):\n",
    "        self.name = name\n",
    "        self.symbol = symbol\n",
    "        self.number = number\n",
    "\n",
    "    def __str__(self):\n",
    "        return ('name={}, symbol={}, number={}'.format(self.name, self.symbol, self.number))\n",
    "\n",
    "hydrogen = Element(**kwargs)\n",
    "print(hydrogen)"
   ]
  },
  {
   "cell_type": "markdown",
   "metadata": {},
   "source": [
    "### Задача 4.2:\n",
    "\n",
    "`__class__`, `__name__`, `__dict__`, `__str__`, `setattr(obj, key, value)`\n",
    "\n",
    "Напишите класс для создания генеративных объектов. Его конструктор должен принимать любое количество пар ключ-значение и устанавливать значения в качестве атрибутов объекта, а ключи – в качестве имен данных атрибутов.\n",
    "\n",
    "Напишите метод `__str__` для класса. Возвращаемая строка должна содержать имя класса и значения всех пользовательских атрибутов объекта.\n",
    "\n",
    "### Решение:"
   ]
  },
  {
   "cell_type": "code",
   "execution_count": 7,
   "metadata": {},
   "outputs": [
    {
     "name": "stdout",
     "output_type": "stream",
     "text": [
      "AnyClass: title=Dr name=John surname=Doe\n"
     ]
    }
   ],
   "source": [
    "class AnyClass:\n",
    "    def __init__(self, **kwargs):\n",
    "        for k, v in kwargs.items():\n",
    "            setattr(self, k, v)\n",
    "\n",
    "    def __str__(self):\n",
    "        attrs = [\"{}={}\".format(k, v) for (k, v) in self.__dict__.items()]\n",
    "        classname = self.__class__.__name__\n",
    "        return \"{}: {}\" .format(classname, \" \".join(attrs))\n",
    "\n",
    "a = AnyClass(title='Dr', name='John', surname='Doe')\n",
    "print(a)"
   ]
  },
  {
   "cell_type": "markdown",
   "metadata": {},
   "source": [
    "# 5. Наследование\n",
    "\n",
    "`Exception`\n",
    "\n",
    "### Задача 5.1:\n",
    "\n",
    "Очень распространенным вариантом использования наследования является создание пользовательской иерархии исключений.\n",
    "\n",
    "Напишите простую программу, которая перебирает список пользовательских данных (кортежи, содержащие имя пользователя, адрес электронной почты и возраст) и добавляет каждого пользователя в каталог, если он проходит по заданным ниже условиям. \n",
    "\n",
    "Напишите простую иерархию исключений, которая определяет разные исключения для каждого из следующих состояний ошибки:\n",
    "\n",
    "- имя пользователя не уникально\n",
    "- возраст не является положительным целым числом\n",
    "- пользователь моложе 16 лет\n",
    "- адрес электронной почты недействителен (достаточно просто проверить имя пользователя, символ @ и доменное имя). \n",
    "\n",
    "При несоблюдении этих условий поднимите соответвующие исключения в своей программе. \n",
    "\n",
    "Всякий раз, когда возникает исключение, ваша программа должна перейти к следующему набору данных в списке.\n",
    "\n",
    "Распечатайте разные сообщения об ошибках для каждого вида исключения.\n",
    "\n",
    "Вы можете считать адрес электронной почты действительным, если он содержит один символ @ и имеет непустое имя пользователя и имя домена.\n",
    "\n",
    "### Решение:"
   ]
  },
  {
   "cell_type": "code",
   "execution_count": 9,
   "metadata": {},
   "outputs": [],
   "source": [
    "user_data = [\n",
    "    (\"jane\", \"jane@example.com\", 21),\n",
    "    (\"bob\", \"bob@example\", 19),\n",
    "    (\"jane\", \"jane2@example.com\", 25),\n",
    "    (\"steve\", \"steve@somewhere\", 15),\n",
    "    (\"joe\", \"joe\", 23),\n",
    "    (\"anna\", \"anna@example.com\", -3),\n",
    "]"
   ]
  },
  {
   "cell_type": "code",
   "execution_count": 10,
   "metadata": {},
   "outputs": [
    {
     "name": "stdout",
     "output_type": "stream",
     "text": [
      "Username 'jane' is in use.\n",
      "User 15 is underage.\n",
      "'joe' is not a valid email address.\n",
      "Invalid age: -3\n"
     ]
    }
   ],
   "source": [
    "class DuplicateUsernameError(Exception):\n",
    "    pass\n",
    "\n",
    "\n",
    "class InvalidAgeError(Exception):\n",
    "    pass\n",
    "\n",
    "\n",
    "class UnderageError(Exception):\n",
    "    pass\n",
    "\n",
    "\n",
    "class InvalidEmailError(Exception):\n",
    "    pass\n",
    "\n",
    "\n",
    "\n",
    "class User:\n",
    "    def __init__(self, username, email, age):\n",
    "        self.username = username\n",
    "        self.email = email\n",
    "        self.age = age\n",
    "        \n",
    "    def __repr__(self):\n",
    "        return '{}(email={}, age={})'.format(self.username, self.email, self.age)\n",
    "\n",
    "\n",
    "directory = {}\n",
    "\n",
    "\n",
    "def add_user(username, email, age):\n",
    "    if username in directory:\n",
    "        raise DuplicateUsernameError(username)\n",
    "\n",
    "    if age < 0:\n",
    "        raise InvalidAgeError(age)\n",
    "\n",
    "    if age < 16:\n",
    "        raise UnderageError(age)\n",
    "\n",
    "    email_parts = email.split('@')\n",
    "\n",
    "    if len(email_parts) != 2 or not email_parts[0] or not email_parts[1]:\n",
    "        raise InvalidEmailError(email)\n",
    "        \n",
    "    directory[username] = User(username, email, age)\n",
    "\n",
    "\n",
    "for user in user_data:\n",
    "    try:\n",
    "        add_user(*user)\n",
    "    except DuplicateUsernameError as exc:\n",
    "        print(\"Username '{}' is in use.\".format(exc.args[0]))\n",
    "    except InvalidAgeError as exc:\n",
    "        print(\"Invalid age: {}\".format(exc.args[0]))\n",
    "    except UnderageError as exc:\n",
    "        print(\"User {} is underage.\".format(exc.args[0]))\n",
    "    except InvalidEmailError as exc:\n",
    "        print(\"'{}' is not a valid email address.\".format(exc.args[0]))"
   ]
  },
  {
   "cell_type": "code",
   "execution_count": 11,
   "metadata": {},
   "outputs": [
    {
     "data": {
      "text/plain": [
       "{'jane': jane(email=jane@example.com, age=21),\n",
       " 'bob': bob(email=bob@example, age=19)}"
      ]
     },
     "execution_count": 11,
     "metadata": {},
     "output_type": "execute_result"
    }
   ],
   "source": [
    "directory"
   ]
  },
  {
   "cell_type": "markdown",
   "metadata": {},
   "source": [
    "# 6. Множественное наследование\n",
    "\n",
    "### Задача 6.1:\n",
    "\n",
    "Создайте mix-in классы:\n",
    "\n",
    "- `Vehicle` c атрибутом `position` и методом `travel(n)`, который изменит `position = position + n` и выведет текущую позицию\n",
    "- `ResettableMixin` с методом `reset()`, который сбросит позицию\n",
    "- `TeleportableMixin` с методом `teleport(position)`, который изменит позицию\n",
    "\n",
    "Создайте три соответствующих класса: `ResettableCar`, `TeleportableCar` и `Car` (с обоими mix-in). Сравните их поведение.\n",
    "\n",
    "### Решение:"
   ]
  },
  {
   "cell_type": "code",
   "execution_count": 16,
   "metadata": {},
   "outputs": [],
   "source": [
    "class Vehicle:\n",
    "    def __init__(self, position):\n",
    "        self.position = position\n",
    "\n",
    "    def travel(self, n):\n",
    "        self.position += n\n",
    "        print('current position: {}'.format(self.position))\n",
    "\n",
    "        \n",
    "class ResettableMixin:\n",
    "    def reset(self):\n",
    "        self.position = 0\n",
    "\n",
    "        \n",
    "class TeleportableMixin:\n",
    "    def teleport(self, position):\n",
    "        self.position = position\n",
    "\n",
    "        \n",
    "class ResettableCar(Vehicle, ResettableMixin):\n",
    "    def __init__(self, *args, **kwargs):\n",
    "        super().__init__(*args, **kwargs)\n",
    "        \n",
    "        \n",
    "class TeleportableCar(Vehicle, TeleportableMixin):\n",
    "    def __init__(self, *args, **kwargs):\n",
    "        super().__init__(*args, **kwargs)\n",
    "\n",
    "        \n",
    "class Car(Vehicle, ResettableMixin, TeleportableMixin):\n",
    "    def __init__(self, *args, **kwargs):\n",
    "        super().__init__(*args, **kwargs)"
   ]
  },
  {
   "cell_type": "code",
   "execution_count": 17,
   "metadata": {},
   "outputs": [
    {
     "name": "stdout",
     "output_type": "stream",
     "text": [
      "current position: 45\n",
      "current position: 35\n",
      "current position: 3\n"
     ]
    }
   ],
   "source": [
    "rc = ResettableCar(42)\n",
    "rc.travel(3)\n",
    "rc.travel(-10)\n",
    "rc.reset()\n",
    "rc.travel(3)"
   ]
  },
  {
   "cell_type": "code",
   "execution_count": 18,
   "metadata": {},
   "outputs": [
    {
     "name": "stdout",
     "output_type": "stream",
     "text": [
      "current position: -70\n",
      "current position: 130\n"
     ]
    }
   ],
   "source": [
    "tc = TeleportableCar(-100)\n",
    "tc.travel(30)\n",
    "tc.teleport(100)\n",
    "tc.travel(30)"
   ]
  },
  {
   "cell_type": "code",
   "execution_count": 19,
   "metadata": {},
   "outputs": [
    {
     "name": "stdout",
     "output_type": "stream",
     "text": [
      "current position: 30\n",
      "current position: 40\n",
      "current position: 0\n"
     ]
    }
   ],
   "source": [
    "c = Car(0)\n",
    "c.travel(30)\n",
    "c.reset()\n",
    "c.travel(40)\n",
    "c.teleport(-100)\n",
    "c.travel(100)"
   ]
  },
  {
   "cell_type": "markdown",
   "metadata": {},
   "source": [
    "# 7. Интерфейсы (полиморфизм)\n",
    "\n",
    "`NotImplementedError`, `metaclass=abc.ABCMeta`, `abc.abstractmethod`, `isinstance`, `hasattr`\n",
    "\n",
    "### Задача 7.1:\n",
    "\n",
    "Напишите «абстрактный» класс `Box` и используйте его для определения некоторых методов, которые должен иметь любой объект `Box`:\n",
    "\n",
    "- `add` - для добавления любого количества элементов в поле,\n",
    "- `empty` -  чтобы вынуть все предметы из коробки и вернуть их в виде списка,\n",
    "- `count` - для подсчета предметов, которые в настоящее время находятся в коробке.\n",
    "\n",
    "Напишите простой класс `Item`, который имеет:\n",
    "\n",
    "- атрибут `name` \n",
    "- атрибут `value`\n",
    "\n",
    "вы можете предположить, что все предметы, которые вы будете использовать, будут объектами класса `Item`.\n",
    "\n",
    "Теперь напишите два подкласса Box, которые используют разные базовые коллекции для хранения предметов:\n",
    "\n",
    "- `ListBox` должен использовать список,\n",
    "- `DictBox` должен использовать словарь.\n",
    "\n",
    "### решение:"
   ]
  },
  {
   "cell_type": "code",
   "execution_count": 20,
   "metadata": {},
   "outputs": [],
   "source": [
    "import abc\n",
    "\n",
    "class Box(metaclass=abc.ABCMeta):\n",
    "    @abc.abstractmethod\n",
    "    def add(self, *items):\n",
    "        raise NotImplementedError\n",
    "\n",
    "    @abc.abstractmethod\n",
    "    def empty(self):\n",
    "        raise NotImplementedError\n",
    "\n",
    "    @abc.abstractmethod\n",
    "    def count(self):\n",
    "        raise NotImplementedError\n",
    "\n",
    "\n",
    "class Item:\n",
    "    def __init__(self, name, value):\n",
    "        self.name = name\n",
    "        self.value = value\n",
    "        \n",
    "    def __repr__(self):\n",
    "        return 'Item({}={})'.format(self.name, self.value)\n",
    "\n",
    "\n",
    "class ListBox(Box):\n",
    "    def __init__(self):\n",
    "        self._items = []\n",
    "\n",
    "    def add(self, *items):\n",
    "        self._items.extend(items)\n",
    "\n",
    "    def empty(self):\n",
    "        items = self._items\n",
    "        self._items = []\n",
    "        return items\n",
    "\n",
    "    def count(self):\n",
    "        return len(self._items)\n",
    "\n",
    "\n",
    "class DictBox(Box):\n",
    "    def __init__(self):\n",
    "        self._items = {}\n",
    "\n",
    "    def add(self, *items):\n",
    "        self._items.update(dict((i.name, i) for i in items))\n",
    "\n",
    "    def empty(self):\n",
    "        items = list(self._items.values())\n",
    "        self._items = {}\n",
    "        return items\n",
    "\n",
    "    def count(self):\n",
    "        return len(self._items)"
   ]
  },
  {
   "cell_type": "code",
   "execution_count": 21,
   "metadata": {},
   "outputs": [
    {
     "name": "stdout",
     "output_type": "stream",
     "text": [
      "2\n",
      "[Item(a=1), Item(b=2)]\n"
     ]
    }
   ],
   "source": [
    "lb = ListBox()\n",
    "lb.add(Item('a', 1))\n",
    "lb.add(Item('b', 2))\n",
    "print(lb.count())\n",
    "print(lb.empty())"
   ]
  },
  {
   "cell_type": "code",
   "execution_count": 22,
   "metadata": {},
   "outputs": [
    {
     "name": "stdout",
     "output_type": "stream",
     "text": [
      "2\n",
      "[Item(a=1), Item(b=2)]\n"
     ]
    }
   ],
   "source": [
    "lb = DictBox()\n",
    "lb.add(Item('a', 1))\n",
    "lb.add(Item('b', 2))\n",
    "print(lb.count())\n",
    "print(lb.empty())"
   ]
  },
  {
   "cell_type": "code",
   "execution_count": 23,
   "metadata": {},
   "outputs": [
    {
     "ename": "TypeError",
     "evalue": "Can't instantiate abstract class Box with abstract methods add, count, empty",
     "output_type": "error",
     "traceback": [
      "\u001b[0;31m---------------------------------------------------------------------------\u001b[0m",
      "\u001b[0;31mTypeError\u001b[0m                                 Traceback (most recent call last)",
      "\u001b[0;32m<ipython-input-23-15db2d4b032f>\u001b[0m in \u001b[0;36m<module>\u001b[0;34m\u001b[0m\n\u001b[0;32m----> 1\u001b[0;31m \u001b[0mb\u001b[0m \u001b[0;34m=\u001b[0m \u001b[0mBox\u001b[0m\u001b[0;34m(\u001b[0m\u001b[0;34m)\u001b[0m\u001b[0;34m\u001b[0m\u001b[0;34m\u001b[0m\u001b[0m\n\u001b[0m",
      "\u001b[0;31mTypeError\u001b[0m: Can't instantiate abstract class Box with abstract methods add, count, empty"
     ]
    }
   ],
   "source": [
    "b = Box()"
   ]
  },
  {
   "cell_type": "markdown",
   "metadata": {},
   "source": [
    "### Задача 7.2:\n",
    "\n",
    "Напишите функцию `repack_boxes`, которая\n",
    "\n",
    "- принимает любое количество блоков в качестве параметров,\n",
    "- собирает все предметы, которые они содержат,\n",
    "- и перераспределяет их как можно более равномерно по всем коробкам.\n",
    "- порядок не важен.\n",
    "\n",
    "Есть несколько способов сделать это. Проверьте свой код с помощью `ListBox` с 4 элементами, `ListBox` с 9 элементами и `DictBox` с 5 элементами. \n",
    "\n",
    "Вы должны получить две коробки с 6 предметами в каждой и одну коробку с 5 предметами.\n",
    "\n",
    "### Решение:\n",
    "\n",
    "`list.pop()`,  `while`,  `IndexError`"
   ]
  },
  {
   "cell_type": "code",
   "execution_count": 24,
   "metadata": {},
   "outputs": [],
   "source": [
    "def repack_boxes(*boxes):\n",
    "    items = []\n",
    "\n",
    "    for box in boxes:\n",
    "        items.extend(box.empty())\n",
    "\n",
    "    while items:\n",
    "        for box in boxes:\n",
    "            try:\n",
    "                box.add(items.pop())\n",
    "            except IndexError:\n",
    "                break"
   ]
  },
  {
   "cell_type": "code",
   "execution_count": 25,
   "metadata": {},
   "outputs": [
    {
     "name": "stdout",
     "output_type": "stream",
     "text": [
      "4\n",
      "9\n",
      "5\n"
     ]
    }
   ],
   "source": [
    "box1 = ListBox()\n",
    "box1.add(*[Item(str(i), i) for i in range(4)])\n",
    "\n",
    "box2 = ListBox()\n",
    "box2.add(*[Item(str(i), i) for i in range(9)])\n",
    "\n",
    "box3 = DictBox()\n",
    "box3.add(*[Item(str(i), i) for i in range(5)])\n",
    "\n",
    "print(box1.count())\n",
    "print(box2.count())\n",
    "print(box3.count())"
   ]
  },
  {
   "cell_type": "code",
   "execution_count": 26,
   "metadata": {},
   "outputs": [
    {
     "name": "stdout",
     "output_type": "stream",
     "text": [
      "6\n",
      "6\n",
      "5\n"
     ]
    }
   ],
   "source": [
    "repack_boxes(box1, box2, box3)\n",
    "\n",
    "print(box1.count())\n",
    "print(box2.count())\n",
    "print(box3.count())"
   ]
  },
  {
   "cell_type": "markdown",
   "metadata": {},
   "source": [
    "# 8. Замена наследования композицией\n",
    "\n",
    "### Задание 8.1:\n",
    "\n",
    "Замените множественное наследование и класс `Tutor` с использованием композиции объектов `Learner`, `Teacher` в классе `Person`"
   ]
  },
  {
   "cell_type": "code",
   "execution_count": null,
   "metadata": {},
   "outputs": [],
   "source": [
    "class Person:\n",
    "    def __init__(self, name, surname, number):\n",
    "        self.name = name\n",
    "        self.surname = surname\n",
    "        self.number = number\n",
    "\n",
    "\n",
    "class LearnerMixin:\n",
    "    def __init__(self):\n",
    "        self.classes = []\n",
    "\n",
    "    def enrol(self, course):\n",
    "        self.classes.append(course)\n",
    "\n",
    "\n",
    "class TeacherMixin:\n",
    "    def __init__(self):\n",
    "        self.courses_taught = []\n",
    "\n",
    "    def assign_teaching(self, course):\n",
    "        self.courses_taught.append(course)\n",
    "\n",
    "\n",
    "class Tutor(Person, LearnerMixin, TeacherMixin):\n",
    "    def __init__(self, *args, **kwargs):\n",
    "        LearnerMixin.__init__(self)\n",
    "        TeacherMixin.__init__(self)\n",
    "        super().__init__(*args, **kwargs)\n",
    "\n",
    "jane = Tutor('Jane', 'Smith', 'SMTJNX045')\n",
    "jane.enrol('some_course')\n",
    "jane.assign_teaching('some_other_course')"
   ]
  },
  {
   "cell_type": "markdown",
   "metadata": {},
   "source": [
    "### решение:"
   ]
  },
  {
   "cell_type": "code",
   "execution_count": null,
   "metadata": {},
   "outputs": [],
   "source": [
    "class Learner:\n",
    "    def __init__(self):\n",
    "        self.classes = []\n",
    "\n",
    "    def enrol(self, course):\n",
    "        self.classes.append(course)\n",
    "\n",
    "\n",
    "class Teacher:\n",
    "    def __init__(self):\n",
    "        self.courses_taught = []\n",
    "\n",
    "    def assign_teaching(self, course):\n",
    "        self.courses_taught.append(course)\n",
    "\n",
    "\n",
    "class Person:\n",
    "    def __init__(self, name, surname, number):\n",
    "        self.name = name\n",
    "        self.surname = surname\n",
    "        self.number = number\n",
    "\n",
    "        self.learner = Learner()\n",
    "        self.teacher = Teacher()\n",
    "        \n",
    "    def enrol(self, course):\n",
    "        self.learner.enrol(course)\n",
    "        \n",
    "    def assign_teaching(self, course):\n",
    "        self.teacher.assign_teaching(course)\n",
    "\n",
    "jane = Person('Jane', 'Smith', 'SMTJNX045')\n",
    "jane.enrol('some_course')\n",
    "jane.assign_teaching('some_other_course')"
   ]
  }
 ],
 "metadata": {
  "kernelspec": {
   "display_name": "Python 3",
   "language": "python",
   "name": "python3"
  },
  "language_info": {
   "codemirror_mode": {
    "name": "ipython",
    "version": 3
   },
   "file_extension": ".py",
   "mimetype": "text/x-python",
   "name": "python",
   "nbconvert_exporter": "python",
   "pygments_lexer": "ipython3",
   "version": "3.6.8"
  }
 },
 "nbformat": 4,
 "nbformat_minor": 4
}

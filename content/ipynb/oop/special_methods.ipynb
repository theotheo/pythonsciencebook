{
 "cells": [
  {
   "cell_type": "markdown",
   "metadata": {},
   "source": [
    "# Специальные методы\n",
    "\n",
    "Специальные (special) методы, так же иногда называемые магическими (magic) или дандерc-методы (dunders, double underscores). \n",
    "\n",
    "*Если поле **сигнатура** пустое в таблице, то значит, что метод не принимает никаких аргументов, кроме self. Другими словами его сигнатура: `___method_name__(self)`*"
   ]
  },
  {
   "cell_type": "markdown",
   "metadata": {},
   "source": [
    "## Методы инициализации\n",
    "Начнем с методов, связанных с жизненным циклом объекта. \n",
    "\n",
    "\n",
    "| метод | сигнатура | описание |\n",
    "| --- | --- | --- | \n",
    "| `__init__` | `__init__(self[, ...])`| \"конструктор\". нужен для кастомизации только что созданного объекта\n",
    "| `__new__` | `__new__(cls[, ...])` | настоящий конструктор. возвращает новый объект (чаще всего) класса `cls` |\n",
    "| `__del__` | `__del__(self)`  | вызывает когда сборщик мусора добирается до объекта\n",
    "\n",
    "`__init__` -- пожалуй, самый важный метод и уже знакомый вам. Его часто называют конструктором, по аналогии с конструкторами объектов в других языках. В действительно, это скорее не самый корректный термин для этого метода. Ведь когда он вызывает, объект уже создан. Этот метод не может вернуть ничего кроме None"
   ]
  },
  {
   "cell_type": "markdown",
   "metadata": {},
   "source": [
    "## Печатное представление\n",
    "Вы можете контролировать отображение объектов с помощью нескольких методов\n",
    "\n",
    "\n",
    "| метод | сигнатура | описание |\n",
    "| --- | --- | --- | \n",
    "| `__str__` | | используется при превращение в строку, например, при вызове `str` -- подразумевается приятным для чтения человеком|\n",
    "| `__repr__`| | должно однозначно характеризовывать объект и следовательно полностью выводить информацию о нем |\n",
    "| `__unicode__` | | метод Python 2|\n",
    "\n",
    "Если нету `__str__`, то будет вызван `__repr__`\n",
    "\n",
    "Разницу между ними настолько не очевидная, что породило популярный вопрос на [SO](https://stackoverflow.com/questions/1436703/difference-between-str-and-repr)\n",
    "\n"
   ]
  },
  {
   "cell_type": "code",
   "execution_count": 29,
   "metadata": {},
   "outputs": [],
   "source": [
    "class Notebook:\n",
    "    counter = 0\n",
    "    \n",
    "    def __init__(self, title='Untitled', kernel='Python'):\n",
    "        if Notebook.counter and title == 'Untitled':\n",
    "            title = '{}{}'.format(title, Notebook.counter)\n",
    "        self.title = title\n",
    "        self.kernel = kernel\n",
    "        self._cells = []\n"
   ]
  },
  {
   "cell_type": "code",
   "execution_count": 28,
   "metadata": {},
   "outputs": [
    {
     "data": {
      "text/plain": [
       "<__main__.Notebook at 0x7f91a4593198>"
      ]
     },
     "execution_count": 28,
     "metadata": {},
     "output_type": "execute_result"
    }
   ],
   "source": [
    "nb1 = Notebook('U', 1000)\n",
    "nb1\n"
   ]
  },
  {
   "cell_type": "markdown",
   "metadata": {},
   "source": [
    "## Бинарные операции\n",
    "\n",
    "| метод | сигнатура | оператор |\n",
    "| --- | --- | --- | \n",
    "|`__add__`|`__add__(self, other)`|+|\n",
    "|`__sub__`|`__sub__(self, other)`|-|\n",
    "|`__mul__`|`__mul__(self, other)`|*|\n",
    "|...|...|...|"
   ]
  },
  {
   "cell_type": "markdown",
   "metadata": {},
   "source": [
    "Так же есть аналогичные методы, но начинающиеся с буквы `r`, т.е например, `__radd__` или `__rsub__`\n",
    "\n",
    "\n",
    "Разницу между ними можно понять из картинки\n",
    "![](https://www.python-course.eu/images/operator_overloading__radd__.png)"
   ]
  },
  {
   "cell_type": "markdown",
   "metadata": {},
   "source": [
    "## Унарные операции\n",
    "\n",
    "| метод | сигнатура | оператор |\n",
    "| --- | --- | --- | \n",
    "|`__neg__`|`__neg__(self)`|-| \n",
    "|`__pos__`|`__pos__(self)`|+|\n",
    "|`__abs__`|`__abs__(self)`|abs()|\n",
    "|`__invert__`|`__invert__(self)`|~|"
   ]
  },
  {
   "cell_type": "markdown",
   "metadata": {},
   "source": [
    "## Сравнение\n",
    "\n",
    "\n",
    "\n",
    "| метод | сигнатура | оператор |\n",
    "| --- | --- | --- | \n",
    "|`__lt__`|`__lt__(self, other)`|<| \n",
    "|`__le__`|`__le__(self, other)`|<=|\n",
    "|`__eq__`|`__eq__(self, other)`|==|\n",
    "|`__ne__`|`__ne__(self, other)`|!=|\n",
    "|`__ge__`|`__ge__(self, other)`|>=|\n",
    "|`__gt__`|`__gt__(self, other)`|>|"
   ]
  },
  {
   "cell_type": "markdown",
   "metadata": {},
   "source": [
    "## Конверсия типов\n",
    "\n",
    "| метод | сигнатура | оператор |\n",
    "| --- | --- | --- | \n",
    "|`__complex__`|`__complex__(self)`|complex()| \n",
    "|`__int__`|`__int__(self)`|int()|\n",
    "|`__long__`|`__long__(self)`|long()|\n",
    "|...|...|...|\n",
    "|`__float__`|`__float__(self)`|float()|"
   ]
  },
  {
   "cell_type": "markdown",
   "metadata": {},
   "source": [
    "## Итерации\n",
    "\n",
    "Вы уже неоднократно сталкивались с итерация, Python позволяет наделить итеративными \"качествами\" любой объект\n",
    "\n",
    "| метод | сигнатура | описание |\n",
    "| --- | --- | --- |\n",
    "|`__iter__`| | вызывает когда запрашивается итератор у объекта|\n",
    "|`__next__`| | возвращает следующий элемент либо вызывает `StopIteration`, если элементы закончились\n",
    "\n",
    "\n",
    "Посмотрим на пример из [книжки \"Dive in Python 3\"](https://diveinto.org/python3/iterators.html)"
   ]
  },
  {
   "cell_type": "code",
   "execution_count": 4,
   "metadata": {},
   "outputs": [],
   "source": [
    "class Fib:\n",
    "    '''iterator that yields numbers in the Fibonacci sequence'''\n",
    "\n",
    "    def __init__(self, max):\n",
    "        self.max = max\n",
    "\n",
    "    def __iter__(self):\n",
    "        self.a = 0\n",
    "        self.b = 1\n",
    "        return self\n",
    "\n",
    "    def __next__(self):\n",
    "        fib = self.a\n",
    "        if fib > self.max:\n",
    "            raise StopIteration\n",
    "        self.a, self.b = self.b, self.a + self.b\n",
    "        return fib\n"
   ]
  },
  {
   "cell_type": "code",
   "execution_count": 10,
   "metadata": {},
   "outputs": [],
   "source": [
    "fib1 = Fib(100)\n"
   ]
  },
  {
   "cell_type": "code",
   "execution_count": 11,
   "metadata": {},
   "outputs": [
    {
     "name": "stdout",
     "output_type": "stream",
     "text": [
      "0\n",
      "1\n",
      "1\n",
      "2\n",
      "3\n",
      "5\n",
      "8\n",
      "13\n",
      "21\n",
      "34\n",
      "55\n",
      "89\n"
     ]
    }
   ],
   "source": [
    "for i in fib1:\n",
    "    print(i)"
   ]
  },
  {
   "cell_type": "code",
   "execution_count": 13,
   "metadata": {},
   "outputs": [
    {
     "data": {
      "text/plain": [
       "<__main__.Fib at 0x7f91a46184e0>"
      ]
     },
     "execution_count": 13,
     "metadata": {},
     "output_type": "execute_result"
    }
   ],
   "source": [
    "fib2 = Fib(100)\n",
    "fib2"
   ]
  },
  {
   "cell_type": "code",
   "execution_count": 12,
   "metadata": {},
   "outputs": [
    {
     "data": {
      "text/plain": [
       "<__main__.Fib at 0x7f91a4618080>"
      ]
     },
     "execution_count": 12,
     "metadata": {},
     "output_type": "execute_result"
    }
   ],
   "source": [
    "iterator = iter(fib2)\n",
    "iterator"
   ]
  },
  {
   "cell_type": "code",
   "execution_count": 14,
   "metadata": {},
   "outputs": [
    {
     "data": {
      "text/plain": [
       "0"
      ]
     },
     "execution_count": 14,
     "metadata": {},
     "output_type": "execute_result"
    }
   ],
   "source": [
    "next(iterator)"
   ]
  },
  {
   "cell_type": "code",
   "execution_count": 15,
   "metadata": {},
   "outputs": [
    {
     "data": {
      "text/plain": [
       "1"
      ]
     },
     "execution_count": 15,
     "metadata": {},
     "output_type": "execute_result"
    }
   ],
   "source": [
    "next(iterator)"
   ]
  },
  {
   "cell_type": "code",
   "execution_count": 16,
   "metadata": {},
   "outputs": [
    {
     "data": {
      "text/plain": [
       "1"
      ]
     },
     "execution_count": 16,
     "metadata": {},
     "output_type": "execute_result"
    }
   ],
   "source": [
    "next(iterator)"
   ]
  },
  {
   "cell_type": "code",
   "execution_count": 17,
   "metadata": {},
   "outputs": [
    {
     "data": {
      "text/plain": [
       "2"
      ]
     },
     "execution_count": 17,
     "metadata": {},
     "output_type": "execute_result"
    }
   ],
   "source": [
    "next(iterator)"
   ]
  },
  {
   "cell_type": "markdown",
   "metadata": {},
   "source": [
    "## Источники и дополнительное чтение\n",
    "\n",
    "- https://docs.python.org/3/reference/datamodel.html#special-method-names\n",
    "- https://web.archive.org/web/20110131211638/http://diveintopython3.org/special-method-names.html\n",
    "- https://diveinto.org/python3/special-method-names.html\n",
    "- http://www.ironpythoninaction.com/magic-methods.html\n",
    "- https://www.omkarpathak.in/2018/08/26/python-magic-methods/\n",
    "- https://dbader.org/blog/python-dunder-methods\n",
    "- https://docs.python.org/2.0/ref/specialnames.html\n",
    "- https://www.python-course.eu/python3_magic_methods.php\n",
    "- https://stackoverflow.com/questions/39625229/difference-between-ab-and-a-add-b\n",
    "- https://docs.python.org/2/library/operator.html"
   ]
  },
  {
   "cell_type": "code",
   "execution_count": null,
   "metadata": {},
   "outputs": [],
   "source": []
  }
 ],
 "metadata": {
  "kernelspec": {
   "display_name": "Python 3",
   "language": "python",
   "name": "python3"
  },
  "language_info": {
   "codemirror_mode": {
    "name": "ipython",
    "version": 3
   },
   "file_extension": ".py",
   "mimetype": "text/x-python",
   "name": "python",
   "nbconvert_exporter": "python",
   "pygments_lexer": "ipython3",
   "version": "3.6.8"
  }
 },
 "nbformat": 4,
 "nbformat_minor": 4
}

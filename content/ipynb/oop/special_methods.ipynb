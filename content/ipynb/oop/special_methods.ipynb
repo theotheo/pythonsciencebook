{
 "cells": [
  {
   "cell_type": "markdown",
   "metadata": {},
   "source": [
    "# Специальные методы\n",
    "\n",
    "Специальные (special) методы, так же иногда называемые магическими (magic) или дандерc-методы (dunders). "
   ]
  },
  {
   "cell_type": "markdown",
   "metadata": {},
   "source": [
    "## Методы инициализации\n",
    "Начнем с методов, связанных с жизненным циклом объекта. \n",
    "\n",
    "### `__init__`\n",
    "`__init__` -- пожалуй, самый важный метод и уже знакомый вам. Его часто называют конструктором, по аналогии с конструкторами объектов в других языках. В действительно, это скорее не самый корректный термин для этого метода.\n",
    "\n",
    "`__init__(self, *args, **kwargs)`\n",
    "\n",
    "### `__new__`\n",
    "`__new__(class_name, *args, **kwargs)`\n",
    "\n",
    "### `__del__`\n",
    "`__del__(self)` \n",
    "\n",
    "Данный метод вызывает когда сборщик мусора добирается до объекта. "
   ]
  },
  {
   "cell_type": "markdown",
   "metadata": {},
   "source": [
    "## Вывод\n",
    "\n",
    "### `__str__`\n",
    "\n",
    "### `__repr__`"
   ]
  },
  {
   "cell_type": "markdown",
   "metadata": {},
   "source": [
    "## Арифметические операции\n",
    "\n",
    "### `__add__`\n",
    "### `__sub__`\n"
   ]
  },
  {
   "cell_type": "markdown",
   "metadata": {},
   "source": [
    "## Сравнение\n"
   ]
  },
  {
   "cell_type": "markdown",
   "metadata": {},
   "source": [
    "## Конверсия типов"
   ]
  },
  {
   "cell_type": "markdown",
   "metadata": {},
   "source": [
    "## Итерации"
   ]
  },
  {
   "cell_type": "markdown",
   "metadata": {},
   "source": [
    "## Источники и дополнительное чтение\n",
    "\n",
    "- https://docs.python.org/3/reference/datamodel.html#special-method-names\n",
    "- https://web.archive.org/web/20110131211638/http://diveintopython3.org/special-method-names.html\n",
    "- http://www.ironpythoninaction.com/magic-methods.html\n",
    "- https://www.omkarpathak.in/2018/08/26/python-magic-methods/\n",
    "- https://dbader.org/blog/python-dunder-methods\n",
    "- https://docs.python.org/2.0/ref/specialnames.html\n",
    "- https://www.python-course.eu/python3_magic_methods.php"
   ]
  },
  {
   "cell_type": "code",
   "execution_count": null,
   "metadata": {},
   "outputs": [],
   "source": []
  }
 ],
 "metadata": {
  "kernelspec": {
   "display_name": "Python 3",
   "language": "python",
   "name": "python3"
  },
  "language_info": {
   "codemirror_mode": {
    "name": "ipython",
    "version": 3
   },
   "file_extension": ".py",
   "mimetype": "text/x-python",
   "name": "python",
   "nbconvert_exporter": "python",
   "pygments_lexer": "ipython3",
   "version": "3.6.8"
  }
 },
 "nbformat": 4,
 "nbformat_minor": 4
}

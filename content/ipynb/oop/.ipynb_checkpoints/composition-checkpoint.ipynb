{
 "cells": [
  {
   "cell_type": "markdown",
   "metadata": {},
   "source": [
    "# Composition"
   ]
  },
  {
   "cell_type": "markdown",
   "metadata": {},
   "source": [
    "Композиция -- это акт собирания нескольких объектов вместе, чтобы создать новый. Композиция обычно является хорошим выбором, когда один объект является частью другого объекта.\n",
    "\n"
   ]
  },
  {
   "cell_type": "markdown",
   "metadata": {},
   "source": [
    "## Composition versus inheritance\n",
    "\n",
    "\n",
    "https://en.wikipedia.org/wiki/Composition_over_inheritance\n",
    "\n",
    "https://thoughtbot.com/blog/reusable-oo-composition-vs-inheritance\n",
    "\n",
    "https://stackoverflow.com/questions/3085285/difference-between-cohesion-and-coupling\n",
    "\n",
    "\n",
    "![](https://i.stack.imgur.com/DOEn7.png)\n"
   ]
  },
  {
   "cell_type": "markdown",
   "metadata": {},
   "source": [
    "### Задание\n",
    "\n",
    "Замените множественное наследование и класс `Tutor` с использованием композиции объектов `Learner`, `Teacher` в классе `Person`"
   ]
  },
  {
   "cell_type": "code",
   "execution_count": 2,
   "metadata": {},
   "outputs": [],
   "source": [
    "\n",
    "\n",
    "class Person:\n",
    "    def __init__(self, name, surname, number):\n",
    "        self.name = name\n",
    "        self.surname = surname\n",
    "        self.number = number\n",
    "\n",
    "\n",
    "class LearnerMixin:\n",
    "    def __init__(self):\n",
    "        self.classes = []\n",
    "\n",
    "    def enrol(self, course):\n",
    "        self.classes.append(course)\n",
    "\n",
    "\n",
    "class TeacherMixin:\n",
    "    def __init__(self):\n",
    "        self.courses_taught = []\n",
    "\n",
    "    def assign_teaching(self, course):\n",
    "        self.courses_taught.append(course)\n",
    "\n",
    "\n",
    "class Tutor(Person, LearnerMixin, TeacherMixin):\n",
    "    def __init__(self, *args, **kwargs):\n",
    "        LearnerMixin.__init__(self)\n",
    "        TeacherMixin.__init__(self)\n",
    "        super().__init__(*args, **kwargs)\n",
    "\n",
    "jane = Tutor('Jane', 'Smith', 'SMTJNX045')\n",
    "jane.enrol('some_course')\n",
    "jane.assign_teaching('some_other_course')"
   ]
  }
 ],
 "metadata": {
  "kernelspec": {
   "display_name": "Python 3",
   "language": "python",
   "name": "python3"
  },
  "language_info": {
   "codemirror_mode": {
    "name": "ipython",
    "version": 3
   },
   "file_extension": ".py",
   "mimetype": "text/x-python",
   "name": "python",
   "nbconvert_exporter": "python",
   "pygments_lexer": "ipython3",
   "version": "3.6.8"
  }
 },
 "nbformat": 4,
 "nbformat_minor": 4
}

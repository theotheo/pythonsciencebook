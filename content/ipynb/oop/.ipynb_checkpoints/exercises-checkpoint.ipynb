{
 "cells": [
  {
   "cell_type": "markdown",
   "metadata": {},
   "source": [
    "# 1. Cоздание класса\n",
    "\n",
    "### Задача 1.1:\n",
    "\n",
    "`class`, `атрибуты`, `методы`, `__init__`, `self`\n",
    "\n",
    "Создайте класс Movie и определите конструктор класса со следующими параметрами:\n",
    "\n",
    "- заголовок\n",
    "- режиссёр\n",
    "- год выпуска\n",
    "\n",
    "Создайте объекты:\n",
    "\n",
    "- «Титаник» (реж. Джеймс Кэмерон, 1997)\n",
    "- «Звездные войны» (реж. Джордж Лукас, 1977)\n",
    "- «Бойцовский клуб» (реж. Дэвид Финчер, 1999)\n",
    "\n",
    "Затем создайте метод, который возвращает возраст фильма в годах "
   ]
  },
  {
   "cell_type": "markdown",
   "metadata": {},
   "source": [
    "# 2. Aтрибуты класса\n",
    "\n",
    "### Задача 2.1:\n",
    "\n",
    "Объясните разницу между атрибутами:\n",
    "\n",
    "- name\n",
    "- surname\n",
    "- profession\n",
    "\n",
    "а так же какие значения они могут принимать для различных объектов данного класса."
   ]
  },
  {
   "cell_type": "code",
   "execution_count": 1,
   "metadata": {},
   "outputs": [],
   "source": [
    "class Smith:\n",
    "    surname = \"Smith\"\n",
    "    profession = \"smith\"\n",
    "\n",
    "    def __init__(self, name, profession=None):\n",
    "        self.name = name\n",
    "        \n",
    "        if profession is not None:\n",
    "            self.profession = profession"
   ]
  },
  {
   "cell_type": "markdown",
   "metadata": {},
   "source": [
    "# 3. Декораторы класса\n",
    "\n",
    "`classmethod`, `staticmethod`, `property`, `name.setter`, `name.deleter`\n",
    "\n",
    "### Задача 3.1:\n",
    "\n",
    "Создайте класс `Numbers` с одним атрибутом `MULTIPLIER`, и с конструктором, который принимает параметры `x` and `y` (они должны быть числами).\n",
    "\n",
    "- Напишите метод `add` который возвращает сумму атрибутов `x` и `y`\n",
    "- Напишите метод класса `multiply`, который принимает один числовой параметр `a` и возвращает произведение `a` и `MULTIPLIER`\n",
    "- Напишите статический метод `subtract`, который принимает два числовых параметра `b` and `c` и возвращает `b - c`\n",
    "- Напишите метод `value` который возвращает кортеж, содержащий значения `x` и `y`\n",
    "- Превратите этот метод в свойство (`property`)\n",
    "- и напишите `setter` и `deleter` для работы с переменными `x` и `y`\n"
   ]
  },
  {
   "cell_type": "markdown",
   "metadata": {},
   "source": [
    "# 4. Перегрузка магических методов\n",
    "\n",
    "### Задача 4.1:\n",
    "\n",
    "`__init__`, `__str__`\n",
    "\n",
    "Посмотрите на класс `Element`:"
   ]
  },
  {
   "cell_type": "code",
   "execution_count": null,
   "metadata": {},
   "outputs": [],
   "source": [
    "class Element:\n",
    "    def __init__(self, name, symbol, number):\n",
    "        self.name = name\n",
    "        self.symbol = symbol\n",
    "        self.number = number\n",
    "\n",
    "    def dump(self):\n",
    "        print('name={}, symbol={}, number={}'.format(self.name, self.symbol, self.number))\n",
    "\n",
    "kwargs = {'name': 'Hydrogen', 'symbol': 'H', 'number': 1}\n",
    "\n",
    "hydrogen = Element(**kwargs)\n",
    "hydrogen.dump()"
   ]
  },
  {
   "cell_type": "markdown",
   "metadata": {},
   "source": [
    "Вызовите метод `print(hydrogen)`. \n",
    "\n",
    "В классе `Element` измените имя метода `dump` на `__str__`\n",
    "\n",
    "Cоздайте новый объект hydrogen и вызовите `print(hydrogen)` снова."
   ]
  },
  {
   "cell_type": "markdown",
   "metadata": {},
   "source": [
    "### Задача 4.2:\n",
    "\n",
    "`__class__.__name__`, `__dict__`, `__str__`, `setattr(obj, key, value)`\n",
    "\n",
    "Напишите класс для создания генеративных объектов. Его конструктор должен принимать любое количество пар ключ-значение и устанавливать значения в качестве атрибутов объекта, а ключи – в качестве имен данных атрибутов.\n",
    "\n",
    "Напишите метод `__str__` для класса. Возвращаемая строка должна содержать имя класса и значения всех пользовательских атрибутов объекта.\n"
   ]
  },
  {
   "cell_type": "code",
   "execution_count": null,
   "metadata": {},
   "outputs": [],
   "source": [
    "a = AnyClass(title='Dr', name='John', surname='Doe')\n",
    "print(a)"
   ]
  },
  {
   "cell_type": "markdown",
   "metadata": {},
   "source": [
    "# 5. Наследование\n",
    "\n",
    "`Exception`\n",
    "\n",
    "### Задача 5.1:\n",
    "\n",
    "Очень распространенным вариантом использования наследования является создание пользовательской иерархии исключений.\n",
    "\n",
    "Напишите простую программу, которая перебирает список пользовательских данных (кортежи, содержащие имя пользователя, адрес электронной почты и возраст) и добавляет каждого пользователя в каталог, если он проходит по заданным ниже условиям. \n",
    "\n",
    "Напишите простую иерархию исключений, которая определяет разные исключения для каждого из следующих состояний ошибки:\n",
    "\n",
    "- имя пользователя не уникально\n",
    "- возраст не является положительным целым числом\n",
    "- пользователь моложе 16 лет\n",
    "- адрес электронной почты недействителен (достаточно просто проверить имя пользователя, символ @ и доменное имя). \n",
    "\n",
    "При несоблюдении этих условий поднимите соответвующие исключения в своей программе. \n",
    "\n",
    "Всякий раз, когда возникает исключение, ваша программа должна перейти к следующему набору данных в списке.\n",
    "\n",
    "Распечатайте разные сообщения об ошибках для каждого вида исключения.\n",
    "\n",
    "Вы можете считать адрес электронной почты действительным, если он содержит один символ @ и имеет непустое имя пользователя и имя домена."
   ]
  },
  {
   "cell_type": "code",
   "execution_count": null,
   "metadata": {},
   "outputs": [],
   "source": [
    "user_data = [\n",
    "    (\"jane\", \"jane@example.com\", 21),\n",
    "    (\"bob\", \"bob@example\", 19),\n",
    "    (\"jane\", \"jane2@example.com\", 25),\n",
    "    (\"steve\", \"steve@somewhere\", 15),\n",
    "    (\"joe\", \"joe\", 23),\n",
    "    (\"anna\", \"anna@example.com\", -3),\n",
    "]"
   ]
  },
  {
   "cell_type": "code",
   "execution_count": null,
   "metadata": {},
   "outputs": [],
   "source": [
    "class InvalidAgeError(Exception):\n",
    "    pass\n",
    "...\n",
    "\n",
    "class User:\n",
    "    def __init__(self, ...):\n",
    "        \n",
    "    def __repr__(self):\n",
    "        ...\n",
    "\n",
    "\n",
    "directory = {}\n",
    "\n",
    "\n",
    "def add_user(...):\n",
    "\n",
    "    if age < 0:\n",
    "        raise InvalidAgeError(age)\n",
    "\n",
    "    ...\n",
    "        \n",
    "    directory[username] = User(username, email, age)\n",
    "\n",
    "\n",
    "for user in user_data:\n",
    "    try:\n",
    "        add_user(*user)\n",
    "    except InvalidAgeError as exc:\n",
    "        print(\"Invalid age: {}\".format(exc.args[0]))\n",
    "    ..."
   ]
  },
  {
   "cell_type": "code",
   "execution_count": null,
   "metadata": {},
   "outputs": [],
   "source": [
    "directory"
   ]
  },
  {
   "cell_type": "markdown",
   "metadata": {},
   "source": [
    "# 6. Множественное наследование\n",
    "\n",
    "### Задача 6.1:\n",
    "\n",
    "Создайте mix-in классы:\n",
    "\n",
    "- `Vehicle` c атрибутом `position` и методом `travel(n)`, который изменит `position = position + n` и выведет текущую позицию\n",
    "- `ResettableMixin` с методом `reset()`, который сбросит позицию\n",
    "- `TeleportableMixin` с методом `teleport(position)`, который изменит позицию\n",
    "\n",
    "Создайте три соответствующих класса: `ResettableCar`, `TeleportableCar` и `Car` (с обоими mix-in). Сравните их поведение.\n",
    "\n",
    "### Решение:"
   ]
  },
  {
   "cell_type": "code",
   "execution_count": null,
   "metadata": {},
   "outputs": [],
   "source": [
    "...\n",
    "\n",
    "class ResettableCar(Vehicle, ResettableMixin):\n",
    "    def __init__(self, *args, **kwargs):\n",
    "        super().__init__(*args, **kwargs)"
   ]
  },
  {
   "cell_type": "code",
   "execution_count": null,
   "metadata": {},
   "outputs": [],
   "source": [
    "rc = ResettableCar(42)\n",
    "rc.travel(3)\n",
    "rc.travel(-10)\n",
    "rc.reset()\n",
    "rc.travel(3)"
   ]
  },
  {
   "cell_type": "code",
   "execution_count": null,
   "metadata": {},
   "outputs": [],
   "source": [
    "tc = TeleportableCar(-100)\n",
    "tc.travel(30)\n",
    "tc.teleport(100)\n",
    "tc.travel(30)"
   ]
  },
  {
   "cell_type": "code",
   "execution_count": null,
   "metadata": {},
   "outputs": [],
   "source": [
    "c = Car(0)\n",
    "c.travel(30)\n",
    "c.reset()\n",
    "c.travel(40)\n",
    "c.teleport(-100)\n",
    "c.travel(100)"
   ]
  },
  {
   "cell_type": "markdown",
   "metadata": {},
   "source": [
    "# 7. Интерфейсы (полиморфизм)\n",
    "\n",
    "`NotImplementedError`, `metaclass=abc.ABCMeta`, `abc.abstractmethod`, `isinstance`, `hasattr`\n",
    "\n",
    "### Задача 7.1:\n",
    "\n",
    "Напишите «абстрактный» класс `Box` и используйте его для определения некоторых методов, которые должен иметь любой объект `Box`:\n",
    "\n",
    "- `add` - для добавления любого количества элементов в поле,\n",
    "- `empty` -  чтобы вынуть все предметы из коробки и вернуть их в виде списка,\n",
    "- `count` - для подсчета предметов, которые в настоящее время находятся в коробке.\n",
    "\n",
    "Напишите простой класс `Item`, который имеет:\n",
    "\n",
    "- атрибут `name` \n",
    "- атрибут `value`\n",
    "\n",
    "вы можете предположить, что все предметы, которые вы будете использовать, будут объектами класса `Item`.\n",
    "\n",
    "Теперь напишите два подкласса Box, которые используют разные базовые коллекции для хранения предметов:\n",
    "\n",
    "- `ListBox` должен использовать список,\n",
    "- `DictBox` должен использовать словарь.\n"
   ]
  },
  {
   "cell_type": "code",
   "execution_count": null,
   "metadata": {},
   "outputs": [],
   "source": [
    "import abc\n",
    "\n",
    "class Box(metaclass=abc.ABCMeta):\n",
    "    @abc.abstractmethod\n",
    "    def add(self, *items):\n",
    "        raise NotImplementedError\n",
    "    ...\n",
    "   \n",
    "\n",
    "class Item:\n",
    "    def __init__(self, ...):\n",
    "        ...\n",
    "        \n",
    "    def __repr__(self):\n",
    "        ...\n",
    "\n",
    "..."
   ]
  },
  {
   "cell_type": "code",
   "execution_count": null,
   "metadata": {},
   "outputs": [],
   "source": [
    "lb = ListBox()\n",
    "lb.add(Item('a', 1))\n",
    "lb.add(Item('b', 2))\n",
    "print(lb.count())\n",
    "print(lb.empty())"
   ]
  },
  {
   "cell_type": "code",
   "execution_count": null,
   "metadata": {},
   "outputs": [],
   "source": [
    "db = DictBox()\n",
    "db.add(Item('a', 1))\n",
    "db.add(Item('b', 2))\n",
    "print(db.count())\n",
    "print(db.empty())"
   ]
  },
  {
   "cell_type": "code",
   "execution_count": null,
   "metadata": {},
   "outputs": [],
   "source": [
    "b = Box()"
   ]
  },
  {
   "cell_type": "markdown",
   "metadata": {},
   "source": [
    "### Задача 7.2:\n",
    "\n",
    "Напишите функцию `repack_boxes`, которая\n",
    "\n",
    "- принимает любое количество блоков в качестве параметров,\n",
    "- собирает все предметы, которые они содержат,\n",
    "- и перераспределяет их как можно более равномерно по всем коробкам.\n",
    "- порядок не важен.\n",
    "\n",
    "Есть несколько способов сделать это. Проверьте свой код с помощью `ListBox` с 4 элементами, `ListBox` с 9 элементами и `DictBox` с 5 элементами. \n",
    "\n",
    "Вы должны получить две коробки с 6 предметами в каждой и одну коробку с 5 предметами.\n",
    "\n",
    "\n",
    "`list.pop()`,  `while`,  `IndexError`"
   ]
  },
  {
   "cell_type": "code",
   "execution_count": null,
   "metadata": {},
   "outputs": [],
   "source": [
    "def repack_boxes(...):\n",
    "    ..."
   ]
  },
  {
   "cell_type": "code",
   "execution_count": null,
   "metadata": {},
   "outputs": [],
   "source": [
    "box1 = ListBox()\n",
    "box1.add(*[Item(str(i), i) for i in range(4)])\n",
    "\n",
    "box2 = ListBox()\n",
    "box2.add(*[Item(str(i), i) for i in range(9)])\n",
    "\n",
    "box3 = DictBox()\n",
    "box3.add(*[Item(str(i), i) for i in range(5)])\n",
    "\n",
    "print(box1.count())\n",
    "print(box2.count())\n",
    "print(box3.count())"
   ]
  },
  {
   "cell_type": "code",
   "execution_count": null,
   "metadata": {},
   "outputs": [],
   "source": [
    "repack_boxes(box1, box2, box3)\n",
    "\n",
    "print(box1.count())\n",
    "print(box2.count())\n",
    "print(box3.count())"
   ]
  },
  {
   "cell_type": "markdown",
   "metadata": {},
   "source": [
    "# 8. Замена наследования композицией\n",
    "\n",
    "### Задание 8.1:\n",
    "\n",
    "Замените множественное наследование и класс `Tutor` с использованием композиции объектов `Learner`, `Teacher` в классе `Person`"
   ]
  },
  {
   "cell_type": "code",
   "execution_count": null,
   "metadata": {},
   "outputs": [],
   "source": [
    "class Person:\n",
    "    def __init__(self, name, surname, number):\n",
    "        self.name = name\n",
    "        self.surname = surname\n",
    "        self.number = number\n",
    "\n",
    "\n",
    "class LearnerMixin:\n",
    "    def __init__(self):\n",
    "        self.classes = []\n",
    "\n",
    "    def enrol(self, course):\n",
    "        self.classes.append(course)\n",
    "\n",
    "\n",
    "class TeacherMixin:\n",
    "    def __init__(self):\n",
    "        self.courses_taught = []\n",
    "\n",
    "    def assign_teaching(self, course):\n",
    "        self.courses_taught.append(course)\n",
    "\n",
    "\n",
    "class Tutor(Person, LearnerMixin, TeacherMixin):\n",
    "    def __init__(self, *args, **kwargs):\n",
    "        LearnerMixin.__init__(self)\n",
    "        TeacherMixin.__init__(self)\n",
    "        super().__init__(*args, **kwargs)\n",
    "\n",
    "jane = Tutor('Jane', 'Smith', 'SMTJNX045')\n",
    "jane.enrol('some_course')\n",
    "jane.assign_teaching('some_other_course')"
   ]
  }
 ],
 "metadata": {
  "kernelspec": {
   "display_name": "Python 3",
   "language": "python",
   "name": "python3"
  },
  "language_info": {
   "codemirror_mode": {
    "name": "ipython",
    "version": 3
   },
   "file_extension": ".py",
   "mimetype": "text/x-python",
   "name": "python",
   "nbconvert_exporter": "python",
   "pygments_lexer": "ipython3",
   "version": "3.7.3"
  }
 },
 "nbformat": 4,
 "nbformat_minor": 2
}

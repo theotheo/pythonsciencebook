{
 "cells": [
  {
   "cell_type": "markdown",
   "metadata": {},
   "source": [
    "# Создание класса\n",
    "\n",
    "\n",
    "Примерный синтаксис:\n",
    "```\n",
    "class ClassName(Parent1, Parent2): \n",
    "    \"\"\" doc string \"\"\"\n",
    "    def __init__(self):\n",
    "        block1\n",
    "    \n",
    "    def foo(self):\n",
    "        block2\n",
    "    \n",
    "    def bar(self, x):\n",
    "        block3\n",
    "```"
   ]
  },
  {
   "cell_type": "markdown",
   "metadata": {},
   "source": [
    "Важная деталь, которая может пройти незамеченной, это соглашения об именовании класса. Согласно PEP8 имя класса должно быть в т.н. [CamelCase](https://ru.wikipedia.org/wiki/CamelCase):"
   ]
  },
  {
   "cell_type": "markdown",
   "metadata": {},
   "source": [
    "    CamelCase (с англ. — «ВерблюжийРегистр», также «ГорбатыйРегистр», «СтильВерблюда») — стиль написания составных слов, при котором несколько слов пишутся слитно без пробелов, при этом каждое слово внутри фразы пишется с прописной буквы. Стиль получил название CamelCase, поскольку прописные буквы внутри слова напоминают горбы верблюда (англ. Camel)."
   ]
  },
  {
   "cell_type": "code",
   "execution_count": 3,
   "metadata": {},
   "outputs": [],
   "source": [
    "class Person:\n",
    "    def __init__(self, name):\n",
    "        self.name = name\n",
    "        \n",
    "    def hi(self):\n",
    "        print('Hi, my name is {}'.format(self.name))\n",
    "        \n"
   ]
  },
  {
   "cell_type": "code",
   "execution_count": 4,
   "metadata": {},
   "outputs": [
    {
     "data": {
      "text/plain": [
       "<__main__.Person at 0x7f43884f0898>"
      ]
     },
     "execution_count": 4,
     "metadata": {},
     "output_type": "execute_result"
    }
   ],
   "source": [
    "john = Person('John')\n",
    "john"
   ]
  },
  {
   "cell_type": "code",
   "execution_count": 5,
   "metadata": {},
   "outputs": [
    {
     "name": "stdout",
     "output_type": "stream",
     "text": [
      "Hi, my name is John\n"
     ]
    }
   ],
   "source": [
    "john.hi()"
   ]
  },
  {
   "cell_type": "markdown",
   "metadata": {},
   "source": [
    "## self\n",
    "\n",
    "self? Что такое self? Это вопрос, которые возникает у многих. Это собственно ссылка на текущий экземпляр класса. \n",
    "\n",
    "Когда вызывает метод, то происходит следующее:\n",
    "- ищется класс объекта\n",
    "- передается наш объект, как параметр соответствующий метод класса и он вызывается\n",
    "\n",
    "Можно попробовать понять это на следующей примере:\n",
    "\n"
   ]
  },
  {
   "cell_type": "code",
   "execution_count": 7,
   "metadata": {},
   "outputs": [
    {
     "name": "stdout",
     "output_type": "stream",
     "text": [
      "Hi, my name is John\n"
     ]
    }
   ],
   "source": [
    "Person.hi(john)"
   ]
  },
  {
   "cell_type": "code",
   "execution_count": 9,
   "metadata": {},
   "outputs": [
    {
     "name": "stdout",
     "output_type": "stream",
     "text": [
      "Hi, my name is Bill\n"
     ]
    }
   ],
   "source": [
    "bill = Person('Bill')\n",
    "\n",
    "Person.hi(bill)"
   ]
  },
  {
   "cell_type": "markdown",
   "metadata": {},
   "source": [
    "### Задача \n",
    "\n",
    "Создайте класс Movie и определите конструктор класса со следующими параметрами:\n",
    "\n",
    "- заголовок\n",
    "- режиссёр\n",
    "- год выпуска\n",
    "\n",
    "Создайте объекты:\n",
    "\n",
    "- «Титаник» (реж. Джеймс Кэмерон, 1997)\n",
    "- «Звездные войны» (реж. Джордж Лукас, 1977)\n",
    "- «Бойцовский клуб» (реж. Дэвид Финчер, 1999)\n",
    "- и любой пожеланию\n",
    "\n",
    "Затем создайте метод, который возвращает возраст фильма в годах "
   ]
  }
 ],
 "metadata": {
  "kernelspec": {
   "display_name": "Python 3",
   "language": "python",
   "name": "python3"
  },
  "language_info": {
   "codemirror_mode": {
    "name": "ipython",
    "version": 3
   },
   "file_extension": ".py",
   "mimetype": "text/x-python",
   "name": "python",
   "nbconvert_exporter": "python",
   "pygments_lexer": "ipython3",
   "version": "3.6.8"
  }
 },
 "nbformat": 4,
 "nbformat_minor": 4
}

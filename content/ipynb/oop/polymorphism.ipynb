{
 "cells": [
  {
   "cell_type": "code",
   "execution_count": null,
   "metadata": {},
   "outputs": [],
   "source": [
    "https://stackoverflow.com/questions/44097280/duck-typing-vs-class-based-inheritance\n",
    "\n",
    "https://hackernoon.com/python-duck-typing-or-automatic-interfaces-73988ec9037f\n",
    "\n",
    "о. прикольный термин\n",
    "\n",
    "automatic interfaces\n",
    "\n",
    "то есть можно от интерфейса перейти к наследованию интерфейсов\n",
    "\n",
    "https://kotlinfrompython.com/2018/08/19/interfaces-delegation-composition-vs-multiple-inheritance-duck-typing/"
   ]
  }
 ],
 "metadata": {
  "kernelspec": {
   "display_name": "Python 3",
   "language": "python",
   "name": "python3"
  },
  "language_info": {
   "codemirror_mode": {
    "name": "ipython",
    "version": 3
   },
   "file_extension": ".py",
   "mimetype": "text/x-python",
   "name": "python",
   "nbconvert_exporter": "python",
   "pygments_lexer": "ipython3",
   "version": "3.6.8"
  }
 },
 "nbformat": 4,
 "nbformat_minor": 4
}

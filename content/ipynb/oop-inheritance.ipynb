{
 "cells": [
  {
   "cell_type": "markdown",
   "metadata": {},
   "source": [
    "## Наследование\n",
    "\n",
    "Для начала рассмотрим простой пример. "
   ]
  },
  {
   "cell_type": "code",
   "execution_count": 1,
   "metadata": {},
   "outputs": [],
   "source": [
    "class A():\n",
    "    pass\n",
    "\n",
    "class B(A):\n",
    "    pass"
   ]
  },
  {
   "cell_type": "markdown",
   "metadata": {},
   "source": [
    "Часто встречающаяся иллюстрация к наследованию в ООП -- это таксономия животных. \n",
    "На мой взгляд, это больше аллюзия, чем аналогия. Дело в том, что логика программирования связана с другими императивами, чем логика эволюции. \n",
    "\n",
    "![](https://upload.wikimedia.org/wikipedia/commons/0/0e/Хронограмма_современных_типов_животных_2017-09-06.png)\n",
    "\n",
    "https://ru.wikipedia.org/wiki/Животные"
   ]
  },
  {
   "cell_type": "markdown",
   "metadata": {},
   "source": [
    "Скорее иерархия классов в программирование будет похожа на ту, что описана Борхесом\n",
    "\n",
    "![](https://cs9.pikabu.ru/post_img/2018/02/24/10/1519493040120816029.png)\n",
    "\n",
    "https://pikabu.ru/story/kitayskie_zhivotnyie_5733992"
   ]
  }
 ],
 "metadata": {
  "jupytext": {
   "encoding": "# -*- coding: utf-8 -*-",
   "formats": "ipynb//ipynb,py//py,md//md"
  },
  "kernelspec": {
   "display_name": "Python 3",
   "language": "python",
   "name": "python3"
  },
  "language_info": {
   "codemirror_mode": {
    "name": "ipython",
    "version": 3
   },
   "file_extension": ".py",
   "mimetype": "text/x-python",
   "name": "python",
   "nbconvert_exporter": "python",
   "pygments_lexer": "ipython3",
   "version": "3.6.8"
  }
 },
 "nbformat": 4,
 "nbformat_minor": 2
}

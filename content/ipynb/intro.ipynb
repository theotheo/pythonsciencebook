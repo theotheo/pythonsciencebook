{
 "cells": [
  {
   "cell_type": "markdown",
   "metadata": {},
   "source": [
    "<div class=\"alert alert-block alert-info\">Сколько бы преподаватель не знал и не понимал, он зачастую не знает важного -- сколько знает и что понимает его студент!</div>\n",
    " <div style=\"text-align: right\"> Ильдар </div>"
   ]
  },
  {
   "cell_type": "markdown",
   "metadata": {},
   "source": [
    "# Введение в Питон"
   ]
  },
  {
   "cell_type": "markdown",
   "metadata": {},
   "source": [
    "## Читаем между строк"
   ]
  },
  {
   "cell_type": "markdown",
   "metadata": {
    "ExecuteTime": {
     "end_time": "2018-02-21T14:25:35.466694Z",
     "start_time": "2018-02-21T14:25:35.428518Z"
    }
   },
   "source": [
    "> Python is an easy to learn, powerful programming language. It has efficient high-level data structures and a simple but effective approach to object-oriented programming. Python’s elegant syntax and dynamic typing, together with its interpreted nature, make it an ideal language for scripting and rapid application development in many areas on most platforms.\n",
    "\n",
    "https://docs.python.org/3/tutorial/index.html"
   ]
  },
  {
   "cell_type": "markdown",
   "metadata": {},
   "source": [
    "![](https://upload.wikimedia.org/wikipedia/en/c/cb/Flyingcircus_2.jpg)"
   ]
  },
  {
   "cell_type": "markdown",
   "metadata": {},
   "source": [
    "- Python (https://en.wikipedia.org/wiki/Monty_Python)\n",
    "- easy to learn (https://cacm.acm.org/blogs/blog-cacm/176450-python-is-now-the-most-popular-introductory-teaching-language-at-top-u-s-universities/fulltext)\n",
    "- powerful \n",
    "- programming \n",
    "- language (https://docs.python.org/3/reference/grammar.html)\n",
    "- efficient high-level data structures \n",
    "- simple but effective approach to object-oriented programming\n",
    "- elegant syntax (https://en.wikipedia.org/wiki/Comparison_of_programming_languages_(syntax))\n",
    "- dynamic typing \n",
    "- interpreted nature\n",
    "- scripting\n",
    "- rapid application development\n",
    "- many areas\n",
    "- most platforms"
   ]
  },
  {
   "cell_type": "markdown",
   "metadata": {},
   "source": [
    "> The Python interpreter and the extensive standard library are freely available in source or binary form for all major platforms from the Python Web site, https://www.python.org/, and may be freely distributed. The same site also contains distributions of and pointers to many free third party Python modules, programs and tools, and additional documentation.\n",
    "\n",
    "> The Python interpreter is easily extended with new functions and data types implemented in C or C++ (or other languages callable from C). Python is also suitable as an extension language for customizable applications.\n",
    "\n",
    "https://docs.python.org/3/tutorial/index.html"
   ]
  },
  {
   "cell_type": "markdown",
   "metadata": {},
   "source": [
    "- extensive standard library (https://docs.python.org/3/library/index.html)\n",
    "- freely available in source or binary (https://github.com/python/cpython)\n",
    "- for all major platforms\n",
    "- freely distributed\n",
    "- many free third party Python modules (https://pypi.python.org/pypi)\n",
    "- programs and tools, and additional documentation\n",
    "- easily extended with new functions and data types\n",
    "- also suitable as an extension language for customizable applications "
   ]
  },
  {
   "cell_type": "markdown",
   "metadata": {},
   "source": [
    "## Установка. Дистрибутивы. Библиотеки\n",
    "\n"
   ]
  },
  {
   "cell_type": "markdown",
   "metadata": {},
   "source": [
    "## Интерпретатор and hello world\n",
    "\n",
    "![](images/prompt.png)\n",
    "\n",
    " <div style=\"text-align: right\"> за скриншот спасибо Нике Глазуновой </div> \n"
   ]
  },
  {
   "cell_type": "raw",
   "metadata": {
    "lines_to_next_cell": 2
   },
   "source": [
    "print(\"hello world!\") "
   ]
  },
  {
   "cell_type": "markdown",
   "metadata": {
    "ExecuteTime": {
     "end_time": "2018-02-21T17:00:15.939817Z",
     "start_time": "2018-02-21T17:00:15.716025Z"
    }
   },
   "source": [
    "python C:/Users/Ksenia/hello.py\n",
    "python \".../hello py.txt\"\n"
   ]
  },
  {
   "cell_type": "markdown",
   "metadata": {},
   "source": [
    "## Какой символ встречается чаще всего в приведенном коде?\n",
    "\n",
    "```\n",
    "import clr\n",
    "clr.AddReference('ProtoGeometry')\n",
    "from Autodesk.DesignScript.Geometry import *\n",
    "\n",
    "solid = IN[0]\n",
    "seed = IN[1]\n",
    "xCount = IN[2]\n",
    "yCount = IN[3]\n",
    "\n",
    "solids = []\n",
    "\n",
    "yDist = solid.BoundingBox.MaxPoint.Y-solid.BoundingBox.MinPoint.Y\n",
    "xDist = solid.BoundingBox.MaxPoint.X-solid.BoundingBox.MinPoint.X\n",
    "\n",
    "for i in xRange:\n",
    "    for j in yRange:\n",
    "        fromCoord = solid.ContextCoordinateSystem\n",
    "        toCoord = fromCoord.Rotate(solid.ContextCoordinateSystem.Origin,Vector.ByCoordinates(0,0,1),(90*(i+j%val)))\n",
    "        vec = Vector.ByCoordinates((xDist*i),(yDist*j),0)\n",
    "        toCoord = toCoord.Translate(vec)\n",
    "        solids.append(solid.Transform(fromCoord,toCoord))\n",
    "\n",
    "OUT = solids```"
   ]
  },
  {
   "cell_type": "code",
   "execution_count": 71,
   "metadata": {
    "ExecuteTime": {
     "end_time": "2018-02-21T17:07:17.175849Z",
     "start_time": "2018-02-21T17:07:17.130134Z"
    },
    "lines_to_next_cell": 0
   },
   "outputs": [
    {
     "data": {
      "text/plain": [
       "[(' ', 78),\n",
       " ('o', 70),\n",
       " ('i', 40),\n",
       " ('t', 36),\n",
       " ('r', 32),\n",
       " ('n', 32),\n",
       " ('d', 31),\n",
       " ('e', 29),\n",
       " ('s', 27),\n",
       " ('.', 24),\n",
       " ('\\n', 22),\n",
       " ('C', 15),\n",
       " ('l', 15),\n",
       " ('a', 14),\n",
       " ('x', 12),\n",
       " ('=', 12),\n",
       " ('m', 11),\n",
       " (')', 11),\n",
       " ('(', 11),\n",
       " ('y', 10),\n",
       " ('B', 10),\n",
       " ('c', 8),\n",
       " ('g', 8),\n",
       " ('f', 8),\n",
       " (',', 7),\n",
       " ('u', 7),\n",
       " (']', 5),\n",
       " ('0', 5),\n",
       " ('p', 5),\n",
       " ('P', 5),\n",
       " ('D', 5),\n",
       " ('[', 5),\n",
       " ('*', 4),\n",
       " ('I', 4),\n",
       " ('R', 4),\n",
       " ('M', 4),\n",
       " ('N', 4),\n",
       " ('v', 3),\n",
       " ('T', 3),\n",
       " ('j', 3),\n",
       " ('S', 3),\n",
       " ('G', 2),\n",
       " (\"'\", 2),\n",
       " (':', 2),\n",
       " ('X', 2),\n",
       " ('V', 2),\n",
       " ('-', 2),\n",
       " ('O', 2),\n",
       " ('A', 2),\n",
       " ('Y', 2),\n",
       " ('1', 2),\n",
       " ('9', 1),\n",
       " ('U', 1),\n",
       " ('+', 1),\n",
       " ('3', 1),\n",
       " ('k', 1),\n",
       " ('%', 1),\n",
       " ('2', 1)]"
      ]
     },
     "execution_count": 71,
     "metadata": {},
     "output_type": "execute_result"
    }
   ],
   "source": [
    "code = \"\"\"import clr\n",
    "clr.AddReference('ProtoGeometry')\n",
    "from Autodesk.DesignScript.Geometry import *\n",
    "\n",
    "solid = IN[0]\n",
    "seed = IN[1]\n",
    "xCount = IN[2]\n",
    "yCount = IN[3]\n",
    "\n",
    "solids = []\n",
    "\n",
    "yDist = solid.BoundingBox.MaxPoint.Y-solid.BoundingBox.MinPoint.Y\n",
    "xDist = solid.BoundingBox.MaxPoint.X-solid.BoundingBox.MinPoint.X\n",
    "\n",
    "for i in xRange:\n",
    "    for j in yRange:\n",
    "        fromCoord = solid.ContextCoordinateSystem\n",
    "        toCoord = fromCoord.Rotate(solid.ContextCoordinateSystem.Origin,Vector.ByCoordinates(0,0,1),(90*(i+j%val)))\n",
    "        vec = Vector.ByCoordinates((xDist*i),(yDist*j),0)\n",
    "        toCoord = toCoord.Translate(vec)\n",
    "        solids.append(solid.Transform(fromCoord,toCoord))\n",
    "\n",
    "OUT = solids\"\"\"\n",
    "\n",
    "from collections import Counter\n",
    "Counter([char for char in code]).most_common()"
   ]
  },
  {
   "cell_type": "markdown",
   "metadata": {},
   "source": [
    "\n",
    "\n",
    "\n",
    "\n",
    "\n",
    "\n",
    "\n",
    "\n"
   ]
  },
  {
   "cell_type": "markdown",
   "metadata": {},
   "source": [
    "## Working directory"
   ]
  },
  {
   "cell_type": "code",
   "execution_count": 21,
   "metadata": {
    "lines_to_next_cell": 0
   },
   "outputs": [
    {
     "name": "stdout",
     "output_type": "stream",
     "text": [
      "/home/i/80/hse/python/1\n",
      "/tmp\n"
     ]
    }
   ],
   "source": [
    "import os\n",
    "curdir = os.getcwd()\n",
    "print(curdir)\n",
    "os.chdir('/tmp')\n",
    "print(os.getcwd())\n",
    "os.chdir(curdir)"
   ]
  },
  {
   "cell_type": "markdown",
   "metadata": {},
   "source": [
    "\n"
   ]
  }
 ],
 "metadata": {
  "jupytext": {
   "encoding": "# -*- coding: utf-8 -*-",
   "formats": "ipynb//ipynb,md//md,py//py"
  },
  "kernelspec": {
   "display_name": "Python 3",
   "language": "python",
   "name": "python3"
  },
  "language_info": {
   "codemirror_mode": {
    "name": "ipython",
    "version": 3
   },
   "file_extension": ".py",
   "mimetype": "text/x-python",
   "name": "python",
   "nbconvert_exporter": "python",
   "pygments_lexer": "ipython3",
   "version": "3.6.8"
  },
  "toc": {
   "base_numbering": 1,
   "nav_menu": {},
   "number_sections": true,
   "sideBar": true,
   "skip_h1_title": false,
   "title_cell": "Table of Contents",
   "title_sidebar": "Contents",
   "toc_cell": false,
   "toc_position": {
    "height": "417px",
    "left": "0px",
    "right": "705.833px",
    "top": "144.333px",
    "width": "489.176px"
   },
   "toc_section_display": false,
   "toc_window_display": true
  }
 },
 "nbformat": 4,
 "nbformat_minor": 2
}

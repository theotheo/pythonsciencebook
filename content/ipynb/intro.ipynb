{
 "cells": [
  {
   "cell_type": "markdown",
   "metadata": {},
   "source": [
    "<div class=\"alert alert-block alert-info\">Сколько бы преподаватель не знал и не понимал, он зачастую не знает важного -- сколько знает и что понимает его студент!</div>\n",
    " <div style=\"text-align: right\"> Ильдар </div>"
   ]
  },
  {
   "cell_type": "markdown",
   "metadata": {},
   "source": [
    "# Введение в Питон"
   ]
  },
  {
   "cell_type": "markdown",
   "metadata": {},
   "source": [
    "## Читаем между строк"
   ]
  },
  {
   "cell_type": "markdown",
   "metadata": {
    "ExecuteTime": {
     "end_time": "2018-02-21T14:25:35.466694Z",
     "start_time": "2018-02-21T14:25:35.428518Z"
    }
   },
   "source": [
    "> Python is an easy to learn, powerful programming language. It has efficient high-level data structures and a simple but effective approach to object-oriented programming. Python’s elegant syntax and dynamic typing, together with its interpreted nature, make it an ideal language for scripting and rapid application development in many areas on most platforms.\n",
    "\n",
    "https://docs.python.org/3/tutorial/index.html"
   ]
  },
  {
   "cell_type": "markdown",
   "metadata": {},
   "source": [
    "![](https://upload.wikimedia.org/wikipedia/en/c/cb/Flyingcircus_2.jpg)"
   ]
  },
  {
   "cell_type": "markdown",
   "metadata": {},
   "source": [
    "- Python (https://en.wikipedia.org/wiki/Monty_Python)\n",
    "- easy to learn (https://cacm.acm.org/blogs/blog-cacm/176450-python-is-now-the-most-popular-introductory-teaching-language-at-top-u-s-universities/fulltext)\n",
    "- powerful \n",
    "- programming \n",
    "- language (https://docs.python.org/3/reference/grammar.html)\n",
    "- efficient high-level data structures \n",
    "- simple but effective approach to object-oriented programming\n",
    "- elegant syntax (https://en.wikipedia.org/wiki/Comparison_of_programming_languages_(syntax))\n",
    "- dynamic typing \n",
    "- interpreted nature\n",
    "- scripting\n",
    "- rapid application development\n",
    "- many areas\n",
    "- most platforms"
   ]
  },
  {
   "cell_type": "markdown",
   "metadata": {},
   "source": [
    "> The Python interpreter and the extensive standard library are freely available in source or binary form for all major platforms from the Python Web site, https://www.python.org/, and may be freely distributed. The same site also contains distributions of and pointers to many free third party Python modules, programs and tools, and additional documentation.\n",
    "\n",
    "> The Python interpreter is easily extended with new functions and data types implemented in C or C++ (or other languages callable from C). Python is also suitable as an extension language for customizable applications.\n",
    "\n",
    "https://docs.python.org/3/tutorial/index.html"
   ]
  },
  {
   "cell_type": "markdown",
   "metadata": {},
   "source": [
    "- extensive standard library (https://docs.python.org/3/library/index.html)\n",
    "- freely available in source or binary (https://github.com/python/cpython)\n",
    "- for all major platforms\n",
    "- freely distributed\n",
    "- many free third party Python modules (https://pypi.python.org/pypi)\n",
    "- programs and tools, and additional documentation\n",
    "- easily extended with new functions and data types\n",
    "- also suitable as an extension language for customizable applications "
   ]
  },
  {
   "cell_type": "markdown",
   "metadata": {},
   "source": [
    "## Установка. Дистрибутивы. Библиотеки\n",
    "\n"
   ]
  },
  {
   "cell_type": "markdown",
   "metadata": {},
   "source": [
    "## Интерпретатор and hello world\n",
    "\n",
    "![](images/prompt.png)\n",
    "\n",
    " <div style=\"text-align: right\"> за скриншот спасибо Нике Глазуновой </div> \n"
   ]
  },
  {
   "cell_type": "raw",
   "metadata": {
    "lines_to_next_cell": 2
   },
   "source": [
    "print(\"hello world!\") "
   ]
  },
  {
   "cell_type": "markdown",
   "metadata": {
    "ExecuteTime": {
     "end_time": "2018-02-21T17:00:15.939817Z",
     "start_time": "2018-02-21T17:00:15.716025Z"
    }
   },
   "source": [
    "python C:/Users/Ksenia/hello.py\n",
    "python \".../hello py.txt\"\n"
   ]
  },
  {
   "cell_type": "markdown",
   "metadata": {},
   "source": [
    "## Какой символ встречается чаще всего в приведенном коде?\n",
    "\n",
    "```\n",
    "import clr\n",
    "clr.AddReference('ProtoGeometry')\n",
    "from Autodesk.DesignScript.Geometry import *\n",
    "\n",
    "solid = IN[0]\n",
    "seed = IN[1]\n",
    "xCount = IN[2]\n",
    "yCount = IN[3]\n",
    "\n",
    "solids = []\n",
    "\n",
    "yDist = solid.BoundingBox.MaxPoint.Y-solid.BoundingBox.MinPoint.Y\n",
    "xDist = solid.BoundingBox.MaxPoint.X-solid.BoundingBox.MinPoint.X\n",
    "\n",
    "for i in xRange:\n",
    "    for j in yRange:\n",
    "        fromCoord = solid.ContextCoordinateSystem\n",
    "        toCoord = fromCoord.Rotate(solid.ContextCoordinateSystem.Origin,Vector.ByCoordinates(0,0,1),(90*(i+j%val)))\n",
    "        vec = Vector.ByCoordinates((xDist*i),(yDist*j),0)\n",
    "        toCoord = toCoord.Translate(vec)\n",
    "        solids.append(solid.Transform(fromCoord,toCoord))\n",
    "\n",
    "OUT = solids```"
   ]
  },
  {
   "cell_type": "code",
   "execution_count": 71,
   "metadata": {
    "ExecuteTime": {
     "end_time": "2018-02-21T17:07:17.175849Z",
     "start_time": "2018-02-21T17:07:17.130134Z"
    },
    "lines_to_next_cell": 0
   },
   "outputs": [
    {
     "data": {
      "text/plain": [
       "[(' ', 78),\n",
       " ('o', 70),\n",
       " ('i', 40),\n",
       " ('t', 36),\n",
       " ('r', 32),\n",
       " ('n', 32),\n",
       " ('d', 31),\n",
       " ('e', 29),\n",
       " ('s', 27),\n",
       " ('.', 24),\n",
       " ('\\n', 22),\n",
       " ('C', 15),\n",
       " ('l', 15),\n",
       " ('a', 14),\n",
       " ('x', 12),\n",
       " ('=', 12),\n",
       " ('m', 11),\n",
       " (')', 11),\n",
       " ('(', 11),\n",
       " ('y', 10),\n",
       " ('B', 10),\n",
       " ('c', 8),\n",
       " ('g', 8),\n",
       " ('f', 8),\n",
       " (',', 7),\n",
       " ('u', 7),\n",
       " (']', 5),\n",
       " ('0', 5),\n",
       " ('p', 5),\n",
       " ('P', 5),\n",
       " ('D', 5),\n",
       " ('[', 5),\n",
       " ('*', 4),\n",
       " ('I', 4),\n",
       " ('R', 4),\n",
       " ('M', 4),\n",
       " ('N', 4),\n",
       " ('v', 3),\n",
       " ('T', 3),\n",
       " ('j', 3),\n",
       " ('S', 3),\n",
       " ('G', 2),\n",
       " (\"'\", 2),\n",
       " (':', 2),\n",
       " ('X', 2),\n",
       " ('V', 2),\n",
       " ('-', 2),\n",
       " ('O', 2),\n",
       " ('A', 2),\n",
       " ('Y', 2),\n",
       " ('1', 2),\n",
       " ('9', 1),\n",
       " ('U', 1),\n",
       " ('+', 1),\n",
       " ('3', 1),\n",
       " ('k', 1),\n",
       " ('%', 1),\n",
       " ('2', 1)]"
      ]
     },
     "execution_count": 71,
     "metadata": {},
     "output_type": "execute_result"
    }
   ],
   "source": [
    "code = \"\"\"import clr\n",
    "clr.AddReference('ProtoGeometry')\n",
    "from Autodesk.DesignScript.Geometry import *\n",
    "\n",
    "solid = IN[0]\n",
    "seed = IN[1]\n",
    "xCount = IN[2]\n",
    "yCount = IN[3]\n",
    "\n",
    "solids = []\n",
    "\n",
    "yDist = solid.BoundingBox.MaxPoint.Y-solid.BoundingBox.MinPoint.Y\n",
    "xDist = solid.BoundingBox.MaxPoint.X-solid.BoundingBox.MinPoint.X\n",
    "\n",
    "for i in xRange:\n",
    "    for j in yRange:\n",
    "        fromCoord = solid.ContextCoordinateSystem\n",
    "        toCoord = fromCoord.Rotate(solid.ContextCoordinateSystem.Origin,Vector.ByCoordinates(0,0,1),(90*(i+j%val)))\n",
    "        vec = Vector.ByCoordinates((xDist*i),(yDist*j),0)\n",
    "        toCoord = toCoord.Translate(vec)\n",
    "        solids.append(solid.Transform(fromCoord,toCoord))\n",
    "\n",
    "OUT = solids\"\"\"\n",
    "\n",
    "from collections import Counter\n",
    "Counter([char for char in code]).most_common()"
   ]
  },
  {
   "cell_type": "markdown",
   "metadata": {},
   "source": [
    "\n",
    "\n",
    "\n",
    "\n",
    "\n",
    "\n",
    "\n",
    "\n"
   ]
  },
  {
   "cell_type": "markdown",
   "metadata": {},
   "source": [
    "## Working directory"
   ]
  },
  {
   "cell_type": "code",
   "execution_count": 21,
   "metadata": {
    "lines_to_next_cell": 2
   },
   "outputs": [
    {
     "name": "stdout",
     "output_type": "stream",
     "text": [
      "/home/i/80/hse/python/1\n",
      "/tmp\n"
     ]
    }
   ],
   "source": [
    "import os\n",
    "curdir = os.getcwd()\n",
    "print(curdir)\n",
    "os.chdir('/tmp')\n",
    "print(os.getcwd())\n",
    "os.chdir(curdir)"
   ]
  },
  {
   "cell_type": "markdown",
   "metadata": {},
   "source": [
    "# Reflections"
   ]
  },
  {
   "cell_type": "markdown",
   "metadata": {},
   "source": [
    "## type "
   ]
  },
  {
   "cell_type": "code",
   "execution_count": null,
   "metadata": {},
   "outputs": [],
   "source": [
    "type(3)"
   ]
  },
  {
   "cell_type": "code",
   "execution_count": null,
   "metadata": {},
   "outputs": [],
   "source": [
    "type(1.0)"
   ]
  },
  {
   "cell_type": "code",
   "execution_count": null,
   "metadata": {},
   "outputs": [],
   "source": [
    "type(1 + 1j)"
   ]
  },
  {
   "cell_type": "code",
   "execution_count": null,
   "metadata": {},
   "outputs": [],
   "source": [
    "type('Hello') "
   ]
  },
  {
   "cell_type": "code",
   "execution_count": null,
   "metadata": {},
   "outputs": [],
   "source": [
    "type([1, 2])"
   ]
  },
  {
   "cell_type": "code",
   "execution_count": null,
   "metadata": {},
   "outputs": [],
   "source": [
    "type([1, [2, 'Hello']]) "
   ]
  },
  {
   "cell_type": "code",
   "execution_count": null,
   "metadata": {},
   "outputs": [],
   "source": [
    "type({'city': 'Paris'}) "
   ]
  },
  {
   "cell_type": "code",
   "execution_count": null,
   "metadata": {},
   "outputs": [],
   "source": [
    "type((1,2)) "
   ]
  },
  {
   "cell_type": "code",
   "execution_count": null,
   "metadata": {},
   "outputs": [],
   "source": [
    "type(set()) "
   ]
  },
  {
   "cell_type": "markdown",
   "metadata": {},
   "source": [
    "## Isinstance"
   ]
  },
  {
   "cell_type": "code",
   "execution_count": null,
   "metadata": {},
   "outputs": [],
   "source": [
    "isinstance(3, int)"
   ]
  },
  {
   "cell_type": "code",
   "execution_count": null,
   "metadata": {},
   "outputs": [],
   "source": [
    "isinstance([1, 2], list)"
   ]
  },
  {
   "cell_type": "code",
   "execution_count": null,
   "metadata": {},
   "outputs": [],
   "source": [
    "isinstance(3, object)"
   ]
  },
  {
   "cell_type": "code",
   "execution_count": null,
   "metadata": {},
   "outputs": [],
   "source": [
    "isinstance([1, 2], object)"
   ]
  },
  {
   "cell_type": "code",
   "execution_count": null,
   "metadata": {},
   "outputs": [],
   "source": [
    "class Parent: pass                   \n",
    "Parent"
   ]
  },
  {
   "cell_type": "code",
   "execution_count": null,
   "metadata": {},
   "outputs": [],
   "source": [
    "class Child(Parent): pass   \n",
    "Child"
   ]
  },
  {
   "cell_type": "code",
   "execution_count": null,
   "metadata": {},
   "outputs": [],
   "source": [
    "child = Child()                           "
   ]
  },
  {
   "cell_type": "code",
   "execution_count": null,
   "metadata": {},
   "outputs": [],
   "source": [
    "print isinstance(child, Child)    "
   ]
  },
  {
   "cell_type": "code",
   "execution_count": null,
   "metadata": {},
   "outputs": [],
   "source": [
    "print isinstance(child, Parent) "
   ]
  },
  {
   "cell_type": "code",
   "execution_count": null,
   "metadata": {},
   "outputs": [],
   "source": [
    "print isinstance(child, object) "
   ]
  },
  {
   "cell_type": "markdown",
   "metadata": {},
   "source": [
    "## issubclass"
   ]
  },
  {
   "cell_type": "code",
   "execution_count": null,
   "metadata": {},
   "outputs": [],
   "source": [
    "issubclass(Child, Parent)"
   ]
  },
  {
   "cell_type": "code",
   "execution_count": null,
   "metadata": {},
   "outputs": [],
   "source": [
    "issubclass(Parent, Child)    "
   ]
  },
  {
   "cell_type": "code",
   "execution_count": null,
   "metadata": {},
   "outputs": [],
   "source": [
    "issubclass(Child, object)    "
   ]
  },
  {
   "cell_type": "code",
   "execution_count": null,
   "metadata": {},
   "outputs": [],
   "source": [
    "issubclass(Parent, object)    "
   ]
  },
  {
   "cell_type": "markdown",
   "metadata": {},
   "source": [
    "## dir"
   ]
  },
  {
   "cell_type": "code",
   "execution_count": null,
   "metadata": {},
   "outputs": [],
   "source": [
    "dir(1)"
   ]
  },
  {
   "cell_type": "code",
   "execution_count": null,
   "metadata": {},
   "outputs": [],
   "source": [
    "dir('string')"
   ]
  },
  {
   "cell_type": "markdown",
   "metadata": {},
   "source": [
    "## getattr"
   ]
  },
  {
   "cell_type": "code",
   "execution_count": null,
   "metadata": {},
   "outputs": [],
   "source": [
    "getattr(3, \"imag\")"
   ]
  },
  {
   "cell_type": "code",
   "execution_count": null,
   "metadata": {},
   "outputs": [],
   "source": [
    "f = getattr('string', 'upper')\n",
    "f"
   ]
  },
  {
   "cell_type": "code",
   "execution_count": null,
   "metadata": {},
   "outputs": [],
   "source": [
    "f()"
   ]
  },
  {
   "cell_type": "markdown",
   "metadata": {},
   "source": [
    "## callable"
   ]
  },
  {
   "cell_type": "code",
   "execution_count": null,
   "metadata": {},
   "outputs": [],
   "source": [
    "callable(2)"
   ]
  },
  {
   "cell_type": "code",
   "execution_count": null,
   "metadata": {},
   "outputs": [],
   "source": [
    "callable(len)"
   ]
  },
  {
   "cell_type": "code",
   "execution_count": null,
   "metadata": {},
   "outputs": [],
   "source": [
    "def foo():\n",
    "    pass\n",
    "callable(foo)"
   ]
  },
  {
   "cell_type": "markdown",
   "metadata": {},
   "source": [
    "## keyword"
   ]
  },
  {
   "cell_type": "code",
   "execution_count": 1,
   "metadata": {},
   "outputs": [
    {
     "data": {
      "text/plain": [
       "True"
      ]
     },
     "execution_count": 1,
     "metadata": {},
     "output_type": "execute_result"
    }
   ],
   "source": [
    "import keyword\n",
    "pykeywords = keyword.kwlist\n",
    "keyword.iskeyword(\"if\")\n",
    "keyword.iskeyword(\"True\")"
   ]
  },
  {
   "cell_type": "markdown",
   "metadata": {},
   "source": [
    "## __builtins__"
   ]
  },
  {
   "cell_type": "code",
   "execution_count": null,
   "metadata": {},
   "outputs": [],
   "source": [
    "dir(__builtins__)  "
   ]
  },
  {
   "cell_type": "markdown",
   "metadata": {},
   "source": [
    "# Exceptions"
   ]
  },
  {
   "cell_type": "markdown",
   "metadata": {},
   "source": [
    "## Examples"
   ]
  },
  {
   "cell_type": "code",
   "execution_count": null,
   "metadata": {},
   "outputs": [],
   "source": [
    "10 / 0"
   ]
  },
  {
   "cell_type": "code",
   "execution_count": null,
   "metadata": {},
   "outputs": [],
   "source": [
    "prin(10)"
   ]
  },
  {
   "cell_type": "code",
   "execution_count": null,
   "metadata": {},
   "outputs": [],
   "source": [
    "for i in [1, 2]\n",
    "    print(i)"
   ]
  },
  {
   "cell_type": "markdown",
   "metadata": {},
   "source": [
    "## Handling Exceptions"
   ]
  },
  {
   "cell_type": "code",
   "execution_count": null,
   "metadata": {},
   "outputs": [],
   "source": [
    "try:\n",
    "    10 / 0\n",
    "except Exception:\n",
    "    print('Exception')"
   ]
  },
  {
   "cell_type": "code",
   "execution_count": null,
   "metadata": {},
   "outputs": [],
   "source": [
    "try:\n",
    "    10 / 0\n",
    "except Exception as e:\n",
    "    print('Exception: {}'.format(e))"
   ]
  },
  {
   "cell_type": "code",
   "execution_count": null,
   "metadata": {},
   "outputs": [],
   "source": [
    "while True:\n",
    "    try:\n",
    "        x = int(raw_input(\"Please enter a number: \"))\n",
    "        break\n",
    "    except ValueError:\n",
    "        print( \"Oops!  That was no valid number.  Try again...\")"
   ]
  },
  {
   "cell_type": "code",
   "execution_count": null,
   "metadata": {},
   "outputs": [],
   "source": [
    "import sys\n",
    "\n",
    "try:\n",
    "    f = open('myfile.txt')\n",
    "    s = f.readline()\n",
    "    i = int(s.strip())\n",
    "except IOError as e:\n",
    "    print( \"I/O error({0}): {1}\".format(e.errno, e.strerror))\n",
    "except ValueError:\n",
    "    print( \"Could not convert data to an integer.\")\n",
    "except:\n",
    "    print( \"Unexpected error:\", sys.exc_info()[0])\n",
    "    raise"
   ]
  },
  {
   "cell_type": "markdown",
   "metadata": {},
   "source": [
    "## Built-in exceptions"
   ]
  },
  {
   "cell_type": "raw",
   "metadata": {},
   "source": [
    "BaseException\n",
    "+-- SystemExit\n",
    "+-- KeyboardInterrupt\n",
    "+-- GeneratorExit\n",
    "+-- Exception\n",
    "+-- StopIteration\n",
    "+-- StopAsyncIteration\n",
    "+-- ArithmeticError\n",
    "| +-- FloatingPointError\n",
    "| +-- OverflowError\n",
    "| +-- ZeroDivisionError\n",
    "+-- AssertionError\n",
    "+-- AttributeError\n",
    "+-- BufferError\n",
    "+-- EOFError\n",
    "+-- ImportError\n",
    "+-- ModuleNotFoundError\n",
    "+-- LookupError\n",
    "| +-- IndexError\n",
    "| +-- KeyError\n",
    "+-- MemoryError\n",
    "+-- NameError\n",
    "| +-- UnboundLocalError\n",
    "+-- OSError\n",
    "| +-- BlockingIOError\n",
    "| +-- ChildProcessError\n",
    "| +-- ConnectionError\n",
    "| | +-- BrokenPipeError\n",
    "| | +-- ConnectionAbortedError\n",
    "| | +-- ConnectionRefusedError\n",
    "| | +-- ConnectionResetError\n",
    "| +-- FileExistsError\n",
    "| +-- FileNotFoundError\n",
    "| +-- InterruptedError\n",
    "| +-- IsADirectoryError\n",
    "| +-- NotADirectoryError\n",
    "| +-- PermissionError\n",
    "| +-- ProcessLookupError\n",
    "| +-- TimeoutError\n",
    "+-- ReferenceError\n",
    "+-- RuntimeError\n",
    "| +-- NotImplementedError\n",
    "| +-- RecursionError\n",
    "+-- SyntaxError\n",
    "| +-- IndentationError\n",
    "| +-- TabError\n",
    "+-- SystemError\n",
    "+-- TypeError\n",
    "+-- ValueError\n",
    "| +-- UnicodeError\n",
    "| +-- UnicodeDecodeError\n",
    "| +-- UnicodeEncodeError\n",
    "| +-- UnicodeTranslateError\n",
    "+-- Warning\n",
    "+-- DeprecationWarning\n",
    "+-- PendingDeprecationWarning\n",
    "+-- RuntimeWarning\n",
    "+-- SyntaxWarning\n",
    "+-- UserWarning\n",
    "+-- FutureWarning\n",
    "+-- ImportWarning\n",
    "+-- UnicodeWarning\n",
    "+-- BytesWarning\n",
    "+-- ResourceWarning"
   ]
  },
  {
   "cell_type": "code",
   "execution_count": null,
   "metadata": {},
   "outputs": [],
   "source": [
    "from IPython.display import HTML\n",
    "HTML('<iframe src=\"https://docs.python.org/3/library/exceptions.html#concrete-exceptions\" width=600 height=600>')"
   ]
  },
  {
   "cell_type": "markdown",
   "metadata": {},
   "source": [
    "## Raise"
   ]
  },
  {
   "cell_type": "code",
   "execution_count": null,
   "metadata": {},
   "outputs": [],
   "source": [
    "raise NameError('HiThere')"
   ]
  },
  {
   "cell_type": "markdown",
   "metadata": {},
   "source": [
    "## finally"
   ]
  },
  {
   "cell_type": "code",
   "execution_count": null,
   "metadata": {},
   "outputs": [],
   "source": [
    "i = 1\n",
    "\n",
    "try:\n",
    "    print(10 / i)\n",
    "except ZeroDivisionError:\n",
    "    print('ZeroDivisionError')\n",
    "finally:\n",
    "    print('Goodbye, world!')"
   ]
  },
  {
   "cell_type": "markdown",
   "metadata": {},
   "source": [
    "## User-defined exceptions"
   ]
  },
  {
   "cell_type": "code",
   "execution_count": null,
   "metadata": {},
   "outputs": [],
   "source": [
    "def validate(name):\n",
    "    if len(name) < 10:\n",
    "        raise ValueError"
   ]
  },
  {
   "cell_type": "code",
   "execution_count": null,
   "metadata": {},
   "outputs": [],
   "source": [
    "validate('joe')"
   ]
  },
  {
   "cell_type": "code",
   "execution_count": null,
   "metadata": {},
   "outputs": [],
   "source": [
    "class NameTooShortError(ValueError):\n",
    "    pass"
   ]
  },
  {
   "cell_type": "code",
   "execution_count": null,
   "metadata": {},
   "outputs": [],
   "source": [
    "def validate(name):\n",
    "    if len(name) < 10:\n",
    "        raise NameTooShortError(name)\n",
    "##"
   ]
  }
 ],
 "metadata": {
  "jupytext": {
   "encoding": "# -*- coding: utf-8 -*-",
   "formats": "ipynb//ipynb,md//md,py//py"
  },
  "kernelspec": {
   "display_name": "Python 3",
   "language": "python",
   "name": "python3"
  },
  "language_info": {
   "codemirror_mode": {
    "name": "ipython",
    "version": 3
   },
   "file_extension": ".py",
   "mimetype": "text/x-python",
   "name": "python",
   "nbconvert_exporter": "python",
   "pygments_lexer": "ipython3",
   "version": "3.6.8"
  },
  "toc": {
   "base_numbering": 1,
   "nav_menu": {},
   "number_sections": true,
   "sideBar": true,
   "skip_h1_title": false,
   "title_cell": "Table of Contents",
   "title_sidebar": "Contents",
   "toc_cell": false,
   "toc_position": {
    "height": "417px",
    "left": "0px",
    "right": "705.833px",
    "top": "144.333px",
    "width": "489.176px"
   },
   "toc_section_display": false,
   "toc_window_display": true
  }
 },
 "nbformat": 4,
 "nbformat_minor": 2
}

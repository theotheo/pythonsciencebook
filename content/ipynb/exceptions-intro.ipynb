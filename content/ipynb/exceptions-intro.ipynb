{
 "cells": [
  {
   "cell_type": "markdown",
   "metadata": {},
   "source": [
    "# Exceptions"
   ]
  },
  {
   "cell_type": "markdown",
   "metadata": {},
   "source": [
    "## Examples"
   ]
  },
  {
   "cell_type": "code",
   "execution_count": null,
   "metadata": {},
   "outputs": [],
   "source": [
    "10 / 0"
   ]
  },
  {
   "cell_type": "code",
   "execution_count": null,
   "metadata": {},
   "outputs": [],
   "source": [
    "prin(10)"
   ]
  },
  {
   "cell_type": "code",
   "execution_count": null,
   "metadata": {},
   "outputs": [],
   "source": [
    "for i in [1, 2]\n",
    "    print(i)"
   ]
  },
  {
   "cell_type": "markdown",
   "metadata": {},
   "source": [
    "## Handling Exceptions"
   ]
  },
  {
   "cell_type": "code",
   "execution_count": null,
   "metadata": {},
   "outputs": [],
   "source": [
    "try:\n",
    "    10 / 0\n",
    "except Exception:\n",
    "    print('Exception')"
   ]
  },
  {
   "cell_type": "code",
   "execution_count": null,
   "metadata": {},
   "outputs": [],
   "source": [
    "try:\n",
    "    10 / 0\n",
    "except Exception as e:\n",
    "    print('Exception: {}'.format(e))"
   ]
  },
  {
   "cell_type": "code",
   "execution_count": null,
   "metadata": {},
   "outputs": [],
   "source": [
    "while True:\n",
    "    try:\n",
    "        x = int(raw_input(\"Please enter a number: \"))\n",
    "        break\n",
    "    except ValueError:\n",
    "        print( \"Oops!  That was no valid number.  Try again...\")"
   ]
  },
  {
   "cell_type": "code",
   "execution_count": null,
   "metadata": {},
   "outputs": [],
   "source": [
    "import sys\n",
    "\n",
    "try:\n",
    "    f = open('myfile.txt')\n",
    "    s = f.readline()\n",
    "    i = int(s.strip())\n",
    "except IOError as e:\n",
    "    print( \"I/O error({0}): {1}\".format(e.errno, e.strerror))\n",
    "except ValueError:\n",
    "    print( \"Could not convert data to an integer.\")\n",
    "except:\n",
    "    print( \"Unexpected error:\", sys.exc_info()[0])\n",
    "    raise"
   ]
  },
  {
   "cell_type": "markdown",
   "metadata": {},
   "source": [
    "## Built-in exceptions"
   ]
  },
  {
   "cell_type": "raw",
   "metadata": {},
   "source": [
    "  BaseException\n",
    "  +-- SystemExit\n",
    "  +-- KeyboardInterrupt\n",
    "  +-- GeneratorExit\n",
    "  +-- Exception\n",
    "  +-- StopIteration\n",
    "  +-- StopAsyncIteration\n",
    "  +-- ArithmeticError\n",
    "  | +-- FloatingPointError\n",
    "  | +-- OverflowError\n",
    "  | +-- ZeroDivisionError\n",
    "  +-- AssertionError\n",
    "  +-- AttributeError\n",
    "  +-- BufferError\n",
    "  +-- EOFError\n",
    "  +-- ImportError\n",
    "  +-- ModuleNotFoundError\n",
    "  +-- LookupError\n",
    "  | +-- IndexError\n",
    "  | +-- KeyError\n",
    "  +-- MemoryError\n",
    "  +-- NameError\n",
    "  | +-- UnboundLocalError\n",
    "  +-- OSError\n",
    "  | +-- BlockingIOError\n",
    "  | +-- ChildProcessError\n",
    "  | +-- ConnectionError\n",
    "  | | +-- BrokenPipeError\n",
    "  | | +-- ConnectionAbortedError\n",
    "  | | +-- ConnectionRefusedError\n",
    "  | | +-- ConnectionResetError\n",
    "  | +-- FileExistsError\n",
    "  | +-- FileNotFoundError\n",
    "  | +-- InterruptedError\n",
    "  | +-- IsADirectoryError\n",
    "  | +-- NotADirectoryError\n",
    "  | +-- PermissionError\n",
    "  | +-- ProcessLookupError\n",
    "  | +-- TimeoutError\n",
    "  +-- ReferenceError\n",
    "  +-- RuntimeError\n",
    "  | +-- NotImplementedError\n",
    "  | +-- RecursionError\n",
    "  +-- SyntaxError\n",
    "  | +-- IndentationError\n",
    "  | +-- TabError\n",
    "  +-- SystemError\n",
    "  +-- TypeError\n",
    "  +-- ValueError\n",
    "  | +-- UnicodeError\n",
    "  | +-- UnicodeDecodeError\n",
    "  | +-- UnicodeEncodeError\n",
    "  | +-- UnicodeTranslateError\n",
    "  +-- Warning\n",
    "  +-- DeprecationWarning\n",
    "  +-- PendingDeprecationWarning\n",
    "  +-- RuntimeWarning\n",
    "  +-- SyntaxWarning\n",
    "  +-- UserWarning\n",
    "  +-- FutureWarning\n",
    "  +-- ImportWarning\n",
    "  +-- UnicodeWarning\n",
    "  +-- BytesWarning\n",
    "  +-- ResourceWarning"
   ]
  },
  {
   "cell_type": "code",
   "execution_count": null,
   "metadata": {},
   "outputs": [],
   "source": [
    "from IPython.display import HTML\n",
    "HTML('<iframe src=\"https://docs.python.org/3/library/exceptions.html#concrete-exceptions\" width=600 height=600>')"
   ]
  },
  {
   "cell_type": "markdown",
   "metadata": {},
   "source": [
    "## Raise"
   ]
  },
  {
   "cell_type": "code",
   "execution_count": null,
   "metadata": {},
   "outputs": [],
   "source": [
    "raise NameError('HiThere')"
   ]
  },
  {
   "cell_type": "markdown",
   "metadata": {},
   "source": [
    "## finally"
   ]
  },
  {
   "cell_type": "code",
   "execution_count": null,
   "metadata": {},
   "outputs": [],
   "source": [
    "i = 1\n",
    "\n",
    "try:\n",
    "    print(10 / i)\n",
    "except ZeroDivisionError:\n",
    "    print('ZeroDivisionError')\n",
    "finally:\n",
    "    print('Goodbye, world!')"
   ]
  },
  {
   "cell_type": "markdown",
   "metadata": {},
   "source": [
    "## User-defined exceptions"
   ]
  },
  {
   "cell_type": "code",
   "execution_count": null,
   "metadata": {},
   "outputs": [],
   "source": [
    "def validate(name):\n",
    "    if len(name) < 10:\n",
    "        raise ValueError"
   ]
  },
  {
   "cell_type": "code",
   "execution_count": null,
   "metadata": {},
   "outputs": [],
   "source": [
    "validate('joe')"
   ]
  },
  {
   "cell_type": "code",
   "execution_count": null,
   "metadata": {},
   "outputs": [],
   "source": [
    "class NameTooShortError(ValueError):\n",
    "    pass"
   ]
  },
  {
   "cell_type": "code",
   "execution_count": null,
   "metadata": {},
   "outputs": [],
   "source": [
    "def validate(name):\n",
    "    if len(name) < 10:\n",
    "        raise NameTooShortError(name)"
   ]
  }
 ],
 "metadata": {
  "jupytext": {
   "formats": "ipynb//ipynb,py//py,md//md"
  },
  "kernelspec": {
   "display_name": "Python 3",
   "language": "python",
   "name": "python3"
  },
  "language_info": {
   "codemirror_mode": {
    "name": "ipython",
    "version": 3
   },
   "file_extension": ".py",
   "mimetype": "text/x-python",
   "name": "python",
   "nbconvert_exporter": "python",
   "pygments_lexer": "ipython3",
   "version": "3.6.8"
  }
 },
 "nbformat": 4,
 "nbformat_minor": 2
}

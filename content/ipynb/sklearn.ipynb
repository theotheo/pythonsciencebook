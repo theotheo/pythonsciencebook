{
 "cells": [
  {
   "cell_type": "markdown",
   "metadata": {},
   "source": [
    "# График коммитов\n",
    "\n",
    "# График вопросов на СО?\n",
    "\n",
    "# График гугл трендс?\n",
    "\n",
    "# Roadmap\n",
    "\n",
    "# Архитектура\n",
    "\n",
    "# Scikit-Learn API\n",
    "\n",
    "BaseEstimator, TransformerMixin"
   ]
  }
 ],
 "metadata": {
  "jupytext": {
   "cell_metadata_filter": "-all",
   "encoding": "# -*- coding: utf-8 -*-",
   "formats": "ipynb//ipynb,py//py,md//md",
   "main_language": "python"
  }
 },
 "nbformat": 4,
 "nbformat_minor": 2
}

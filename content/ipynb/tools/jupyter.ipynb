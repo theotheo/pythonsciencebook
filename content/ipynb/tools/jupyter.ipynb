{
 "cells": [
  {
   "cell_type": "markdown",
   "metadata": {},
   "source": [
    "## [Jupyter](https://jupyter.org)\n",
    "\n",
    "![](https://jupyter.org/assets/main-logo.svg)\n",
    "\n",
    "\n",
    "**Jupyter**, а точнее Project Jupyter -- организация, активно развивающая несколько связанных opensource-проектов, посвященных интерактивным вычислениям. Флагманским проектом является Jupyter Notebook, который часто и называют просто Jupyter. \n",
    "\n",
    "Jupyter появился в 2014 году, как ответвление IPython. Название является отсылкой к 3 языкам программирования: Julia, Python и R; а так же данью тетрадками Галлилея, в которых он записал наблюдения лун Юпитера.  \n",
    "\n",
    "### Jupyter Notebook\n",
    "![](https://jupyter.org/assets/jupyterpreview.png)\n",
    "\n",
    "На данный момент **Jupyter Notebook** популярная среда разработки, в том числе разработки data-science приложений. Jupyter создан на базе web-стека, то есть с использованием технологий HTML/CSS/Javascript и клиент-серверной архитектуры, общающейся по HTTP. Иначе говоря, Jupyter Notebook -- это *веб-приложение* и соответственно ему доступно вся мощь браузеров для отображения контента: результатов вычислений, картинок, интерактивных графиков.  \n",
    "\n",
    "Для того, чтобы работать в этой среде надо понять идею собственно тетрадок. Тетрадка -- это документ, состоящий из множество ячеек. Ячейки бывают 2 типов: ячейки кода и ячейки текста. Сама ячейка состоит из input и output (и еще метаданных, но это другой вопрос). \n",
    "\n",
    "Собственно работа с ячейкой выглядит следующий образом:\n",
    "- ввод (или изменение) кода или текста в input ячейки\n",
    "- запуск ячейки\n",
    "- взаимодействие с output\n",
    "\n",
    "В ячейки с кодом пишется код на каком-то языке программирования. Обычно это Python, но может быть R, Scala и много других вариантов. Ячейку можно отредактировать и перезапустить.\n",
    "\n",
    "В итоге работа с тетрадкой представляет собой последовательное создание ячеек, написания в них нужного кода или поясняющего текста  \n"
   ]
  },
  {
   "cell_type": "markdown",
   "execution_count": null,
   "metadata": {},
   "outputs": [],
   "source": [
    "### Jupyter Lab\n",
    "**Jupyter Lab** -- это развитие Notebook, представляющее собой, скажем так, надстройку над Notebook, позволяющую более удобно оперировать как самими тетрадками, так и файлами. ДЛя простоты можно смотреть на Lab, как на более развитый интерфейс работы с Notebook. Или просто как на новую версию Notebook. \n",
    "\n",
    "Главным отличительными особенностями интерфейса можно назвать вкладки, позволяющую работать сразу с несколько тетрадками в одном окне, и боковую панель, облегчающую доступ как к тетрадкам, так и просто любым файлам.\n",
    "\n",
    "Помимо этого Lab появились возможности для презентаций контента, а именно интерфейс представлений (View), позволяющий вынести в отдельное окно только результаты (без кода) нужных ячеек."
   ]
  },
  {
   "cell_type": "markdown",
   "execution_count": null,
   "metadata": {},
   "outputs": [],
   "source": [
    "## Расширения\n",
    "Jupyter Notebook помимо того, что является opensource, имеет так же отдельные возможности для расширения. Для примера установим расширение **Nbtutor**.\n",
    "\n",
    "\n",
    "### [Nbtutor](https://github.com/lgpage/nbtutor)\n",
    "![](https://raw.githubusercontent.com/lgpage/nbtutor/master/usage.gif)\n",
    "\n",
    "Nbtutor -- расширение, пошагово визуализующей обновление объектов, по аналогии с сайтом Python Tutor.  \n",
    "\n",
    "#### Установка \n",
    "```bash\n",
    "pip install nbtutor\n",
    "jupyter nbextension install --overwrite --py nbtutor\n",
    "jupyter nbextension enable --py nbtutor\n",
    "```\n",
    "\n",
    "#### Работа\n",
    "Сначала нужно запустить магию для загрузки расширения:\n",
    "\n",
    "`%load_ext nbtutor`\n",
    "\n",
    "А затем можно уже запустить магию уровня ячейки для анализа кода в соответствующей ячейке:\n",
    "\n",
    "`%%nbtutor`\n",
    "\n",
    "### [Jupyter Notebook Extensions](https://jupyter-contrib-nbextensions.readthedocs.io/en/latest/)\n",
    "Помимо установки расширений по отдельности, рекомендуется воспользоватся коллекцией полезных расширений собранных в неофициальный пакет Jupyter Notebook Extensions.\n",
    "\n",
    "Установка его не отличается от установки других пакетов питона:\n",
    "```bash\n",
    "$ pip install jupyter_contrib_nbextensions\n",
    "```\n",
    "\n",
    "Подробности установки и описания расширений можно посмотреть по ссылке. \n",
    "\n",
    "### [Jupyter Nbextensions Configurator](https://github.com/Jupyter-contrib/jupyter_nbextensions_configurator)\n",
    "\n",
    "Для еще большего удобства был создан отдельный пакет [Jupyter Nbextensions Configurator\n",
    "](https://github.com/Jupyter-contrib/jupyter_nbextensions_configurator), добавляющий в интерфейс Jupyter Notebook вкладки с возможностью включить и настроить то или иное расширение. \n",
    "\n",
    "Ставиться он так же как и другие пакеты:\n",
    "```bash\n",
    "$ pip install jupyter_nbextensions_configurator\n",
    "```\n",
    "Но помимо установки его нужно еще включить отдельной командой:\n",
    "```bash\n",
    "$ jupyter nbextensions_configurator enable --user\n",
    "```\n",
    "\n",
    "\n",
    "![](https://raw.githubusercontent.com/Jupyter-contrib/jupyter_nbextensions_configurator/master/src/jupyter_nbextensions_configurator/static/nbextensions_configurator/icon.png)\n",
    "\n",
    "\n"
   ]
  },
  {
   "cell_type": "markdown",
   "metadata": {},
   "source": []
  }
 ],
 "metadata": {
  "jupytext": {
   "formats": "ipynb//ipynb,py//py,md//md"
  },
  "kernelspec": {
   "display_name": "Python 3",
   "language": "python",
   "name": "python3"
  },
  "language_info": {
   "codemirror_mode": {
    "name": "ipython",
    "version": 3
   },
   "file_extension": ".py",
   "mimetype": "text/x-python",
   "name": "python",
   "nbconvert_exporter": "python",
   "pygments_lexer": "ipython3",
   "version": "3.6.8"
  }
 },
 "nbformat": 4,
 "nbformat_minor": 2
}
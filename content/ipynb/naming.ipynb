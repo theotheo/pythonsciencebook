{
 "cells": [
  {
   "cell_type": "markdown",
   "metadata": {},
   "source": [
    "### именование\n",
    "\n",
    "имена переменных могут состоять из\n",
    "- букв\n",
    "- цифр\n",
    "- знака подчеркивания\n",
    "\n",
    "но начинаться только с букв и подчеркивания"
   ]
  },
  {
   "cell_type": "code",
   "execution_count": null,
   "metadata": {
    "lines_to_next_cell": 2
   },
   "outputs": [],
   "source": [
    "abc1 = 1\n",
    "_abc1 = 1"
   ]
  },
  {
   "cell_type": "code",
   "execution_count": null,
   "metadata": {},
   "outputs": [],
   "source": [
    "ab.c = 1"
   ]
  },
  {
   "cell_type": "code",
   "execution_count": null,
   "metadata": {},
   "outputs": [],
   "source": [
    "1_abc = 1"
   ]
  },
  {
   "cell_type": "code",
   "execution_count": null,
   "metadata": {},
   "outputs": [],
   "source": [
    "break = 1"
   ]
  },
  {
   "cell_type": "markdown",
   "metadata": {},
   "source": [
    "### 30+ keywords"
   ]
  },
  {
   "cell_type": "code",
   "execution_count": null,
   "metadata": {},
   "outputs": [],
   "source": [
    "and\n",
    "as \n",
    "assert \n",
    "break \n",
    "class \n",
    "continue\n",
    "def\n",
    "del \n",
    "elif \n",
    "else \n",
    "except \n",
    "exec\n",
    "finally \n",
    "for \n",
    "from \n",
    "global \n",
    "if \n",
    "import\n",
    "in \n",
    "is \n",
    "lambda \n",
    "nonlocal \n",
    "not \n",
    "or\n",
    "pass \n",
    "raise \n",
    "return \n",
    "try \n",
    "while \n",
    "with\n",
    "yield \n",
    "True \n",
    "False \n",
    "None"
   ]
  },
  {
   "cell_type": "code",
   "execution_count": null,
   "metadata": {
    "lines_to_next_cell": 2
   },
   "outputs": [],
   "source": [
    "from IPython.display import HTML\n",
    "HTML('<iframe width=800 height=400 src=\"https://martinfowler.com/bliki/TwoHardThings.html\">')"
   ]
  },
  {
   "cell_type": "markdown",
   "metadata": {},
   "source": [
    "### underscore, dunders\n",
    "\n",
    "- одно подчеркивание в начале: _var\n",
    "- одно подчеркивание с конца: var_\n",
    "- двойное подчеркивание в начале: __var\n",
    "- двойное подчеркивание в начале и с конца: __var__\n",
    "- просто подчеркивание: _"
   ]
  }
 ],
 "metadata": {
  "jupytext": {
   "encoding": "# -*- coding: utf-8 -*-",
   "formats": "ipynb//ipynb,py//py,md//md"
  },
  "kernelspec": {
   "display_name": "Python 3",
   "language": "python",
   "name": "python3"
  },
  "language_info": {
   "codemirror_mode": {
    "name": "ipython",
    "version": 3
   },
   "file_extension": ".py",
   "mimetype": "text/x-python",
   "name": "python",
   "nbconvert_exporter": "python",
   "pygments_lexer": "ipython3",
   "version": "3.6.8"
  }
 },
 "nbformat": 4,
 "nbformat_minor": 2
}

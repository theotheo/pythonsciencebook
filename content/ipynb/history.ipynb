{
 "cells": [
  {
   "cell_type": "code",
   "execution_count": null,
   "metadata": {
    "lines_to_next_cell": 0
   },
   "outputs": [],
   "source": []
  },
  {
   "cell_type": "markdown",
   "metadata": {
    "hide_input": true
   },
   "source": [
    "## Питон ползет вверх\n",
    "\n",
    "![](images/toebe.png)\n",
    "https://www.tiobe.com/tiobe-index/\n",
    "\n",
    "![](images/pypl.png)\n",
    "http://pypl.github.io/PYPL.html\n",
    "    \n",
    "![](images/spectrum.png)\n",
    "https://spectrum.ieee.org/computing/software/the-2017-top-programming-languages\n",
    "\n",
    "![](https://zgab33vy595fw5zq-zippykid.netdna-ssl.com/wp-content/uploads/2017/09/growth_major_languages-1-700x600.png)\n",
    "https://stackoverflow.blog/2017/09/06/incredible-growth-python/"
   ]
  },
  {
   "cell_type": "markdown",
   "metadata": {},
   "source": [
    "![](https://zgab33vy595fw5zq-zippykid.netdna-ssl.com/wp-content/uploads/2017/09/tag_network_graph-1-768x768.png)"
   ]
  },
  {
   "cell_type": "markdown",
   "metadata": {},
   "source": [
    "## Версии\n",
    "\n",
    "![](https://upload.wikimedia.org/wikipedia/commons/8/8c/PythonTimeline_1.png)\n",
    "\n",
    "https://en.wikipedia.org/wiki/History_of_Python\n",
    "https://en.wikibooks.org/wiki/Python_Programming/Version_history"
   ]
  },
  {
   "cell_type": "markdown",
   "metadata": {},
   "source": [
    "![](https://upload.wikimedia.org/wikipedia/commons/2/23/PythonTimeline_2.png)"
   ]
  }
 ],
 "metadata": {
  "jupytext": {
   "encoding": "# -*- coding: utf-8 -*-",
   "formats": "ipynb//ipynb,py//py,md//md"
  },
  "kernelspec": {
   "display_name": "Python 3",
   "language": "python",
   "name": "python3"
  },
  "language_info": {
   "codemirror_mode": {
    "name": "ipython",
    "version": 3
   },
   "file_extension": ".py",
   "mimetype": "text/x-python",
   "name": "python",
   "nbconvert_exporter": "python",
   "pygments_lexer": "ipython3",
   "version": "3.6.8"
  }
 },
 "nbformat": 4,
 "nbformat_minor": 2
}

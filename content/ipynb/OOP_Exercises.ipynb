{
 "cells": [
  {
   "cell_type": "markdown",
   "metadata": {},
   "source": [
    "# 1. Cоздание класса"
   ]
  },
  {
   "cell_type": "markdown",
   "metadata": {},
   "source": [
    "### задача 1.1:"
   ]
  },
  {
   "cell_type": "markdown",
   "metadata": {},
   "source": [
    "`class`, `атрибуты`, `методы`, `__init__`, `self`"
   ]
  },
  {
   "cell_type": "markdown",
   "metadata": {},
   "source": [
    "Создайте класс Movie и определите конструктор класса с такими параметрами, как \n",
    "    - заголовок, \n",
    "    - директор, \n",
    "    - год выпуска.\n",
    "\n",
    "Создайте такие объекты, как\n",
    "    - «Титаник» (реж. Джеймс Кэмерон, 1997), \n",
    "    - «Звездные войны» (реж. Джордж Лукас, 1977), \n",
    "    - «Бойцовский клуб» (реж. Дэвид Финчер, 1999).\n",
    "\n",
    "Затем создайте метод, который возвращает возраст фильма в годах. "
   ]
  },
  {
   "cell_type": "markdown",
   "metadata": {},
   "source": [
    "### решение:"
   ]
  },
  {
   "cell_type": "code",
   "execution_count": null,
   "metadata": {},
   "outputs": [],
   "source": [
    "class Movie:\n",
    "    def __init__(self, ...):\n",
    "        self.header = \n",
    "        \n",
    "    def get_movie_age(self):\n",
    "        pass #2019 - self.year"
   ]
  },
  {
   "cell_type": "markdown",
   "metadata": {},
   "source": [
    "# 2. Aтрибуты класса"
   ]
  },
  {
   "cell_type": "markdown",
   "metadata": {},
   "source": [
    "### задача 2.1:"
   ]
  },
  {
   "cell_type": "markdown",
   "metadata": {},
   "source": [
    "Объясните разницу между атрибутами:\n",
    "    - name, \n",
    "    - surname \n",
    "    - и profession,\n",
    "а так же какие значения они могут принимать для различных объектов данного класса."
   ]
  },
  {
   "cell_type": "code",
   "execution_count": 108,
   "metadata": {},
   "outputs": [],
   "source": [
    "class Smith:\n",
    "    surname = \"Smith\"\n",
    "    profession = \"smith\"\n",
    "\n",
    "    def __init__(self, name, profession=None):\n",
    "        self.name = name\n",
    "        if profession is not None:\n",
    "            self.profession = profession"
   ]
  },
  {
   "cell_type": "markdown",
   "metadata": {},
   "source": [
    "### решение:"
   ]
  },
  {
   "cell_type": "markdown",
   "metadata": {},
   "source": [
    "`name` -- всегда атрибут объекта, который задается в конструкторе. у каждого объекта свое значение имени. \n",
    "\n",
    "`surname` -- всегда атрибут класса, и он не может быть переписан в конструкторе -- у каждого объекта по умолчанию фамилия Smith\n",
    "\n",
    "`profession` --  атрибут класса, но он может быть заменен атрибутом объекта в конструкторе -- a до тех пор у всех объектов профессия будет smith."
   ]
  },
  {
   "cell_type": "markdown",
   "metadata": {},
   "source": [
    "# 3. Декораторы класса"
   ]
  },
  {
   "cell_type": "markdown",
   "metadata": {},
   "source": [
    "`@classmethod`, `@staticmethod`, `@property`, `@name.setter`, `@name.deleter`"
   ]
  },
  {
   "cell_type": "markdown",
   "metadata": {},
   "source": [
    "### задача 3.1:"
   ]
  },
  {
   "cell_type": "markdown",
   "metadata": {},
   "source": [
    "Создайте класс `Numbers` с одним атрибутом `MULTIPLIER`, и с конструктором, который принимает параметры `x` and `y` (они должны быть числами).\n",
    "\n",
    "- Напишите метод `add` который возвращает сумму атрибутов `x` и `y`.\n",
    "- Напишите метод класса `multiply`, который принимает один числовой параметр `a` и возвращает произведение `a` и `MULTIPLIER`.\n",
    "- Напишите статический метод `subtract`, который принимает два числовых параметра `b` and `c` и возвращает `b - c`.\n",
    "- Напишите метод `value` который возвращает кортеж, содержащий значения `x` и `y`. \n",
    "- Превратите этот метод в свойство (`property`), \n",
    "- и напишите `setter` и `deleter` для работы с переменными `x` и `y`."
   ]
  },
  {
   "cell_type": "markdown",
   "metadata": {},
   "source": [
    "### решение:"
   ]
  },
  {
   "cell_type": "code",
   "execution_count": 16,
   "metadata": {},
   "outputs": [],
   "source": [
    "class Numbers:\n",
    "    MULTIPLIER = 3.5\n",
    "\n",
    "    def __init__(self, x, y):\n",
    "        self.x = x\n",
    "        self.y = y\n",
    "\n",
    "    def add(self):\n",
    "        return self.x + self.y\n",
    "\n",
    "    @classmethod\n",
    "    def multiply(cls, a):\n",
    "        return cls.MULTIPLIER * a\n",
    "\n",
    "    @staticmethod\n",
    "    def subtract(b, c):\n",
    "        return b - c\n",
    "\n",
    "    @property\n",
    "    def value(self):\n",
    "        return (self.x, self.y)\n",
    "\n",
    "    @value.setter\n",
    "    def value(self, xy_tuple):\n",
    "        self.x, self.y = xy_tuple\n",
    "\n",
    "    @value.deleter\n",
    "    def value(self):\n",
    "        del self.x\n",
    "        del self.y"
   ]
  },
  {
   "cell_type": "markdown",
   "metadata": {},
   "source": [
    "# 4. Перегрузка магических методов"
   ]
  },
  {
   "cell_type": "markdown",
   "metadata": {},
   "source": [
    "### задача 4.1:"
   ]
  },
  {
   "cell_type": "markdown",
   "metadata": {},
   "source": [
    "`__init__`, `__str__`"
   ]
  },
  {
   "cell_type": "markdown",
   "metadata": {},
   "source": [
    "Посмотрите на класс `Element`:"
   ]
  },
  {
   "cell_type": "code",
   "execution_count": 16,
   "metadata": {},
   "outputs": [],
   "source": [
    "class Element:\n",
    "    def __init__(self, name, symbol, number):\n",
    "        self.name = name\n",
    "        self.symbol = symbol\n",
    "        self.number = number\n",
    "    def dump(self):\n",
    "        print('name={}, symbol={}, number={}'.format(self.name, self.symbol, self.number))"
   ]
  },
  {
   "cell_type": "code",
   "execution_count": 17,
   "metadata": {},
   "outputs": [
    {
     "name": "stdout",
     "output_type": "stream",
     "text": [
      "name=Hydrogen, symbol=H, number=1\n"
     ]
    }
   ],
   "source": [
    "el_dict = {'name': 'Hydrogen', 'symbol': 'H', 'number': 1}\n",
    "hydrogen = Element(**el_dict)\n",
    "hydrogen.dump()"
   ]
  },
  {
   "cell_type": "markdown",
   "metadata": {},
   "source": [
    "Вызовите метод `print(hydrogen)`. \n",
    "\n",
    "В классе `Element` измените имя метода `dump` на `__str__`\n",
    "\n",
    "Cоздайте новый объект hydrogen и вызовите `print(hydrogen)` снова."
   ]
  },
  {
   "cell_type": "markdown",
   "metadata": {},
   "source": [
    "### решение:"
   ]
  },
  {
   "cell_type": "code",
   "execution_count": 6,
   "metadata": {},
   "outputs": [
    {
     "name": "stdout",
     "output_type": "stream",
     "text": [
      "<__main__.Element object at 0x106528ba8>\n"
     ]
    }
   ],
   "source": [
    "print(hydrogen)"
   ]
  },
  {
   "cell_type": "code",
   "execution_count": 18,
   "metadata": {},
   "outputs": [],
   "source": [
    "class Element:\n",
    "    def __init__(self, name, symbol, number):\n",
    "        self.name = name\n",
    "        self.symbol = symbol\n",
    "        self.number = number\n",
    "    def __str__(self):\n",
    "        return ('name={}, symbol={}, number={}'.format(self.name, self.symbol, self.number))"
   ]
  },
  {
   "cell_type": "code",
   "execution_count": 19,
   "metadata": {},
   "outputs": [],
   "source": [
    "hydrogen = Element(**el_dict)"
   ]
  },
  {
   "cell_type": "code",
   "execution_count": 20,
   "metadata": {
    "scrolled": true
   },
   "outputs": [
    {
     "name": "stdout",
     "output_type": "stream",
     "text": [
      "name=Hydrogen, symbol=H, number=1\n"
     ]
    }
   ],
   "source": [
    "print(hydrogen)"
   ]
  },
  {
   "cell_type": "markdown",
   "metadata": {},
   "source": [
    "### задача 4.2:"
   ]
  },
  {
   "cell_type": "markdown",
   "metadata": {},
   "source": [
    "`__class__`,`__name__`,`__dict__`,`__str__`,\n",
    "\n",
    "`setattr ( obj, key, value )`"
   ]
  },
  {
   "cell_type": "markdown",
   "metadata": {},
   "source": [
    "Напишите класс для создания генеративных объектов: \n",
    "- его функция `__init__` должна принимать любое количество пар ключ-значение, \n",
    "- и устанавливать значения в качестве атрибутов объекта, \n",
    "- а ключи -- в качестве имен данных атрибутов. \n",
    "\n",
    "Напишите метод `__str__` для класса: \n",
    "- возвращаемая строка должна содержать имя класса и значения всех пользовательских атрибутов объекта."
   ]
  },
  {
   "cell_type": "markdown",
   "metadata": {},
   "source": [
    "### решение:"
   ]
  },
  {
   "cell_type": "code",
   "execution_count": 29,
   "metadata": {},
   "outputs": [],
   "source": [
    "class AnyClass:\n",
    "    def __init__(self, **kwargs):\n",
    "        for k, v in kwargs.items():\n",
    "            setattr(self, k, v)\n",
    "\n",
    "    def __str__(self):\n",
    "        attrs = [\"{}={}\".format(k, v) for (k, v) in self.__dict__.items()]\n",
    "        classname = self.__class__.__name__\n",
    "        return \"{}: {}\" .format(classname, \" \".join(attrs))"
   ]
  },
  {
   "cell_type": "code",
   "execution_count": 121,
   "metadata": {},
   "outputs": [
    {
     "data": {
      "text/plain": [
       "{'name': 'u', 'surname': 'q', 'title': 'Dr'}"
      ]
     },
     "execution_count": 121,
     "metadata": {},
     "output_type": "execute_result"
    }
   ],
   "source": [
    "p.__dict__"
   ]
  },
  {
   "cell_type": "code",
   "execution_count": 122,
   "metadata": {},
   "outputs": [],
   "source": [
    "a = AnyClass(**p.__dict__)"
   ]
  },
  {
   "cell_type": "code",
   "execution_count": 123,
   "metadata": {},
   "outputs": [
    {
     "data": {
      "text/plain": [
       "<__main__.AnyClass at 0x1069b5ba8>"
      ]
     },
     "execution_count": 123,
     "metadata": {},
     "output_type": "execute_result"
    }
   ],
   "source": [
    "a"
   ]
  },
  {
   "cell_type": "code",
   "execution_count": 124,
   "metadata": {},
   "outputs": [
    {
     "data": {
      "text/plain": [
       "'AnyClass: title=Dr name=u surname=q'"
      ]
     },
     "execution_count": 124,
     "metadata": {},
     "output_type": "execute_result"
    }
   ],
   "source": [
    "str(a)"
   ]
  },
  {
   "cell_type": "markdown",
   "metadata": {},
   "source": [
    "# 5. Наследование"
   ]
  },
  {
   "cell_type": "markdown",
   "metadata": {},
   "source": [
    "`Exception`"
   ]
  },
  {
   "cell_type": "markdown",
   "metadata": {},
   "source": [
    "### задача 5.1:"
   ]
  },
  {
   "cell_type": "markdown",
   "metadata": {},
   "source": [
    "Очень распространенным вариантом использования наследования является создание пользовательской иерархии исключений.\n",
    "\n",
    "Напишите простую программу, которая перебирает список пользовательских данных (кортежи, содержащие имя пользователя, адрес электронной почты и возраст) и добавляет каждого пользователя в каталог, если он проходит по заданным ниже условиям. \n",
    "\n",
    "Напишите простую иерархию исключений, которая определяет разные исключения для каждого из следующих состояний ошибки:\n",
    "\n",
    "- имя пользователя не уникально\n",
    "- возраст не является положительным целым числом\n",
    "- пользователь моложе 16 лет\n",
    "- адрес электронной почты недействителен (достаточно просто проверить имя пользователя, символ @ и доменное имя). \n",
    "\n",
    "При несоблюдении этих условий поднимите соответвующие исключения в своей программе. \n",
    "\n",
    "Всякий раз, когда возникает исключение, ваша программа должна перейти к следующему набору данных в списке.\n",
    "\n",
    "Распечатайте разные сообщения об ошибках для каждого вида исключения.\n",
    "\n",
    "Вы можете считать адрес электронной почты действительным, если он содержит один символ @ и имеет непустое имя пользователя и имя домена."
   ]
  },
  {
   "cell_type": "code",
   "execution_count": 22,
   "metadata": {},
   "outputs": [],
   "source": [
    "user_data_list = [\n",
    "    (\"jane\", \"jane@example.com\", 21),\n",
    "    (\"bob\", \"bob@example\", 19),\n",
    "    (\"jane\", \"jane2@example.com\", 25),\n",
    "    (\"steve\", \"steve@somewhere\", 15),\n",
    "    (\"joe\", \"joe\", 23),\n",
    "    (\"anna\", \"anna@example.com\", -3),\n",
    "]"
   ]
  },
  {
   "cell_type": "markdown",
   "metadata": {},
   "source": [
    "### решение:"
   ]
  },
  {
   "cell_type": "code",
   "execution_count": 23,
   "metadata": {
    "scrolled": true
   },
   "outputs": [
    {
     "name": "stdout",
     "output_type": "stream",
     "text": [
      "Username 'jane' is in use.\n",
      "User steve is underage.\n",
      "'joe' is not a valid email address.\n",
      "Invalid age: -3\n"
     ]
    }
   ],
   "source": [
    "# Exceptions\n",
    "\n",
    "class DuplicateUsernameError(Exception):\n",
    "    pass\n",
    "\n",
    "class InvalidAgeError(Exception):\n",
    "    pass\n",
    "\n",
    "class UnderageError(Exception):\n",
    "    pass\n",
    "\n",
    "class InvalidEmailError(Exception):\n",
    "    pass\n",
    "\n",
    "# A class for a user's data\n",
    "\n",
    "class User:\n",
    "    def __init__(self, username, email):\n",
    "        self.username = username\n",
    "        self.email = email\n",
    "\n",
    "directory = {}\n",
    "\n",
    "for username, email, age in user_data_list:\n",
    "    try:\n",
    "        if username in directory:\n",
    "            raise DuplicateUsernameError()\n",
    "        if age < 0:\n",
    "            raise InvalidAgeError()\n",
    "        if age < 16:\n",
    "            raise UnderageError()\n",
    "\n",
    "        email_parts = email.split('@')\n",
    "        if len(email_parts) != 2 or not email_parts[0] or not email_parts[1]:\n",
    "            raise InvalidEmailError()\n",
    "\n",
    "    except DuplicateUsernameError:\n",
    "        print(\"Username '{}' is in use.\".format(username))\n",
    "    except InvalidAgeError:\n",
    "        print(\"Invalid age: {}\".format(age))\n",
    "    except UnderageError:\n",
    "        print(\"User {} is underage.\".format(username))\n",
    "    except InvalidEmailError:\n",
    "        print(\"'{}' is not a valid email address.\".format(email))\n",
    "\n",
    "    else:\n",
    "        directory[username] = User(username, email)"
   ]
  },
  {
   "cell_type": "code",
   "execution_count": 24,
   "metadata": {},
   "outputs": [
    {
     "data": {
      "text/plain": [
       "{'bob': <__main__.User at 0x1067a12b0>, 'jane': <__main__.User at 0x1067a12e8>}"
      ]
     },
     "execution_count": 24,
     "metadata": {},
     "output_type": "execute_result"
    }
   ],
   "source": [
    "directory"
   ]
  },
  {
   "cell_type": "markdown",
   "metadata": {},
   "source": [
    "# 6. Множественное наследование"
   ]
  },
  {
   "cell_type": "markdown",
   "metadata": {},
   "source": [
    "### задача 6.1:"
   ]
  },
  {
   "cell_type": "markdown",
   "metadata": {},
   "source": [
    "Создайте mix-in классы: \n",
    "- `Vehicle` c атрибутом `position` и методом `travel`\n",
    "- `RadioMixin` с атрибутом `station` и методом `play_song_on_station`\n",
    "\n",
    "Унаследуйте от данных классов класс `Car`\n",
    "\n",
    "Проверьте функциональность экземпляра нового класса"
   ]
  },
  {
   "cell_type": "markdown",
   "metadata": {},
   "source": [
    "### решение:"
   ]
  },
  {
   "cell_type": "code",
   "execution_count": 29,
   "metadata": {},
   "outputs": [],
   "source": [
    "class Vehicle(object):\n",
    "    def __init__(self, position):\n",
    "        self.position = position\n",
    "\n",
    "    def travel(self, destination):\n",
    "        route = destination - self.position\n",
    "        print('traveled for {} miles'.format(route))\n",
    "        self.position = destination\n",
    "        \n",
    "        \n",
    "class RadioMixin(object):\n",
    "    def __init__(self, default_station):\n",
    "        self.station = default_station\n",
    "\n",
    "    def play_song_on_station(self, station=None):\n",
    "        if station:\n",
    "            self.station = station\n",
    "        \n",
    "        print('plaing {} station'.format(self.station))\n",
    "        \n",
    "class Car(Vehicle, RadioMixin):\n",
    "    def __init__(self, *args, **kwargs):\n",
    "        self.station = RadioMixin('jkl')\n",
    "        super(Car, self).__init__(*args, **kwargs)"
   ]
  },
  {
   "cell_type": "code",
   "execution_count": 31,
   "metadata": {},
   "outputs": [],
   "source": [
    "c = Car(34)"
   ]
  },
  {
   "cell_type": "code",
   "execution_count": 34,
   "metadata": {},
   "outputs": [
    {
     "name": "stdout",
     "output_type": "stream",
     "text": [
      "plaing S station\n"
     ]
    }
   ],
   "source": [
    "c.play_song_on_station('S')"
   ]
  },
  {
   "cell_type": "code",
   "execution_count": 35,
   "metadata": {},
   "outputs": [
    {
     "name": "stdout",
     "output_type": "stream",
     "text": [
      "traveled for 65 miles\n"
     ]
    }
   ],
   "source": [
    "c.travel(99)"
   ]
  },
  {
   "cell_type": "markdown",
   "metadata": {},
   "source": [
    "# 7. Интерфейсы (полиморфизм)"
   ]
  },
  {
   "cell_type": "markdown",
   "metadata": {},
   "source": [
    "`NotImplementedError`, `metaclass=abc.ABCMeta`, `@abc.abstractmethod`, \n",
    "\n",
    "`isinstance()`, `hasattr()`"
   ]
  },
  {
   "cell_type": "markdown",
   "metadata": {},
   "source": [
    "### задача 7.1:"
   ]
  },
  {
   "cell_type": "markdown",
   "metadata": {},
   "source": [
    "Напишите «абстрактный» класс `Box` и используйте его для определения некоторых методов, которые должен иметь любой объект `Box`:\n",
    "\n",
    "- `add` - для добавления любого количества элементов в поле,\n",
    "- `empty` -  чтобы вынуть все предметы из коробки и вернуть их в виде списка,\n",
    "- `count` - для подсчета предметов, которые в настоящее время находятся в коробке.\n",
    "\n",
    "Напишите простой класс `Item`, который имеет:\n",
    "\n",
    "- атрибут `name` \n",
    "- атрибут `value`\n",
    "\n",
    "вы можете предположить, что все предметы, которые вы будете использовать, будут объектами класса `Item`.\n",
    "\n",
    "Теперь напишите два подкласса Box, которые используют разные базовые коллекции для хранения предметов:\n",
    "\n",
    "- `ListBox` должен использовать список,\n",
    "- `DictBox` должен использовать словарь."
   ]
  },
  {
   "cell_type": "markdown",
   "metadata": {},
   "source": [
    "### решение:"
   ]
  },
  {
   "cell_type": "code",
   "execution_count": 37,
   "metadata": {},
   "outputs": [],
   "source": [
    "class Box:\n",
    "    def add(self, *items):\n",
    "        raise NotImplementedError()\n",
    "\n",
    "    def empty(self):\n",
    "        raise NotImplementedError()\n",
    "\n",
    "    def count(self):\n",
    "        raise NotImplementedError()\n",
    "\n",
    "\n",
    "class Item:\n",
    "    def __init__(self, name, value):\n",
    "        self.name = name\n",
    "        self.value = value\n",
    "\n",
    "\n",
    "class ListBox(Box):\n",
    "    def __init__(self):\n",
    "        self._items = []\n",
    "\n",
    "    def add(self, *items):\n",
    "        self._items.extend(items)\n",
    "\n",
    "    def empty(self):\n",
    "        items = self._items\n",
    "        self._items = []\n",
    "        return items\n",
    "\n",
    "    def count(self):\n",
    "        return len(self._items)\n",
    "\n",
    "\n",
    "class DictBox(Box):\n",
    "    def __init__(self):\n",
    "        self._items = {}\n",
    "\n",
    "    def add(self, *items):\n",
    "        self._items.update(dict((i.name, i) for i in items))\n",
    "\n",
    "    def empty(self):\n",
    "        items = list(self._items.values())\n",
    "        self._items = {}\n",
    "        return items\n",
    "\n",
    "    def count(self):\n",
    "        return len(self._items)"
   ]
  },
  {
   "cell_type": "code",
   "execution_count": 87,
   "metadata": {},
   "outputs": [],
   "source": [
    "lb = ListBox()"
   ]
  },
  {
   "cell_type": "code",
   "execution_count": 88,
   "metadata": {},
   "outputs": [],
   "source": [
    "lb.add(Item('a', 1))"
   ]
  },
  {
   "cell_type": "code",
   "execution_count": 89,
   "metadata": {},
   "outputs": [],
   "source": [
    "lb.add(Item('b', 2))"
   ]
  },
  {
   "cell_type": "code",
   "execution_count": 90,
   "metadata": {},
   "outputs": [
    {
     "data": {
      "text/plain": [
       "2"
      ]
     },
     "execution_count": 90,
     "metadata": {},
     "output_type": "execute_result"
    }
   ],
   "source": [
    "lb.count()"
   ]
  },
  {
   "cell_type": "code",
   "execution_count": 91,
   "metadata": {},
   "outputs": [
    {
     "data": {
      "text/plain": [
       "[<__main__.Item at 0x106991ef0>, <__main__.Item at 0x106991860>]"
      ]
     },
     "execution_count": 91,
     "metadata": {},
     "output_type": "execute_result"
    }
   ],
   "source": [
    "lb.empty()"
   ]
  },
  {
   "cell_type": "markdown",
   "metadata": {},
   "source": [
    "### задача 7.2:"
   ]
  },
  {
   "cell_type": "markdown",
   "metadata": {},
   "source": [
    "Напишите функцию `repack_boxes`, которая\n",
    "\n",
    "- принимает любое количество блоков в качестве параметров,\n",
    "- собирает все предметы, которые они содержат,\n",
    "- и перераспределяет их как можно более равномерно по всем коробкам.\n",
    "- порядок не важен.\n",
    "\n",
    "Есть несколько способов сделать это. Проверьте свой код с помощью `ListBox` с 4 элементами, `ListBox` с 9 элементами и `DictBox` с 5 элементами. \n",
    "\n",
    "Вы должны получить две коробки с 6 предметами в каждой и одну коробку с 5 предметами."
   ]
  },
  {
   "cell_type": "markdown",
   "metadata": {},
   "source": [
    "### решение:"
   ]
  },
  {
   "cell_type": "markdown",
   "metadata": {},
   "source": [
    "`list.pop()`,  `while`,  `IndexError`"
   ]
  },
  {
   "cell_type": "code",
   "execution_count": 198,
   "metadata": {},
   "outputs": [],
   "source": [
    "def repack_boxes(*boxes):\n",
    "    items = []\n",
    "\n",
    "    for box in boxes:\n",
    "        items.extend(box.empty())\n",
    "\n",
    "    while items:\n",
    "        for box in boxes:\n",
    "            try:\n",
    "                box.add(items.pop())\n",
    "            except IndexError:\n",
    "                break"
   ]
  },
  {
   "cell_type": "code",
   "execution_count": 199,
   "metadata": {},
   "outputs": [
    {
     "name": "stdout",
     "output_type": "stream",
     "text": [
      "4\n",
      "9\n",
      "5\n"
     ]
    }
   ],
   "source": [
    "box1 = ListBox()\n",
    "box1.add(*[Item(str(i), i) for i in range(4)])\n",
    "\n",
    "box2 = ListBox()\n",
    "box2.add(*[Item(str(i), i) for i in range(9)])\n",
    "\n",
    "box3 = DictBox()\n",
    "box3.add(*[Item(str(i), i) for i in range(5)])\n",
    "\n",
    "print(box1.count())\n",
    "print(box2.count())\n",
    "print(box3.count())"
   ]
  },
  {
   "cell_type": "code",
   "execution_count": 200,
   "metadata": {},
   "outputs": [
    {
     "name": "stdout",
     "output_type": "stream",
     "text": [
      "6\n",
      "6\n",
      "5\n"
     ]
    }
   ],
   "source": [
    "repack_boxes(box1, box2, box3)\n",
    "\n",
    "print(box1.count())\n",
    "print(box2.count())\n",
    "print(box3.count())"
   ]
  },
  {
   "cell_type": "markdown",
   "metadata": {},
   "source": [
    "# 8. Замена наследования композицией"
   ]
  },
  {
   "cell_type": "markdown",
   "metadata": {},
   "source": [
    "### задание 8.1:"
   ]
  },
  {
   "cell_type": "markdown",
   "metadata": {},
   "source": [
    "Замените множественное наследование и класс `Tutor` с использованием композиции объектов `Learner`, `Teacher` в классе `Person`"
   ]
  },
  {
   "cell_type": "code",
   "execution_count": 10,
   "metadata": {},
   "outputs": [],
   "source": [
    "class Person:\n",
    "    def __init__(self, name, surname, number):\n",
    "        self.name = name\n",
    "        self.surname = surname\n",
    "        self.number = number\n",
    "\n",
    "\n",
    "class LearnerMixin:\n",
    "    def __init__(self):\n",
    "        self.classes = []\n",
    "\n",
    "    def enrol(self, course):\n",
    "        self.classes.append(course)\n",
    "\n",
    "\n",
    "class TeacherMixin:\n",
    "    def __init__(self):\n",
    "        self.courses_taught = []\n",
    "\n",
    "    def assign_teaching(self, course):\n",
    "        self.courses_taught.append(course)\n",
    "\n",
    "\n",
    "class Tutor(Person, LearnerMixin, TeacherMixin):\n",
    "    def __init__(self, *args, **kwargs):\n",
    "        self.classes = []\n",
    "        self.courses_taught = []\n",
    "        super(Tutor, self).__init__(*args, **kwargs)\n",
    "\n",
    "jane = Tutor(\"Jane\", \"Smith\", \"SMTJNX045\")\n",
    "jane.enrol('a_postgrad_course')\n",
    "jane.assign_teaching('an_undergrad_course')"
   ]
  },
  {
   "cell_type": "markdown",
   "metadata": {},
   "source": [
    "### решение:"
   ]
  },
  {
   "cell_type": "code",
   "execution_count": 3,
   "metadata": {},
   "outputs": [],
   "source": [
    "class Learner:\n",
    "    def __init__(self):\n",
    "        self.classes = []\n",
    "\n",
    "    def enrol(self, course):\n",
    "        self.classes.append(course)\n",
    "\n",
    "\n",
    "class Teacher:\n",
    "    def __init__(self):\n",
    "        self.courses_taught = []\n",
    "\n",
    "    def assign_teaching(self, course):\n",
    "        self.courses_taught.append(course)\n",
    "\n",
    "\n",
    "class Person:\n",
    "    def __init__(self, name, surname, number, learner=None, teacher=None):\n",
    "        self.name = name\n",
    "        self.surname = surname\n",
    "        self.number = number\n",
    "\n",
    "        self.learner = learner\n",
    "        self.teacher = teacher\n",
    "\n",
    "jane = Person(\"Jane\", \"Smith\", \"SMTJNX045\", Learner(), Teacher())\n",
    "jane.learner.enrol('a_postgrad_course')\n",
    "jane.teacher.assign_teaching('an_undergrad_course')"
   ]
  }
 ],
 "metadata": {
  "jupytext": {
   "encoding": "# -*- coding: utf-8 -*-",
   "formats": "ipynb//ipynb,py//py,md//md"
  },
  "kernelspec": {
   "display_name": "Python 3",
   "language": "python",
   "name": "python3"
  }
 },
 "nbformat": 4,
 "nbformat_minor": 2
}

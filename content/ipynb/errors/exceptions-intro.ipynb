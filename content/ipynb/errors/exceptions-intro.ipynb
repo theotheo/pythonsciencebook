{
 "cells": [
  {
   "cell_type": "markdown",
   "metadata": {},
   "source": [
    "# Исключения\n",
    "\n",
    "Программирование, как и любая другая деятельность, не обходится без ошибок. Более того, сложно себе даже представить программу, не содержащую ошибок.  \n",
    "\n",
    "Если сравнивать написание программы с чем-то, то в этом контексте оно похоже на написание школьного сочинения, за которое ставят 2 оценки. Одна оценка будет за орфографию, а вторая за содержание. И вам нужна 5 за орфографию, чтобы компьютер принял ваше \"сочинение\". В тоже время содержание он оценивать не очень умеет и готов ставить 5 за любую строки. Ошибки \"по орфографии\" принято в программировании называть \"синтаксические\". А все остальные зовутся семантическими или логическими, то есть ошибки в смысле (логике) кода. Причем некоторые из логическим ошибок являются фатальными для программы, а некоторые же остаются незамеченными и только приводят к неверным результатам. \n",
    "\n",
    "\n",
    "Одно из правил программировании гласящая \"fail fast\" , подразумевает, что программа должна выдавать ошибку как можно раньше. И связано это как раз с тем, чтобы ошибки не оставались незамеченными. В тоже время порой мы можем ожидать наличие каких-то проблем в работе и хотим, чтобы их появление не останавливало нашу программу. В силу этого в программировании придуман ряд механизмом как их нахождения ошибок, так и их обработки.\n",
    "\n",
    " \n",
    "В Python обработка ошибок базируется вокруг механизма исключений (exceptions). Наверняка, читатель, уже столкнулся с тем или иным исключением, даже если он того не подозревал. \n",
    "\n",
    "Давайте рассмотрим несколько примеров."
   ]
  },
  {
   "cell_type": "code",
   "execution_count": 1,
   "metadata": {},
   "outputs": [
    {
     "ename": "ZeroDivisionError",
     "evalue": "division by zero",
     "output_type": "error",
     "traceback": [
      "\u001b[0;31m---------------------------------------------------------------------------\u001b[0m",
      "\u001b[0;31mZeroDivisionError\u001b[0m                         Traceback (most recent call last)",
      "\u001b[0;32m<ipython-input-1-cd759d3fcf39>\u001b[0m in \u001b[0;36m<module>\u001b[0;34m\u001b[0m\n\u001b[0;32m----> 1\u001b[0;31m \u001b[0;36m10\u001b[0m \u001b[0;34m/\u001b[0m \u001b[0;36m0\u001b[0m\u001b[0;34m\u001b[0m\u001b[0;34m\u001b[0m\u001b[0m\n\u001b[0m",
      "\u001b[0;31mZeroDivisionError\u001b[0m: division by zero"
     ]
    }
   ],
   "source": [
    "10 / 0"
   ]
  },
  {
   "cell_type": "code",
   "execution_count": 2,
   "metadata": {},
   "outputs": [
    {
     "ename": "NameError",
     "evalue": "name 'prin' is not defined",
     "output_type": "error",
     "traceback": [
      "\u001b[0;31m---------------------------------------------------------------------------\u001b[0m",
      "\u001b[0;31mNameError\u001b[0m                                 Traceback (most recent call last)",
      "\u001b[0;32m<ipython-input-2-082613919b8d>\u001b[0m in \u001b[0;36m<module>\u001b[0;34m\u001b[0m\n\u001b[0;32m----> 1\u001b[0;31m \u001b[0mprin\u001b[0m\u001b[0;34m(\u001b[0m\u001b[0;36m10\u001b[0m\u001b[0;34m)\u001b[0m\u001b[0;34m\u001b[0m\u001b[0;34m\u001b[0m\u001b[0m\n\u001b[0m",
      "\u001b[0;31mNameError\u001b[0m: name 'prin' is not defined"
     ]
    }
   ],
   "source": [
    "prin(10)"
   ]
  },
  {
   "cell_type": "code",
   "execution_count": 4,
   "metadata": {},
   "outputs": [
    {
     "ename": "FileNotFoundError",
     "evalue": "[Errno 2] No such file or directory: 'notexist.txt'",
     "output_type": "error",
     "traceback": [
      "\u001b[0;31m---------------------------------------------------------------------------\u001b[0m",
      "\u001b[0;31mFileNotFoundError\u001b[0m                         Traceback (most recent call last)",
      "\u001b[0;32m<ipython-input-4-3d93e67465df>\u001b[0m in \u001b[0;36m<module>\u001b[0;34m\u001b[0m\n\u001b[0;32m----> 1\u001b[0;31m \u001b[0mopen\u001b[0m\u001b[0;34m(\u001b[0m\u001b[0;34m'notexist.txt'\u001b[0m\u001b[0;34m)\u001b[0m\u001b[0;34m\u001b[0m\u001b[0;34m\u001b[0m\u001b[0m\n\u001b[0m",
      "\u001b[0;31mFileNotFoundError\u001b[0m: [Errno 2] No such file or directory: 'notexist.txt'"
     ]
    }
   ],
   "source": [
    "open('notexist.txt')"
   ]
  },
  {
   "cell_type": "code",
   "execution_count": 3,
   "metadata": {},
   "outputs": [
    {
     "ename": "SyntaxError",
     "evalue": "invalid syntax (<ipython-input-3-82410af127ea>, line 1)",
     "output_type": "error",
     "traceback": [
      "\u001b[0;36m  File \u001b[0;32m\"<ipython-input-3-82410af127ea>\"\u001b[0;36m, line \u001b[0;32m1\u001b[0m\n\u001b[0;31m    for i in [1, 2]\u001b[0m\n\u001b[0m                   ^\u001b[0m\n\u001b[0;31mSyntaxError\u001b[0m\u001b[0;31m:\u001b[0m invalid syntax\n"
     ]
    }
   ],
   "source": [
    "for i in [1, 2]\n",
    "    print(i)"
   ]
  },
  {
   "cell_type": "markdown",
   "metadata": {},
   "source": [
    "Среди этих исключений отдельное место занимается `SyntaxError` -- это исключение возникает, когда программа имеет синтакстическую ошибку и вызывается в момент интерпретации кода, то есть до его запуска. Таким образом, если такая ошибка есть в вашем коде, то такая программа вообще не запустится."
   ]
  },
  {
   "cell_type": "markdown",
   "metadata": {},
   "source": [
    "## [Built-in exceptions](https://docs.python.org/3/library/exceptions.html)\n",
    "\n",
    "В Python существует ряд встроенных исключений:"
   ]
  },
  {
   "cell_type": "markdown",
   "metadata": {},
   "source": [
    "      BaseException\n",
    "      +-- SystemExit\n",
    "      +-- KeyboardInterrupt\n",
    "      +-- GeneratorExit\n",
    "      +-- Exception\n",
    "      +-- StopIteration\n",
    "      +-- StopAsyncIteration\n",
    "      +-- ArithmeticError\n",
    "      | +-- FloatingPointError\n",
    "      | +-- OverflowError\n",
    "      | +-- ZeroDivisionError\n",
    "      +-- AssertionError\n",
    "      +-- AttributeError\n",
    "      +-- BufferError\n",
    "      +-- EOFError\n",
    "      +-- ImportError\n",
    "      +-- ModuleNotFoundError\n",
    "      +-- LookupError\n",
    "      | +-- IndexError\n",
    "      | +-- KeyError\n",
    "      +-- MemoryError\n",
    "      +-- NameError\n",
    "      | +-- UnboundLocalError\n",
    "      +-- OSError\n",
    "      | +-- BlockingIOError\n",
    "      | +-- ChildProcessError\n",
    "      | +-- ConnectionError\n",
    "      | | +-- BrokenPipeError\n",
    "      | | +-- ConnectionAbortedError\n",
    "      | | +-- ConnectionRefusedError\n",
    "      | | +-- ConnectionResetError\n",
    "      | +-- FileExistsError\n",
    "      | +-- FileNotFoundError\n",
    "      | +-- InterruptedError\n",
    "      | +-- IsADirectoryError\n",
    "      | +-- NotADirectoryError\n",
    "      | +-- PermissionError\n",
    "      | +-- ProcessLookupError\n",
    "      | +-- TimeoutError\n",
    "      +-- ReferenceError\n",
    "      +-- RuntimeError\n",
    "      | +-- NotImplementedError\n",
    "      | +-- RecursionError\n",
    "      +-- SyntaxError\n",
    "      | +-- IndentationError\n",
    "      | +-- TabError\n",
    "      +-- SystemError\n",
    "      +-- TypeError\n",
    "      +-- ValueError\n",
    "      | +-- UnicodeError\n",
    "      | +-- UnicodeDecodeError\n",
    "      | +-- UnicodeEncodeError\n",
    "      | +-- UnicodeTranslateError\n",
    "      +-- Warning\n",
    "      +-- DeprecationWarning\n",
    "      +-- PendingDeprecationWarning\n",
    "      +-- RuntimeWarning\n",
    "      +-- SyntaxWarning\n",
    "      +-- UserWarning\n",
    "      +-- FutureWarning\n",
    "      +-- ImportWarning\n",
    "      +-- UnicodeWarning\n",
    "      +-- BytesWarning\n",
    "      +-- ResourceWarning"
   ]
  },
  {
   "cell_type": "markdown",
   "metadata": {},
   "source": [
    "## Raise\n",
    "\n",
    "Исключения можно вызывать самостоятельно с помощью ключевого слова `raise`"
   ]
  },
  {
   "cell_type": "code",
   "execution_count": 6,
   "metadata": {},
   "outputs": [
    {
     "ename": "NameError",
     "evalue": "HiThere",
     "output_type": "error",
     "traceback": [
      "\u001b[0;31m---------------------------------------------------------------------------\u001b[0m",
      "\u001b[0;31mNameError\u001b[0m                                 Traceback (most recent call last)",
      "\u001b[0;32m<ipython-input-6-72c183edb298>\u001b[0m in \u001b[0;36m<module>\u001b[0;34m\u001b[0m\n\u001b[0;32m----> 1\u001b[0;31m \u001b[0;32mraise\u001b[0m \u001b[0mNameError\u001b[0m\u001b[0;34m(\u001b[0m\u001b[0;34m'HiThere'\u001b[0m\u001b[0;34m)\u001b[0m\u001b[0;34m\u001b[0m\u001b[0;34m\u001b[0m\u001b[0m\n\u001b[0m",
      "\u001b[0;31mNameError\u001b[0m: HiThere"
     ]
    }
   ],
   "source": [
    "raise NameError('HiThere')"
   ]
  }
 ],
 "metadata": {
  "jupytext": {
   "formats": "ipynb//ipynb,py//py,md//md"
  },
  "kernelspec": {
   "display_name": "Python 3",
   "language": "python",
   "name": "python3"
  },
  "language_info": {
   "codemirror_mode": {
    "name": "ipython",
    "version": 3
   },
   "file_extension": ".py",
   "mimetype": "text/x-python",
   "name": "python",
   "nbconvert_exporter": "python",
   "pygments_lexer": "ipython3",
   "version": "3.6.8"
  }
 },
 "nbformat": 4,
 "nbformat_minor": 4
}

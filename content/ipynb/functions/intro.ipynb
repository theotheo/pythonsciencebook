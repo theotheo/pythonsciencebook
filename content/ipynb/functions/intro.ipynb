{
 "cells": [
  {
   "cell_type": "markdown",
   "metadata": {},
   "source": [
    "\n",
    "# Функции\n",
    "\n",
    "В Python, как и во многих других языках программирования можно создавать функции. Общий синтаксис выглядит так:\n",
    "\n",
    "```\n",
    "def name(arg1, arg2):\n",
    "    \"\"\"doc string\"\"\"\n",
    "    body\n",
    "    return stm\n",
    "```\n",
    "\n",
    "где:\n",
    "- name -- имя функции\n",
    "- arg1 и arg2 -- аргументы функции\n",
    "- doc string -- строка документации\n",
    "- body -- тело функции\n",
    "- `return` -- ключевой слово, обозначающее что из функции будет происходить возврат в этом месте и этого значения\n",
    "\n",
    "Соответственно использование данной функции выглядит примерно так:\n",
    "\n",
    "```\n",
    "my_var = name(a, b)\n",
    "```\n",
    "\n",
    "Посмотрим крайне простой пример"
   ]
  },
  {
   "cell_type": "code",
   "execution_count": 2,
   "metadata": {},
   "outputs": [],
   "source": [
    "def foo(i, j):\n",
    "    \"\"\"Умножим i на 3 и прибавим j\"\"\"\n",
    "    return i * 3 + j"
   ]
  },
  {
   "cell_type": "code",
   "execution_count": 3,
   "metadata": {},
   "outputs": [
    {
     "data": {
      "text/plain": [
       "5"
      ]
     },
     "execution_count": 3,
     "metadata": {},
     "output_type": "execute_result"
    }
   ],
   "source": [
    "foo(1, 2)"
   ]
  },
  {
   "cell_type": "code",
   "execution_count": null,
   "metadata": {},
   "outputs": [],
   "source": []
  }
 ],
 "metadata": {
  "kernelspec": {
   "display_name": "Python 3",
   "language": "python",
   "name": "python3"
  },
  "language_info": {
   "codemirror_mode": {
    "name": "ipython",
    "version": 3
   },
   "file_extension": ".py",
   "mimetype": "text/x-python",
   "name": "python",
   "nbconvert_exporter": "python",
   "pygments_lexer": "ipython3",
   "version": "3.6.8"
  }
 },
 "nbformat": 4,
 "nbformat_minor": 4
}

{
 "cells": [
  {
   "cell_type": "markdown",
   "metadata": {},
   "source": [
    "## Jupyter\n",
    "\n",
    "### extensions\n",
    "![](https://raw.githubusercontent.com/Jupyter-contrib/jupyter_nbextensions_configurator/master/src/jupyter_nbextensions_configurator/static/nbextensions_configurator/icon.png)\n",
    "\n",
    "https://jupyter-contrib-nbextensions.readthedocs.io/en/latest/\n",
    "https://github.com/Jupyter-contrib/jupyter_nbextensions_configurator\n",
    "\n",
    "### nbtutor\n",
    "`%load_ext nbtutor`\n",
    "\n",
    "`%%nbtutor`"
   ]
  },
  {
   "cell_type": "markdown",
   "metadata": {},
   "source": [
    "![](https://github.com/lgpage/nbtutor/blob/master/usage.gif)\n",
    "https://github.com/lgpage/nbtutor\n"
   ]
  }
 ],
 "metadata": {
  "jupytext": {
   "formats": "ipynb//ipynb,py//py,md//md"
  },
  "kernelspec": {
   "display_name": "Python 3",
   "language": "python",
   "name": "python3"
  },
  "language_info": {
   "codemirror_mode": {
    "name": "ipython",
    "version": 3
   },
   "file_extension": ".py",
   "mimetype": "text/x-python",
   "name": "python",
   "nbconvert_exporter": "python",
   "pygments_lexer": "ipython3",
   "version": "3.6.8"
  }
 },
 "nbformat": 4,
 "nbformat_minor": 2
}

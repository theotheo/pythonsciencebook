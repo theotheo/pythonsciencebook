{
 "cells": [],
 "metadata": {
  "jupytext": {
   "formats": "ipynb//ipynb,py//py,md//md"
  }
 },
 "nbformat": 4,
 "nbformat_minor": 2
}

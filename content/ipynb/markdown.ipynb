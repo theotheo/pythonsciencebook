{
 "cells": [
  {
   "cell_type": "markdown",
   "metadata": {},
   "source": [
    "![](https://pbs.twimg.com/media/BQsdVvSCcAAS5Rm.jpg)"
   ]
  },
  {
   "cell_type": "markdown",
   "metadata": {},
   "source": [
    "## Title "
   ]
  },
  {
   "cell_type": "markdown",
   "metadata": {},
   "source": [
    "## Subtitle"
   ]
  },
  {
   "cell_type": "markdown",
   "metadata": {},
   "source": [
    "*italic font*\n",
    "\n",
    "**жирный текст**\n"
   ]
  },
  {
   "cell_type": "markdown",
   "metadata": {},
   "source": [
    "немного кода на питоне\n",
    "```python\n",
    "def func(arg):\n",
    "    pass\n",
    "```"
   ]
  },
  {
   "cell_type": "markdown",
   "metadata": {},
   "source": [
    "немного кода на js\n",
    "```javascript\n",
    "func <- function(arg) {}\n",
    "```"
   ]
  },
  {
   "cell_type": "markdown",
   "metadata": {},
   "source": [
    "цитируем:\n",
    "\n",
    "> цитата\n"
   ]
  },
  {
   "cell_type": "markdown",
   "metadata": {},
   "source": [
    "[Spasibo Pasha Teper Vidno](http://yandex.ru)"
   ]
  },
  {
   "cell_type": "markdown",
   "metadata": {},
   "source": [
    "- [x] markdown\n",
    "- [ ] bash\n",
    "- [ ] python"
   ]
  },
  {
   "cell_type": "markdown",
   "metadata": {},
   "source": [
    "> hm\n",
    "> checklist doesn't work\n",
    "> !"
   ]
  }
 ],
 "metadata": {
  "jupytext": {
   "formats": "ipynb//ipynb,md//md,py//py"
  },
  "kernelspec": {
   "display_name": "Python 3",
   "language": "python",
   "name": "python3"
  },
  "language_info": {
   "codemirror_mode": {
    "name": "ipython",
    "version": 3
   },
   "file_extension": ".py",
   "mimetype": "text/x-python",
   "name": "python",
   "nbconvert_exporter": "python",
   "pygments_lexer": "ipython3",
   "version": "3.6.8"
  }
 },
 "nbformat": 4,
 "nbformat_minor": 2
}

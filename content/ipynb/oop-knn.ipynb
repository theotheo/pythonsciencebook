{
 "cells": [
  {
   "cell_type": "markdown",
   "metadata": {},
   "source": [
    "Схема алгоритма\n",
    "\n",
    "![](https://www.kdnuggets.com/wp-content/uploads/knn2.jpg)\n",
    "\n",
    "https://www.kdnuggets.com/2016/01/implementing-your-own-knn-using-python.html"
   ]
  },
  {
   "cell_type": "code",
   "execution_count": 5,
   "metadata": {},
   "outputs": [],
   "source": [
    "from sklearn.datasets import load_iris\n",
    "from sklearn.model_selection import train_test_split\n",
    "import numpy as np\n",
    " \n",
    "iris = load_iris()\n",
    "X_train, X_test, y_train, y_test = train_test_split(iris.data, iris.target, test_size=0.4, random_state=1)\n",
    " \n",
    "# reformat train/test datasets for convenience\n",
    "train = np.array(zip(X_train,y_train))\n",
    "test = np.array(zip(X_test, y_test))"
   ]
  }
 ],
 "metadata": {
  "kernelspec": {
   "display_name": "Python 3",
   "language": "python",
   "name": "python3"
  },
  "language_info": {
   "codemirror_mode": {
    "name": "ipython",
    "version": 3
   },
   "file_extension": ".py",
   "mimetype": "text/x-python",
   "name": "python",
   "nbconvert_exporter": "python",
   "pygments_lexer": "ipython3",
   "version": "3.6.8"
  }
 },
 "nbformat": 4,
 "nbformat_minor": 4
}
